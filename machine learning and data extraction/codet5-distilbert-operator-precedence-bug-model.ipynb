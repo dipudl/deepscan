{
 "cells": [
  {
   "cell_type": "code",
   "execution_count": null,
   "metadata": {
    "_cell_guid": "b1076dfc-b9ad-4769-8c92-a6c4dae69d19",
    "_uuid": "8f2839f25d086af736a60e9eeb907d3b93b6e0e5",
    "execution": {
     "iopub.execute_input": "2024-02-02T04:42:49.046528Z",
     "iopub.status.busy": "2024-02-02T04:42:49.046209Z",
     "iopub.status.idle": "2024-02-02T04:43:10.944776Z",
     "shell.execute_reply": "2024-02-02T04:43:10.943942Z",
     "shell.execute_reply.started": "2024-02-02T04:42:49.046500Z"
    }
   },
   "outputs": [],
   "source": [
    "import os\n",
    "import numpy as np\n",
    "import pandas as pd\n",
    "from sklearn.model_selection import train_test_split\n",
    "from sklearn.metrics import accuracy_score, precision_score, recall_score, f1_score\n",
    "\n",
    "from transformers import AutoModelForSequenceClassification, AutoTokenizer, Trainer, TrainerCallback, TrainingArguments, EarlyStoppingCallback\n",
    "from datasets import Dataset, load_dataset\n",
    "from copy import deepcopy\n",
    "\n",
    "os.environ[\"WANDB_DISABLED\"] = \"true\"\n",
    "os.environ[\"TOKENIZERS_PARALLELISM\"] = \"false\"\n",
    "\n",
    "RANDOM_STATE = 42"
   ]
  },
  {
   "cell_type": "code",
   "execution_count": null,
   "metadata": {
    "execution": {
     "iopub.execute_input": "2024-02-02T04:43:10.947821Z",
     "iopub.status.busy": "2024-02-02T04:43:10.946625Z",
     "iopub.status.idle": "2024-02-02T04:43:10.952504Z",
     "shell.execute_reply": "2024-02-02T04:43:10.951493Z",
     "shell.execute_reply.started": "2024-02-02T04:43:10.947782Z"
    }
   },
   "outputs": [],
   "source": [
    "id2label = {0: \"CORRECT\", 1: \"BUGGY\"}\n",
    "label2id = {\"CORRECT\": 0, \"BUGGY\": 1}"
   ]
  },
  {
   "cell_type": "code",
   "execution_count": null,
   "metadata": {
    "execution": {
     "iopub.execute_input": "2024-02-02T04:43:10.954003Z",
     "iopub.status.busy": "2024-02-02T04:43:10.953653Z",
     "iopub.status.idle": "2024-02-02T04:43:14.756164Z",
     "shell.execute_reply": "2024-02-02T04:43:14.755141Z",
     "shell.execute_reply.started": "2024-02-02T04:43:10.953955Z"
    }
   },
   "outputs": [],
   "source": [
    "tokenizer = AutoTokenizer.from_pretrained('dipudl/codet5-base')\n",
    "model = AutoModelForSequenceClassification.from_pretrained('distilbert-base-uncased',\n",
    "                                                           num_labels=2,\n",
    "                                                           id2label=id2label,\n",
    "                                                           label2id=label2id)"
   ]
  },
  {
   "cell_type": "code",
   "execution_count": null,
   "metadata": {
    "execution": {
     "iopub.execute_input": "2024-02-02T04:43:14.758642Z",
     "iopub.status.busy": "2024-02-02T04:43:14.758333Z",
     "iopub.status.idle": "2024-02-02T04:43:30.151224Z",
     "shell.execute_reply": "2024-02-02T04:43:30.150071Z",
     "shell.execute_reply.started": "2024-02-02T04:43:14.758615Z"
    }
   },
   "outputs": [],
   "source": [
    "!pip install huggingface_hub\n",
    "!python -c \"from huggingface_hub.hf_api import HfFolder; HfFolder.save_token('hf_...')\""
   ]
  },
  {
   "cell_type": "markdown",
   "metadata": {},
   "source": [
    "-----\n",
    "## Load Dataset\n",
    "-----"
   ]
  },
  {
   "cell_type": "code",
   "execution_count": null,
   "metadata": {
    "execution": {
     "iopub.execute_input": "2024-02-02T04:43:30.153119Z",
     "iopub.status.busy": "2024-02-02T04:43:30.152767Z",
     "iopub.status.idle": "2024-02-02T04:43:32.033011Z",
     "shell.execute_reply": "2024-02-02T04:43:32.032191Z",
     "shell.execute_reply.started": "2024-02-02T04:43:30.153085Z"
    }
   },
   "outputs": [],
   "source": [
    "train_df = pd.read_csv(\"/kaggle/input/c-operator-precedence-bug-dataset-split-shuffle/train__operator_precedence_bug_full_dataset_preprocessed.tsv\", sep=\"\\t\")\n",
    "validation_df = pd.read_csv(\"/kaggle/input/c-operator-precedence-bug-dataset-split-shuffle/validation__operator_precedence_bug_full_dataset_preprocessed.tsv\", sep=\"\\t\")\n",
    "test_df = pd.read_csv(\"/kaggle/input/c-operator-precedence-bug-dataset-split-shuffle/test__operator_precedence_bug_full_dataset_preprocessed.tsv\", sep=\"\\t\")"
   ]
  },
  {
   "cell_type": "code",
   "execution_count": null,
   "metadata": {
    "execution": {
     "iopub.execute_input": "2024-02-02T04:43:32.034805Z",
     "iopub.status.busy": "2024-02-02T04:43:32.034415Z",
     "iopub.status.idle": "2024-02-02T04:43:32.060838Z",
     "shell.execute_reply": "2024-02-02T04:43:32.059827Z",
     "shell.execute_reply.started": "2024-02-02T04:43:32.034771Z"
    }
   },
   "outputs": [],
   "source": [
    "train_df"
   ]
  },
  {
   "cell_type": "code",
   "execution_count": null,
   "metadata": {
    "execution": {
     "iopub.execute_input": "2024-02-02T04:43:32.062415Z",
     "iopub.status.busy": "2024-02-02T04:43:32.062097Z",
     "iopub.status.idle": "2024-02-02T04:43:32.074940Z",
     "shell.execute_reply": "2024-02-02T04:43:32.073785Z",
     "shell.execute_reply.started": "2024-02-02T04:43:32.062388Z"
    }
   },
   "outputs": [],
   "source": [
    "validation_df"
   ]
  },
  {
   "cell_type": "code",
   "execution_count": null,
   "metadata": {
    "execution": {
     "iopub.execute_input": "2024-02-02T04:43:32.076640Z",
     "iopub.status.busy": "2024-02-02T04:43:32.076273Z",
     "iopub.status.idle": "2024-02-02T04:43:32.091788Z",
     "shell.execute_reply": "2024-02-02T04:43:32.090739Z",
     "shell.execute_reply.started": "2024-02-02T04:43:32.076599Z"
    }
   },
   "outputs": [],
   "source": [
    "test_df"
   ]
  },
  {
   "cell_type": "code",
   "execution_count": null,
   "metadata": {
    "execution": {
     "iopub.execute_input": "2024-02-02T04:43:32.106035Z",
     "iopub.status.busy": "2024-02-02T04:43:32.105679Z",
     "iopub.status.idle": "2024-02-02T04:43:32.266878Z",
     "shell.execute_reply": "2024-02-02T04:43:32.265862Z",
     "shell.execute_reply.started": "2024-02-02T04:43:32.106004Z"
    }
   },
   "outputs": [],
   "source": [
    "train_df.isna().sum()"
   ]
  },
  {
   "cell_type": "code",
   "execution_count": null,
   "metadata": {
    "execution": {
     "iopub.execute_input": "2024-02-02T04:43:32.274455Z",
     "iopub.status.busy": "2024-02-02T04:43:32.274125Z",
     "iopub.status.idle": "2024-02-02T04:43:32.304811Z",
     "shell.execute_reply": "2024-02-02T04:43:32.303958Z",
     "shell.execute_reply.started": "2024-02-02T04:43:32.274427Z"
    }
   },
   "outputs": [],
   "source": [
    "validation_df.isna().sum()"
   ]
  },
  {
   "cell_type": "code",
   "execution_count": null,
   "metadata": {
    "execution": {
     "iopub.execute_input": "2024-02-02T04:43:32.306923Z",
     "iopub.status.busy": "2024-02-02T04:43:32.306288Z",
     "iopub.status.idle": "2024-02-02T04:43:32.333822Z",
     "shell.execute_reply": "2024-02-02T04:43:32.332876Z",
     "shell.execute_reply.started": "2024-02-02T04:43:32.306889Z"
    }
   },
   "outputs": [],
   "source": [
    "test_df.isna().sum()"
   ]
  },
  {
   "cell_type": "code",
   "execution_count": null,
   "metadata": {
    "execution": {
     "iopub.execute_input": "2024-02-02T04:43:32.343146Z",
     "iopub.status.busy": "2024-02-02T04:43:32.342749Z",
     "iopub.status.idle": "2024-02-02T04:43:32.356529Z",
     "shell.execute_reply": "2024-02-02T04:43:32.355619Z",
     "shell.execute_reply.started": "2024-02-02T04:43:32.343112Z"
    }
   },
   "outputs": [],
   "source": [
    "train_df.shape, validation_df.shape, test_df.shape"
   ]
  },
  {
   "cell_type": "code",
   "execution_count": null,
   "metadata": {
    "execution": {
     "iopub.execute_input": "2024-02-02T04:43:32.377724Z",
     "iopub.status.busy": "2024-02-02T04:43:32.377439Z",
     "iopub.status.idle": "2024-02-02T04:43:32.421855Z",
     "shell.execute_reply": "2024-02-02T04:43:32.420783Z",
     "shell.execute_reply.started": "2024-02-02T04:43:32.377700Z"
    }
   },
   "outputs": [],
   "source": [
    "train_df.drop(['file_path', 'method'], axis=1, inplace=True)\n",
    "validation_df.drop(['file_path', 'method'], axis=1, inplace=True)\n",
    "test_df.drop(['file_path', 'method'], axis=1, inplace=True)"
   ]
  },
  {
   "cell_type": "code",
   "execution_count": null,
   "metadata": {
    "execution": {
     "iopub.execute_input": "2024-02-02T04:43:32.423299Z",
     "iopub.status.busy": "2024-02-02T04:43:32.422901Z",
     "iopub.status.idle": "2024-02-02T04:43:32.448005Z",
     "shell.execute_reply": "2024-02-02T04:43:32.446537Z",
     "shell.execute_reply.started": "2024-02-02T04:43:32.423271Z"
    }
   },
   "outputs": [],
   "source": [
    "train_df.sample(5)"
   ]
  },
  {
   "cell_type": "code",
   "execution_count": null,
   "metadata": {
    "execution": {
     "iopub.execute_input": "2024-02-02T04:43:32.450734Z",
     "iopub.status.busy": "2024-02-02T04:43:32.449523Z",
     "iopub.status.idle": "2024-02-02T04:43:32.463675Z",
     "shell.execute_reply": "2024-02-02T04:43:32.462726Z",
     "shell.execute_reply.started": "2024-02-02T04:43:32.450685Z"
    }
   },
   "outputs": [],
   "source": [
    "validation_df.sample(5)"
   ]
  },
  {
   "cell_type": "code",
   "execution_count": null,
   "metadata": {
    "execution": {
     "iopub.execute_input": "2024-02-02T04:43:32.465668Z",
     "iopub.status.busy": "2024-02-02T04:43:32.464917Z",
     "iopub.status.idle": "2024-02-02T04:43:32.480028Z",
     "shell.execute_reply": "2024-02-02T04:43:32.479031Z",
     "shell.execute_reply.started": "2024-02-02T04:43:32.465629Z"
    }
   },
   "outputs": [],
   "source": [
    "test_df.sample(5)"
   ]
  },
  {
   "cell_type": "code",
   "execution_count": null,
   "metadata": {
    "execution": {
     "iopub.execute_input": "2024-02-02T04:43:32.481740Z",
     "iopub.status.busy": "2024-02-02T04:43:32.481428Z",
     "iopub.status.idle": "2024-02-02T04:43:32.494193Z",
     "shell.execute_reply": "2024-02-02T04:43:32.493251Z",
     "shell.execute_reply.started": "2024-02-02T04:43:32.481714Z"
    }
   },
   "outputs": [],
   "source": [
    "exp_for_checking = train_df.iloc[10].operator_expression\n",
    "\n",
    "print(exp_for_checking)\n",
    "print(\"-\" * 80)\n",
    "print(tokenizer.tokenize(exp_for_checking, truncation=True, max_length=128, padding=True))\n",
    "print(\"-\" * 80)\n",
    "print(tokenizer(exp_for_checking, truncation=True, max_length=128, padding=True))"
   ]
  },
  {
   "cell_type": "code",
   "execution_count": null,
   "metadata": {
    "execution": {
     "iopub.execute_input": "2024-02-02T04:43:32.495760Z",
     "iopub.status.busy": "2024-02-02T04:43:32.495449Z",
     "iopub.status.idle": "2024-02-02T04:43:32.500944Z",
     "shell.execute_reply": "2024-02-02T04:43:32.500044Z",
     "shell.execute_reply.started": "2024-02-02T04:43:32.495716Z"
    }
   },
   "outputs": [],
   "source": [
    "def tokenize_text(examples):\n",
    "    return tokenizer(examples[\"operator_expression\"], truncation=True, max_length=128, padding=True)"
   ]
  },
  {
   "cell_type": "code",
   "execution_count": null,
   "metadata": {
    "execution": {
     "iopub.execute_input": "2024-02-02T04:43:32.510882Z",
     "iopub.status.busy": "2024-02-02T04:43:32.510603Z",
     "iopub.status.idle": "2024-02-02T04:43:32.627574Z",
     "shell.execute_reply": "2024-02-02T04:43:32.626277Z",
     "shell.execute_reply.started": "2024-02-02T04:43:32.510854Z"
    }
   },
   "outputs": [],
   "source": [
    "train_dataset = Dataset.from_pandas(train_df)\n",
    "train_dataset"
   ]
  },
  {
   "cell_type": "code",
   "execution_count": null,
   "metadata": {
    "execution": {
     "iopub.execute_input": "2024-02-02T04:43:32.629333Z",
     "iopub.status.busy": "2024-02-02T04:43:32.628922Z",
     "iopub.status.idle": "2024-02-02T04:43:32.645068Z",
     "shell.execute_reply": "2024-02-02T04:43:32.644203Z",
     "shell.execute_reply.started": "2024-02-02T04:43:32.629296Z"
    }
   },
   "outputs": [],
   "source": [
    "validation_dataset = Dataset.from_pandas(validation_df)\n",
    "validation_dataset"
   ]
  },
  {
   "cell_type": "code",
   "execution_count": null,
   "metadata": {
    "execution": {
     "iopub.execute_input": "2024-02-02T04:43:32.647311Z",
     "iopub.status.busy": "2024-02-02T04:43:32.646256Z",
     "iopub.status.idle": "2024-02-02T04:43:32.661744Z",
     "shell.execute_reply": "2024-02-02T04:43:32.660946Z",
     "shell.execute_reply.started": "2024-02-02T04:43:32.647273Z"
    }
   },
   "outputs": [],
   "source": [
    "test_dataset = Dataset.from_pandas(test_df)\n",
    "test_dataset"
   ]
  },
  {
   "cell_type": "markdown",
   "metadata": {},
   "source": [
    "-----\n",
    "## Tokenization\n",
    "-----"
   ]
  },
  {
   "cell_type": "code",
   "execution_count": null,
   "metadata": {
    "execution": {
     "iopub.execute_input": "2024-02-02T04:43:32.669511Z",
     "iopub.status.busy": "2024-02-02T04:43:32.669222Z",
     "iopub.status.idle": "2024-02-02T04:44:34.195382Z",
     "shell.execute_reply": "2024-02-02T04:44:34.194443Z",
     "shell.execute_reply.started": "2024-02-02T04:43:32.669486Z"
    }
   },
   "outputs": [],
   "source": [
    "# train_dataset = train_dataset.map(tokenize_text, batched=True, remove_columns=[\"operator_expression\", \"__index_level_0__\"])\n",
    "train_dataset = train_dataset.map(tokenize_text, batched=True, remove_columns=[\"operator_expression\"])\n",
    "train_dataset"
   ]
  },
  {
   "cell_type": "code",
   "execution_count": null,
   "metadata": {
    "execution": {
     "iopub.execute_input": "2024-02-02T04:44:34.197019Z",
     "iopub.status.busy": "2024-02-02T04:44:34.196635Z",
     "iopub.status.idle": "2024-02-02T04:44:41.925469Z",
     "shell.execute_reply": "2024-02-02T04:44:41.924413Z",
     "shell.execute_reply.started": "2024-02-02T04:44:34.196968Z"
    }
   },
   "outputs": [],
   "source": [
    "# validation_dataset = validation_dataset.map(tokenize_text, batched=True, remove_columns=[\"operator_expression\", \"__index_level_0__\"])\n",
    "validation_dataset = validation_dataset.map(tokenize_text, batched=True, remove_columns=[\"operator_expression\"])\n",
    "validation_dataset"
   ]
  },
  {
   "cell_type": "code",
   "execution_count": null,
   "metadata": {
    "execution": {
     "iopub.execute_input": "2024-02-02T04:44:41.926964Z",
     "iopub.status.busy": "2024-02-02T04:44:41.926654Z",
     "iopub.status.idle": "2024-02-02T04:44:49.517082Z",
     "shell.execute_reply": "2024-02-02T04:44:49.516172Z",
     "shell.execute_reply.started": "2024-02-02T04:44:41.926936Z"
    }
   },
   "outputs": [],
   "source": [
    "# test_dataset = test_dataset.map(tokenize_text, batched=True, remove_columns=[\"operator_expression\", \"__index_level_0__\"])\n",
    "test_dataset = test_dataset.map(tokenize_text, batched=True, remove_columns=[\"operator_expression\"])\n",
    "test_dataset"
   ]
  },
  {
   "cell_type": "code",
   "execution_count": null,
   "metadata": {
    "execution": {
     "iopub.execute_input": "2024-02-02T04:44:49.518546Z",
     "iopub.status.busy": "2024-02-02T04:44:49.518248Z",
     "iopub.status.idle": "2024-02-02T04:44:49.523754Z",
     "shell.execute_reply": "2024-02-02T04:44:49.522862Z",
     "shell.execute_reply.started": "2024-02-02T04:44:49.518520Z"
    }
   },
   "outputs": [],
   "source": [
    "def softmax(x):\n",
    "    result = np.zeros_like(x)\n",
    "    \n",
    "    for i in range(len(x)):\n",
    "        result[i] = np.exp(x[i]) / np.sum(np.exp(x[i]), axis=0)\n",
    "    return result"
   ]
  },
  {
   "cell_type": "code",
   "execution_count": null,
   "metadata": {
    "execution": {
     "iopub.execute_input": "2024-02-02T04:44:49.525325Z",
     "iopub.status.busy": "2024-02-02T04:44:49.524967Z",
     "iopub.status.idle": "2024-02-02T04:44:49.534179Z",
     "shell.execute_reply": "2024-02-02T04:44:49.533384Z",
     "shell.execute_reply.started": "2024-02-02T04:44:49.525290Z"
    }
   },
   "outputs": [],
   "source": [
    "def compute_metrics(pred):\n",
    "    labels = pred.label_ids\n",
    "    preds = pred.predictions.argmax(-1)\n",
    "    accuracy = accuracy_score(labels, preds)\n",
    "    precision = precision_score(labels, preds)\n",
    "    recall = recall_score(labels, preds)\n",
    "    f1 = f1_score(labels, preds)\n",
    "    return {\"Accuracy\": accuracy, \"Precision\": precision, \"Recall\": recall, \"F1 Score\": f1}"
   ]
  },
  {
   "cell_type": "markdown",
   "metadata": {},
   "source": [
    "-----\n",
    "## Model Training\n",
    "-----"
   ]
  },
  {
   "cell_type": "code",
   "execution_count": null,
   "metadata": {
    "execution": {
     "iopub.execute_input": "2024-02-02T04:44:49.536376Z",
     "iopub.status.busy": "2024-02-02T04:44:49.535647Z",
     "iopub.status.idle": "2024-02-02T04:44:49.600782Z",
     "shell.execute_reply": "2024-02-02T04:44:49.599889Z",
     "shell.execute_reply.started": "2024-02-02T04:44:49.536324Z"
    }
   },
   "outputs": [],
   "source": [
    "# ! rm -rd /kaggle/working/codeT5-DistilBERT-function-swap-bug-model\n",
    "\n",
    "batch_size = 64\n",
    "logging_steps = len(train_dataset) // batch_size\n",
    "output_dir = \"codeT5-DistilBERT-operator-precedence-bug-model\"\n",
    "\n",
    "training_args = TrainingArguments(output_dir,\n",
    "                                  num_train_epochs=1,\n",
    "                                  learning_rate=2e-5,\n",
    "                                  per_device_train_batch_size=batch_size,\n",
    "                                  per_device_eval_batch_size=batch_size,\n",
    "                                  weight_decay = 0.01,\n",
    "                                  evaluation_strategy=\"epoch\",\n",
    "                                  logging_steps=logging_steps,\n",
    "                                  save_strategy=\"epoch\",\n",
    "                                  # save_steps=10000,\n",
    "                                  # fp16=True,\n",
    "                                  load_best_model_at_end=True,\n",
    "                                  metric_for_best_model='eval_loss',\n",
    "                                  greater_is_better=False,\n",
    "                                  push_to_hub=False\n",
    "                                )"
   ]
  },
  {
   "cell_type": "code",
   "execution_count": null,
   "metadata": {
    "execution": {
     "iopub.execute_input": "2024-02-02T04:44:49.602433Z",
     "iopub.status.busy": "2024-02-02T04:44:49.602088Z",
     "iopub.status.idle": "2024-02-02T04:44:49.612254Z",
     "shell.execute_reply": "2024-02-02T04:44:49.611359Z",
     "shell.execute_reply.started": "2024-02-02T04:44:49.602400Z"
    }
   },
   "outputs": [],
   "source": [
    "class CustomCallback(TrainerCallback):\n",
    "    \n",
    "    def __init__(self, trainer, test_dataset) -> None:\n",
    "        super().__init__()\n",
    "        self._trainer = trainer\n",
    "        self.test_dataset = test_dataset\n",
    "\n",
    "    def on_epoch_end(self, args, state, control, **kwargs):\n",
    "        if control.should_evaluate:\n",
    "            control_copy = deepcopy(control)\n",
    "            train_metrics = self._trainer.predict(self._trainer.train_dataset, metric_key_prefix=\"train\").metrics\n",
    "            eval_metrics = self._trainer.predict(self._trainer.eval_dataset, metric_key_prefix=\"eval\").metrics\n",
    "            test_metrics = self._trainer.predict(self.test_dataset, metric_key_prefix=\"test\").metrics\n",
    "            \n",
    "            print(\"Epoch:\", state.epoch)\n",
    "            print(train_metrics)\n",
    "            print(eval_metrics)\n",
    "            print(test_metrics)\n",
    "            \n",
    "            with open(\"log.txt\", \"a\") as file:\n",
    "                file.write(f\"Epoch: {state.epoch}\\n\")\n",
    "                file.write(f\"Train metrics: {train_metrics}\\n\")\n",
    "                file.write(f\"Eval metrics: {eval_metrics}\\n\")\n",
    "                file.write(f\"Test metrics: {test_metrics}\\n\")\n",
    "            \n",
    "            train = self._trainer.evaluate(eval_dataset=self._trainer.train_dataset, metric_key_prefix=\"train\")\n",
    "            self._trainer.evaluate(eval_dataset=test_dataset, metric_key_prefix=\"test\")\n",
    "            return control_copy"
   ]
  },
  {
   "cell_type": "code",
   "execution_count": null,
   "metadata": {
    "execution": {
     "iopub.execute_input": "2024-02-02T04:44:49.613629Z",
     "iopub.status.busy": "2024-02-02T04:44:49.613322Z",
     "iopub.status.idle": "2024-02-02T04:44:49.624286Z",
     "shell.execute_reply": "2024-02-02T04:44:49.623449Z",
     "shell.execute_reply.started": "2024-02-02T04:44:49.613604Z"
    }
   },
   "outputs": [],
   "source": [
    "early_stopping = EarlyStoppingCallback(\n",
    "    early_stopping_patience=2,      # number of evaluations to wait before stopping\n",
    "    early_stopping_threshold=0.01,  # threshold for relative improvement in metric\n",
    ")"
   ]
  },
  {
   "cell_type": "markdown",
   "metadata": {},
   "source": [
    "-----\n",
    "## Hyperparameters Search\n",
    "-----"
   ]
  },
  {
   "cell_type": "code",
   "execution_count": null,
   "metadata": {
    "execution": {
     "iopub.execute_input": "2024-02-02T04:44:49.625567Z",
     "iopub.status.busy": "2024-02-02T04:44:49.625309Z",
     "iopub.status.idle": "2024-02-02T04:44:49.635334Z",
     "shell.execute_reply": "2024-02-02T04:44:49.634507Z",
     "shell.execute_reply.started": "2024-02-02T04:44:49.625544Z"
    }
   },
   "outputs": [],
   "source": [
    "learning_rates = [0.000002, 0.00002, 0.0002, 0.002]\n",
    "batch_sizes = [64, 32]\n",
    "\n",
    "# Loop over the learning rates\n",
    "for lr in learning_rates:\n",
    "    for bs in batch_sizes:\n",
    "        # Update the learning rate in the TrainingArguments\n",
    "        training_args.learning_rate = lr\n",
    "        training_args.per_device_train_batch_size = bs\n",
    "        training_args.per_device_eval_batch_size = bs\n",
    "\n",
    "        # Create a new Trainer with the updated TrainingArguments\n",
    "        trainer = Trainer(\n",
    "            model=model,                         \n",
    "            args=training_args,                  \n",
    "            train_dataset=train_dataset,         \n",
    "            eval_dataset=validation_dataset,\n",
    "            tokenizer=tokenizer,\n",
    "            compute_metrics=compute_metrics,\n",
    "            callbacks=[early_stopping]\n",
    "        )\n",
    "\n",
    "        # Train the model and evaluate it on the validation set\n",
    "        trainer.train()\n",
    "        print(trainer.evaluate())"
   ]
  },
  {
   "cell_type": "markdown",
   "metadata": {},
   "source": [
    "-----\n",
    "## Choosing Best Hyperparameters and Training Final Model\n",
    "-----"
   ]
  },
  {
   "cell_type": "code",
   "execution_count": null,
   "metadata": {
    "execution": {
     "iopub.execute_input": "2024-02-02T04:44:49.636547Z",
     "iopub.status.busy": "2024-02-02T04:44:49.636302Z",
     "iopub.status.idle": "2024-02-02T04:44:49.901878Z",
     "shell.execute_reply": "2024-02-02T04:44:49.901020Z",
     "shell.execute_reply.started": "2024-02-02T04:44:49.636521Z"
    }
   },
   "outputs": [],
   "source": [
    "BEST_LEARNING_RATE = 2e-5\n",
    "BEST_BATCH_SIZE = 32\n",
    "training_args.learning_rate = BEST_LEARNING_RATE\n",
    "training_args.push_to_hub = False\n",
    "training_args.per_device_train_batch_size = BEST_BATCH_SIZE\n",
    "training_args.per_device_eval_batch_size = BEST_BATCH_SIZE\n",
    "\n",
    "print(\"\\n\\n\\nStarting training...\\n\")\n",
    "print(f\"Learning rate: {BEST_LEARNING_RATE}\\n\")\n",
    "print(f\"Batch size: {BEST_BATCH_SIZE}\\n\")\n",
    "print(\"*\" * 50 + \"\\n\")\n",
    "\n",
    "trainer = Trainer(\n",
    "    model=model,                         \n",
    "    args=training_args,                  \n",
    "    train_dataset=train_dataset,         \n",
    "    eval_dataset=validation_dataset,\n",
    "    tokenizer=tokenizer,\n",
    "    compute_metrics=compute_metrics,\n",
    "    callbacks=[early_stopping]\n",
    ")\n",
    "\n",
    "trainer.add_callback(CustomCallback(trainer, test_dataset))"
   ]
  },
  {
   "cell_type": "code",
   "execution_count": null,
   "metadata": {
    "execution": {
     "iopub.execute_input": "2024-02-02T04:44:49.903882Z",
     "iopub.status.busy": "2024-02-02T04:44:49.903247Z",
     "iopub.status.idle": "2024-02-02T06:24:11.501570Z",
     "shell.execute_reply": "2024-02-02T06:24:11.500627Z",
     "shell.execute_reply.started": "2024-02-02T04:44:49.903845Z"
    }
   },
   "outputs": [],
   "source": [
    "trainer.train()"
   ]
  },
  {
   "cell_type": "code",
   "execution_count": null,
   "metadata": {
    "execution": {
     "iopub.execute_input": "2024-02-02T06:24:11.502951Z",
     "iopub.status.busy": "2024-02-02T06:24:11.502681Z",
     "iopub.status.idle": "2024-02-02T06:24:12.062835Z",
     "shell.execute_reply": "2024-02-02T06:24:12.061775Z",
     "shell.execute_reply.started": "2024-02-02T06:24:11.502928Z"
    }
   },
   "outputs": [],
   "source": [
    "trainer.save_model(f\"codeT5-DistilBERT-operator-precedence-bug-model-{BEST_LEARNING_RATE}-{BEST_BATCH_SIZE}\")"
   ]
  },
  {
   "cell_type": "markdown",
   "metadata": {},
   "source": [
    "-----\n",
    "## Model Testing\n",
    "-----"
   ]
  },
  {
   "cell_type": "code",
   "execution_count": null,
   "metadata": {
    "execution": {
     "iopub.execute_input": "2024-02-02T06:24:12.064578Z",
     "iopub.status.busy": "2024-02-02T06:24:12.064208Z",
     "iopub.status.idle": "2024-02-02T06:26:34.245537Z",
     "shell.execute_reply": "2024-02-02T06:26:34.244489Z",
     "shell.execute_reply.started": "2024-02-02T06:24:12.064543Z"
    }
   },
   "outputs": [],
   "source": [
    "prediction = trainer.predict(test_dataset)"
   ]
  },
  {
   "cell_type": "code",
   "execution_count": null,
   "metadata": {
    "execution": {
     "iopub.execute_input": "2024-02-02T06:26:34.247050Z",
     "iopub.status.busy": "2024-02-02T06:26:34.246712Z",
     "iopub.status.idle": "2024-02-02T06:26:34.254064Z",
     "shell.execute_reply": "2024-02-02T06:26:34.253032Z",
     "shell.execute_reply.started": "2024-02-02T06:26:34.247021Z"
    }
   },
   "outputs": [],
   "source": [
    "prediction"
   ]
  },
  {
   "cell_type": "code",
   "execution_count": null,
   "metadata": {
    "execution": {
     "iopub.execute_input": "2024-02-02T06:26:34.255668Z",
     "iopub.status.busy": "2024-02-02T06:26:34.255320Z",
     "iopub.status.idle": "2024-02-02T06:26:34.266468Z",
     "shell.execute_reply": "2024-02-02T06:26:34.265553Z",
     "shell.execute_reply.started": "2024-02-02T06:26:34.255635Z"
    }
   },
   "outputs": [],
   "source": [
    "labels = prediction.label_ids\n",
    "labels"
   ]
  },
  {
   "cell_type": "code",
   "execution_count": null,
   "metadata": {
    "execution": {
     "iopub.execute_input": "2024-02-02T06:26:34.268277Z",
     "iopub.status.busy": "2024-02-02T06:26:34.267855Z",
     "iopub.status.idle": "2024-02-02T06:26:34.278935Z",
     "shell.execute_reply": "2024-02-02T06:26:34.277942Z",
     "shell.execute_reply.started": "2024-02-02T06:26:34.268239Z"
    }
   },
   "outputs": [],
   "source": [
    "preds = prediction.predictions.argmax(-1)\n",
    "preds"
   ]
  },
  {
   "cell_type": "code",
   "execution_count": null,
   "metadata": {
    "execution": {
     "iopub.execute_input": "2024-02-02T06:26:34.280275Z",
     "iopub.status.busy": "2024-02-02T06:26:34.280003Z",
     "iopub.status.idle": "2024-02-02T06:26:34.294178Z",
     "shell.execute_reply": "2024-02-02T06:26:34.293219Z",
     "shell.execute_reply.started": "2024-02-02T06:26:34.280252Z"
    }
   },
   "outputs": [],
   "source": [
    "print(f\"f1_score: {f1_score(labels, preds)}\")"
   ]
  },
  {
   "cell_type": "code",
   "execution_count": null,
   "metadata": {
    "execution": {
     "iopub.execute_input": "2024-02-02T06:26:34.296100Z",
     "iopub.status.busy": "2024-02-02T06:26:34.295450Z",
     "iopub.status.idle": "2024-02-02T06:26:35.047584Z",
     "shell.execute_reply": "2024-02-02T06:26:35.046694Z",
     "shell.execute_reply.started": "2024-02-02T06:26:34.296065Z"
    }
   },
   "outputs": [],
   "source": [
    "preds_probability = softmax(prediction.predictions)\n",
    "positive_preds_probability = preds_probability[:, 1]"
   ]
  },
  {
   "cell_type": "code",
   "execution_count": null,
   "metadata": {
    "execution": {
     "iopub.execute_input": "2024-02-02T06:26:35.049118Z",
     "iopub.status.busy": "2024-02-02T06:26:35.048753Z",
     "iopub.status.idle": "2024-02-02T06:26:35.292286Z",
     "shell.execute_reply": "2024-02-02T06:26:35.291353Z",
     "shell.execute_reply.started": "2024-02-02T06:26:35.049080Z"
    }
   },
   "outputs": [],
   "source": [
    "import matplotlib.pyplot as plt\n",
    "from sklearn.metrics import confusion_matrix, ConfusionMatrixDisplay\n",
    "\n",
    "cm = confusion_matrix(labels, preds, labels=[0, 1])\n",
    "print(f\"Confusion matrix: {cm}\")\n",
    "disp = ConfusionMatrixDisplay(confusion_matrix=cm, display_labels=[0, 1])\n",
    "disp.plot()\n",
    "plt.show()"
   ]
  },
  {
   "cell_type": "code",
   "execution_count": null,
   "metadata": {
    "execution": {
     "iopub.execute_input": "2024-02-02T06:26:35.293683Z",
     "iopub.status.busy": "2024-02-02T06:26:35.293409Z",
     "iopub.status.idle": "2024-02-02T06:26:35.481155Z",
     "shell.execute_reply": "2024-02-02T06:26:35.480163Z",
     "shell.execute_reply.started": "2024-02-02T06:26:35.293658Z"
    }
   },
   "outputs": [],
   "source": [
    "import sklearn.metrics as metrics\n",
    "\n",
    "fpr, tpr, threshold = metrics.roc_curve(labels, positive_preds_probability)\n",
    "roc_auc = metrics.auc(fpr, tpr)\n",
    "\n",
    "# method I: plt\n",
    "import matplotlib.pyplot as plt\n",
    "# plt.title('Receiver Operating Characteristic')\n",
    "plt.plot(fpr, tpr, 'b', label = 'AUC = %0.2f' % roc_auc)\n",
    "plt.legend(loc = 'lower right')\n",
    "plt.plot([0, 1], [0, 1],'r--')\n",
    "plt.xlim([0, 1])\n",
    "plt.ylim([0, 1])\n",
    "plt.ylabel('True Positive Rate')\n",
    "plt.xlabel('False Positive Rate')\n",
    "plt.show()"
   ]
  },
  {
   "cell_type": "code",
   "execution_count": null,
   "metadata": {
    "execution": {
     "iopub.execute_input": "2024-02-02T06:26:35.482403Z",
     "iopub.status.busy": "2024-02-02T06:26:35.482150Z",
     "iopub.status.idle": "2024-02-02T06:26:35.653039Z",
     "shell.execute_reply": "2024-02-02T06:26:35.652169Z",
     "shell.execute_reply.started": "2024-02-02T06:26:35.482379Z"
    }
   },
   "outputs": [],
   "source": [
    "precision, recall, threshold = metrics.precision_recall_curve(labels, positive_preds_probability)\n",
    "\n",
    "# plt.title('Precision-Recall Curve')\n",
    "plt.plot(recall, precision, 'b')\n",
    "plt.ylabel('Precision')\n",
    "plt.xlabel('Recall')\n",
    "\n",
    "plt.xlim([0, 1])\n",
    "plt.ylim([0, 1])\n",
    "\n",
    "plt.show()"
   ]
  },
  {
   "cell_type": "code",
   "execution_count": null,
   "metadata": {
    "execution": {
     "iopub.execute_input": "2024-02-02T06:26:35.654837Z",
     "iopub.status.busy": "2024-02-02T06:26:35.654407Z",
     "iopub.status.idle": "2024-02-02T06:26:35.666099Z",
     "shell.execute_reply": "2024-02-02T06:26:35.665104Z",
     "shell.execute_reply.started": "2024-02-02T06:26:35.654803Z"
    }
   },
   "outputs": [],
   "source": [
    "test_df"
   ]
  },
  {
   "cell_type": "code",
   "execution_count": null,
   "metadata": {
    "execution": {
     "iopub.execute_input": "2024-02-02T06:26:35.667926Z",
     "iopub.status.busy": "2024-02-02T06:26:35.667388Z",
     "iopub.status.idle": "2024-02-02T06:26:35.675098Z",
     "shell.execute_reply": "2024-02-02T06:26:35.674266Z",
     "shell.execute_reply.started": "2024-02-02T06:26:35.667887Z"
    }
   },
   "outputs": [],
   "source": [
    "test_df[\"predictions\"] = preds"
   ]
  },
  {
   "cell_type": "code",
   "execution_count": null,
   "metadata": {
    "execution": {
     "iopub.execute_input": "2024-02-02T06:26:35.676422Z",
     "iopub.status.busy": "2024-02-02T06:26:35.676138Z",
     "iopub.status.idle": "2024-02-02T06:26:35.691107Z",
     "shell.execute_reply": "2024-02-02T06:26:35.690174Z",
     "shell.execute_reply.started": "2024-02-02T06:26:35.676386Z"
    }
   },
   "outputs": [],
   "source": [
    "test_df"
   ]
  },
  {
   "cell_type": "code",
   "execution_count": null,
   "metadata": {
    "execution": {
     "iopub.execute_input": "2024-02-02T06:26:35.693010Z",
     "iopub.status.busy": "2024-02-02T06:26:35.692376Z",
     "iopub.status.idle": "2024-02-02T06:26:36.429791Z",
     "shell.execute_reply": "2024-02-02T06:26:36.428857Z",
     "shell.execute_reply.started": "2024-02-02T06:26:35.692955Z"
    }
   },
   "outputs": [],
   "source": [
    "positive_probabilities = softmax(prediction.predictions)[:, 1]\n",
    "positive_probabilities"
   ]
  },
  {
   "cell_type": "code",
   "execution_count": null,
   "metadata": {
    "execution": {
     "iopub.execute_input": "2024-02-02T06:26:36.431228Z",
     "iopub.status.busy": "2024-02-02T06:26:36.430922Z",
     "iopub.status.idle": "2024-02-02T06:26:36.445569Z",
     "shell.execute_reply": "2024-02-02T06:26:36.444627Z",
     "shell.execute_reply.started": "2024-02-02T06:26:36.431202Z"
    }
   },
   "outputs": [],
   "source": [
    "test_df[\"positive_probabilities\"] = positive_probabilities\n",
    "test_df"
   ]
  },
  {
   "cell_type": "code",
   "execution_count": null,
   "metadata": {
    "execution": {
     "iopub.execute_input": "2024-02-02T06:26:36.447919Z",
     "iopub.status.busy": "2024-02-02T06:26:36.447067Z",
     "iopub.status.idle": "2024-02-02T06:26:36.744765Z",
     "shell.execute_reply": "2024-02-02T06:26:36.743745Z",
     "shell.execute_reply.started": "2024-02-02T06:26:36.447893Z"
    }
   },
   "outputs": [],
   "source": [
    "test_df.to_csv(\"operator_precedence_bug_test_dataset_predictions.csv\", sep=\"\\t\", index=False)"
   ]
  }
 ],
 "metadata": {
  "kaggle": {
   "accelerator": "nvidiaTeslaT4",
   "dataSources": [
    {
     "datasetId": 4386385,
     "sourceId": 7531119,
     "sourceType": "datasetVersion"
    }
   ],
   "dockerImageVersionId": 30648,
   "isGpuEnabled": true,
   "isInternetEnabled": true,
   "language": "python",
   "sourceType": "notebook"
  },
  "kernelspec": {
   "display_name": "Python 3 (ipykernel)",
   "language": "python",
   "name": "python3"
  },
  "language_info": {
   "codemirror_mode": {
    "name": "ipython",
    "version": 3
   },
   "file_extension": ".py",
   "mimetype": "text/x-python",
   "name": "python",
   "nbconvert_exporter": "python",
   "pygments_lexer": "ipython3",
   "version": "3.10.12"
  },
  "vscode": {
   "interpreter": {
    "hash": "916dbcbb3f70747c44a77c7bcd40155683ae19c65e1c03b4aa3499c5328201f1"
   }
  }
 },
 "nbformat": 4,
 "nbformat_minor": 4
}
