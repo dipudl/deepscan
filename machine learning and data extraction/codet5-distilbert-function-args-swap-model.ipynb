{
 "cells": [
  {
   "cell_type": "code",
   "execution_count": null,
   "metadata": {
    "_cell_guid": "b1076dfc-b9ad-4769-8c92-a6c4dae69d19",
    "_uuid": "8f2839f25d086af736a60e9eeb907d3b93b6e0e5",
    "execution": {
     "iopub.execute_input": "2023-03-01T07:29:56.629710Z",
     "iopub.status.busy": "2023-03-01T07:29:56.629135Z",
     "iopub.status.idle": "2023-03-01T07:30:09.367066Z",
     "shell.execute_reply": "2023-03-01T07:30:09.365948Z",
     "shell.execute_reply.started": "2023-03-01T07:29:56.629594Z"
    }
   },
   "outputs": [],
   "source": [
    "import os\n",
    "import numpy as np\n",
    "import pandas as pd\n",
    "from sklearn.model_selection import train_test_split\n",
    "from sklearn.metrics import accuracy_score, precision_score, recall_score, f1_score\n",
    "\n",
    "from transformers import AutoModelForSequenceClassification, AutoTokenizer, Trainer, TrainerCallback, TrainingArguments, EarlyStoppingCallback\n",
    "from datasets import Dataset, load_dataset\n",
    "from copy import deepcopy\n",
    "\n",
    "os.environ[\"WANDB_DISABLED\"] = \"true\"\n",
    "# os.environ[\"TOKENIZERS_PARALLELISM\"] = \"false\"\n",
    "\n",
    "RANDOM_STATE = 42"
   ]
  },
  {
   "cell_type": "code",
   "execution_count": null,
   "metadata": {
    "execution": {
     "iopub.execute_input": "2023-03-01T07:30:15.069681Z",
     "iopub.status.busy": "2023-03-01T07:30:15.068568Z",
     "iopub.status.idle": "2023-03-01T07:30:15.075256Z",
     "shell.execute_reply": "2023-03-01T07:30:15.074228Z",
     "shell.execute_reply.started": "2023-03-01T07:30:15.069640Z"
    }
   },
   "outputs": [],
   "source": [
    "id2label = {0: \"CORRECT\", 1: \"BUGGY\"}\n",
    "label2id = {\"CORRECT\": 0, \"BUGGY\": 1}"
   ]
  },
  {
   "cell_type": "code",
   "execution_count": null,
   "metadata": {
    "execution": {
     "iopub.execute_input": "2023-03-01T07:31:12.930508Z",
     "iopub.status.busy": "2023-03-01T07:31:12.929348Z",
     "iopub.status.idle": "2023-03-01T07:31:22.909782Z",
     "shell.execute_reply": "2023-03-01T07:31:22.908785Z",
     "shell.execute_reply.started": "2023-03-01T07:31:12.930431Z"
    }
   },
   "outputs": [],
   "source": [
    "tokenizer = AutoTokenizer.from_pretrained('dipudl/codet5-base')\n",
    "model = AutoModelForSequenceClassification.from_pretrained(\n",
    "    'distilbert-base-uncased',\n",
    "    num_labels=2,\n",
    "    id2label=id2label,\n",
    "    label2id=label2id\n",
    ")\n",
    "\n",
    "# # Trained model\n",
    "# model = AutoModelForSequenceClassification.from_pretrained(\n",
    "#     'dipudl/function-args-swap-bug-distilbert-model',\n",
    "#     num_labels=2,\n",
    "#     id2label=id2label,\n",
    "#     label2id=label2id\n",
    "# )"
   ]
  },
  {
   "cell_type": "code",
   "execution_count": null,
   "metadata": {
    "execution": {
     "iopub.execute_input": "2023-03-01T07:31:22.912621Z",
     "iopub.status.busy": "2023-03-01T07:31:22.911900Z",
     "iopub.status.idle": "2023-03-01T07:31:24.159549Z",
     "shell.execute_reply": "2023-03-01T07:31:24.158221Z",
     "shell.execute_reply.started": "2023-03-01T07:31:22.912580Z"
    }
   },
   "outputs": [],
   "source": [
    "!pip install huggingface_hub\n",
    "!python -c \"from huggingface_hub.hf_api import HfFolder; HfFolder.save_token('XXXXXX')\""
   ]
  },
  {
   "cell_type": "markdown",
   "metadata": {},
   "source": [
    "-----\n",
    "## Load Dataset\n",
    "-----"
   ]
  },
  {
   "cell_type": "code",
   "execution_count": null,
   "metadata": {
    "execution": {
     "iopub.execute_input": "2023-03-01T07:37:19.304001Z",
     "iopub.status.busy": "2023-03-01T07:37:19.303287Z",
     "iopub.status.idle": "2023-03-01T07:37:20.363000Z",
     "shell.execute_reply": "2023-03-01T07:37:20.361889Z",
     "shell.execute_reply.started": "2023-03-01T07:37:19.303962Z"
    }
   },
   "outputs": [],
   "source": [
    "train_df = pd.read_csv(\"/kaggle/input/func-args-swap-dataset/func_args_dataset_filtered_train.csv\", sep=\"\\t\")\n",
    "test_df = pd.read_csv(\"/kaggle/input/func-args-swap-dataset/func_args_dataset_filtered_test.csv\", sep=\"\\t\")"
   ]
  },
  {
   "cell_type": "code",
   "execution_count": null,
   "metadata": {
    "execution": {
     "iopub.execute_input": "2023-03-01T07:37:20.428142Z",
     "iopub.status.busy": "2023-03-01T07:37:20.427825Z",
     "iopub.status.idle": "2023-03-01T07:37:20.459044Z",
     "shell.execute_reply": "2023-03-01T07:37:20.458152Z",
     "shell.execute_reply.started": "2023-03-01T07:37:20.428113Z"
    }
   },
   "outputs": [],
   "source": [
    "train_df.sample(10)"
   ]
  },
  {
   "cell_type": "code",
   "execution_count": null,
   "metadata": {
    "execution": {
     "iopub.execute_input": "2023-03-01T07:37:21.280863Z",
     "iopub.status.busy": "2023-03-01T07:37:21.280451Z",
     "iopub.status.idle": "2023-03-01T07:37:21.298368Z",
     "shell.execute_reply": "2023-03-01T07:37:21.297401Z",
     "shell.execute_reply.started": "2023-03-01T07:37:21.280831Z"
    }
   },
   "outputs": [],
   "source": [
    "test_df.sample(5)"
   ]
  },
  {
   "cell_type": "code",
   "execution_count": null,
   "metadata": {
    "execution": {
     "iopub.execute_input": "2023-03-01T07:37:24.560139Z",
     "iopub.status.busy": "2023-03-01T07:37:24.559750Z",
     "iopub.status.idle": "2023-03-01T07:37:24.567606Z",
     "shell.execute_reply": "2023-03-01T07:37:24.566535Z",
     "shell.execute_reply.started": "2023-03-01T07:37:24.560108Z"
    }
   },
   "outputs": [],
   "source": [
    "train_df.shape, test_df.shape"
   ]
  },
  {
   "cell_type": "code",
   "execution_count": null,
   "metadata": {
    "execution": {
     "iopub.execute_input": "2023-03-01T07:37:25.149387Z",
     "iopub.status.busy": "2023-03-01T07:37:25.148675Z",
     "iopub.status.idle": "2023-03-01T07:37:25.300537Z",
     "shell.execute_reply": "2023-03-01T07:37:25.299488Z",
     "shell.execute_reply.started": "2023-03-01T07:37:25.149349Z"
    }
   },
   "outputs": [],
   "source": [
    "train_df.isna().sum()"
   ]
  },
  {
   "cell_type": "code",
   "execution_count": null,
   "metadata": {
    "execution": {
     "iopub.execute_input": "2023-03-01T07:37:28.335973Z",
     "iopub.status.busy": "2023-03-01T07:37:28.335623Z",
     "iopub.status.idle": "2023-03-01T07:37:28.645120Z",
     "shell.execute_reply": "2023-03-01T07:37:28.643888Z",
     "shell.execute_reply.started": "2023-03-01T07:37:28.335943Z"
    }
   },
   "outputs": [],
   "source": [
    "train_df.dropna(subset=[\"function_name\", \"arg1\", \"arg2\"], inplace=True)\n",
    "train_df.isna().sum()"
   ]
  },
  {
   "cell_type": "code",
   "execution_count": null,
   "metadata": {
    "execution": {
     "iopub.execute_input": "2023-03-01T07:37:30.052320Z",
     "iopub.status.busy": "2023-03-01T07:37:30.051301Z",
     "iopub.status.idle": "2023-03-01T07:37:30.096340Z",
     "shell.execute_reply": "2023-03-01T07:37:30.095486Z",
     "shell.execute_reply.started": "2023-03-01T07:37:30.052275Z"
    }
   },
   "outputs": [],
   "source": [
    "test_df.isna().sum()"
   ]
  },
  {
   "cell_type": "code",
   "execution_count": null,
   "metadata": {
    "execution": {
     "iopub.execute_input": "2023-03-01T07:37:30.660048Z",
     "iopub.status.busy": "2023-03-01T07:37:30.659329Z",
     "iopub.status.idle": "2023-03-01T07:37:30.717390Z",
     "shell.execute_reply": "2023-03-01T07:37:30.716493Z",
     "shell.execute_reply.started": "2023-03-01T07:37:30.659996Z"
    }
   },
   "outputs": [],
   "source": [
    "test_df.dropna(subset=[\"function_name\", \"arg1\", \"arg2\"], inplace=True)\n",
    "test_df.isna().sum()"
   ]
  },
  {
   "cell_type": "code",
   "execution_count": null,
   "metadata": {
    "execution": {
     "iopub.execute_input": "2023-03-01T07:37:33.292066Z",
     "iopub.status.busy": "2023-03-01T07:37:33.291370Z",
     "iopub.status.idle": "2023-03-01T07:37:33.299394Z",
     "shell.execute_reply": "2023-03-01T07:37:33.298314Z",
     "shell.execute_reply.started": "2023-03-01T07:37:33.292031Z"
    }
   },
   "outputs": [],
   "source": [
    "train_df.shape, test_df.shape"
   ]
  },
  {
   "cell_type": "code",
   "execution_count": null,
   "metadata": {
    "execution": {
     "iopub.execute_input": "2023-03-01T07:31:40.625747Z",
     "iopub.status.busy": "2023-03-01T07:31:40.625309Z",
     "iopub.status.idle": "2023-03-01T07:31:40.826133Z",
     "shell.execute_reply": "2023-03-01T07:31:40.825472Z",
     "shell.execute_reply.started": "2023-03-01T07:31:40.625637Z"
    }
   },
   "outputs": [],
   "source": [
    "train_df['param1'] = train_df['param1'].fillna(tokenizer.unk_token)\n",
    "train_df['param2'] = train_df['param2'].fillna(tokenizer.unk_token)\n",
    "train_df.isna().sum()"
   ]
  },
  {
   "cell_type": "code",
   "execution_count": null,
   "metadata": {
    "execution": {
     "iopub.execute_input": "2023-03-01T07:31:40.828356Z",
     "iopub.status.busy": "2023-03-01T07:31:40.827389Z",
     "iopub.status.idle": "2023-03-01T07:31:40.977307Z",
     "shell.execute_reply": "2023-03-01T07:31:40.976344Z",
     "shell.execute_reply.started": "2023-03-01T07:31:40.828318Z"
    }
   },
   "outputs": [],
   "source": [
    "test_df['param1'] = test_df['param1'].fillna(tokenizer.unk_token)\n",
    "test_df['param2'] = test_df['param2'].fillna(tokenizer.unk_token)\n",
    "train_df.isna().sum()"
   ]
  },
  {
   "cell_type": "code",
   "execution_count": null,
   "metadata": {
    "execution": {
     "iopub.execute_input": "2023-03-01T07:31:40.979002Z",
     "iopub.status.busy": "2023-03-01T07:31:40.978641Z",
     "iopub.status.idle": "2023-03-01T07:31:41.780250Z",
     "shell.execute_reply": "2023-03-01T07:31:41.779190Z",
     "shell.execute_reply.started": "2023-03-01T07:31:40.978967Z"
    }
   },
   "outputs": [],
   "source": [
    "train_df['full_text'] = train_df['function_name'] + tokenizer.sep_token + train_df['arg1'] + tokenizer.sep_token + train_df['arg2'] + tokenizer.sep_token + train_df['arg_type'] + tokenizer.sep_token + train_df['param1'] + tokenizer.sep_token + train_df['param2']\n",
    "test_df['full_text'] = test_df['function_name'] + tokenizer.sep_token + test_df['arg1'] + tokenizer.sep_token + test_df['arg2'] + tokenizer.sep_token + test_df['arg_type'] + tokenizer.sep_token + test_df['param1'] + tokenizer.sep_token + test_df['param2']"
   ]
  },
  {
   "cell_type": "code",
   "execution_count": null,
   "metadata": {
    "execution": {
     "iopub.execute_input": "2023-03-01T07:31:41.782639Z",
     "iopub.status.busy": "2023-03-01T07:31:41.781931Z",
     "iopub.status.idle": "2023-03-01T07:31:42.011527Z",
     "shell.execute_reply": "2023-03-01T07:31:42.010591Z",
     "shell.execute_reply.started": "2023-03-01T07:31:41.782601Z"
    }
   },
   "outputs": [],
   "source": [
    "train_df.drop(['function_name','arg1','arg2','arg_type','param1','param2'], axis=1, inplace=True)\n",
    "test_df.drop(['function_name','arg1','arg2','arg_type','param1','param2'], axis=1, inplace=True)"
   ]
  },
  {
   "cell_type": "code",
   "execution_count": null,
   "metadata": {
    "execution": {
     "iopub.execute_input": "2023-03-01T07:31:42.018586Z",
     "iopub.status.busy": "2023-03-01T07:31:42.016253Z",
     "iopub.status.idle": "2023-03-01T07:31:42.050119Z",
     "shell.execute_reply": "2023-03-01T07:31:42.049163Z",
     "shell.execute_reply.started": "2023-03-01T07:31:42.018544Z"
    }
   },
   "outputs": [],
   "source": [
    "train_df.sample(5)"
   ]
  },
  {
   "cell_type": "code",
   "execution_count": null,
   "metadata": {
    "execution": {
     "iopub.execute_input": "2023-03-01T07:31:42.056817Z",
     "iopub.status.busy": "2023-03-01T07:31:42.054609Z",
     "iopub.status.idle": "2023-03-01T07:31:42.075569Z",
     "shell.execute_reply": "2023-03-01T07:31:42.074628Z",
     "shell.execute_reply.started": "2023-03-01T07:31:42.056779Z"
    }
   },
   "outputs": [],
   "source": [
    "test_df.sample(5)"
   ]
  },
  {
   "cell_type": "code",
   "execution_count": null,
   "metadata": {
    "execution": {
     "iopub.execute_input": "2023-03-01T07:31:42.083383Z",
     "iopub.status.busy": "2023-03-01T07:31:42.080303Z",
     "iopub.status.idle": "2023-03-01T07:31:42.106443Z",
     "shell.execute_reply": "2023-03-01T07:31:42.105792Z",
     "shell.execute_reply.started": "2023-03-01T07:31:42.083342Z"
    }
   },
   "outputs": [],
   "source": [
    "print(train_df.iloc[10].full_text)\n",
    "print(\"-\" * 80)\n",
    "print(tokenizer.tokenize(train_df.iloc[10].full_text))\n",
    "print(\"-\" * 80)\n",
    "print(tokenizer(train_df.iloc[10].full_text))"
   ]
  },
  {
   "cell_type": "code",
   "execution_count": null,
   "metadata": {
    "execution": {
     "iopub.execute_input": "2023-03-01T07:31:42.110525Z",
     "iopub.status.busy": "2023-03-01T07:31:42.110208Z",
     "iopub.status.idle": "2023-03-01T07:31:42.115467Z",
     "shell.execute_reply": "2023-03-01T07:31:42.114458Z",
     "shell.execute_reply.started": "2023-03-01T07:31:42.110485Z"
    }
   },
   "outputs": [],
   "source": [
    "def tokenize_text(examples):\n",
    "    return tokenizer(examples[\"full_text\"], truncation=True, max_length=128, padding=True)"
   ]
  },
  {
   "cell_type": "code",
   "execution_count": null,
   "metadata": {
    "execution": {
     "iopub.execute_input": "2023-03-01T07:31:42.120883Z",
     "iopub.status.busy": "2023-03-01T07:31:42.118515Z",
     "iopub.status.idle": "2023-03-01T07:31:42.216125Z",
     "shell.execute_reply": "2023-03-01T07:31:42.215131Z",
     "shell.execute_reply.started": "2023-03-01T07:31:42.120847Z"
    }
   },
   "outputs": [],
   "source": [
    "train_df, validation_df = train_test_split(train_df, test_size=0.1, random_state=RANDOM_STATE)\n",
    "train_df.shape, validation_df.shape"
   ]
  },
  {
   "cell_type": "code",
   "execution_count": null,
   "metadata": {
    "execution": {
     "iopub.execute_input": "2023-03-01T07:31:42.220955Z",
     "iopub.status.busy": "2023-03-01T07:31:42.220670Z",
     "iopub.status.idle": "2023-03-01T07:31:42.444403Z",
     "shell.execute_reply": "2023-03-01T07:31:42.443389Z",
     "shell.execute_reply.started": "2023-03-01T07:31:42.220930Z"
    }
   },
   "outputs": [],
   "source": [
    "train_dataset = Dataset.from_pandas(train_df)\n",
    "train_dataset"
   ]
  },
  {
   "cell_type": "code",
   "execution_count": null,
   "metadata": {
    "execution": {
     "iopub.execute_input": "2023-03-01T07:31:42.447226Z",
     "iopub.status.busy": "2023-03-01T07:31:42.446554Z",
     "iopub.status.idle": "2023-03-01T07:31:42.474444Z",
     "shell.execute_reply": "2023-03-01T07:31:42.473416Z",
     "shell.execute_reply.started": "2023-03-01T07:31:42.447185Z"
    }
   },
   "outputs": [],
   "source": [
    "validation_dataset = Dataset.from_pandas(validation_df)\n",
    "validation_dataset"
   ]
  },
  {
   "cell_type": "code",
   "execution_count": null,
   "metadata": {
    "execution": {
     "iopub.execute_input": "2023-03-01T07:31:42.476355Z",
     "iopub.status.busy": "2023-03-01T07:31:42.475993Z",
     "iopub.status.idle": "2023-03-01T07:31:42.499274Z",
     "shell.execute_reply": "2023-03-01T07:31:42.498451Z",
     "shell.execute_reply.started": "2023-03-01T07:31:42.476319Z"
    }
   },
   "outputs": [],
   "source": [
    "test_dataset = Dataset.from_pandas(test_df)\n",
    "test_dataset"
   ]
  },
  {
   "cell_type": "markdown",
   "metadata": {},
   "source": [
    "-----\n",
    "## Tokenization\n",
    "-----"
   ]
  },
  {
   "cell_type": "code",
   "execution_count": null,
   "metadata": {
    "execution": {
     "iopub.execute_input": "2023-03-01T07:31:42.501135Z",
     "iopub.status.busy": "2023-03-01T07:31:42.500802Z",
     "iopub.status.idle": "2023-03-01T07:32:23.368620Z",
     "shell.execute_reply": "2023-03-01T07:32:23.367465Z",
     "shell.execute_reply.started": "2023-03-01T07:31:42.501091Z"
    }
   },
   "outputs": [],
   "source": [
    "train_dataset = train_dataset.map(tokenize_text, batched=True, remove_columns=[\"full_text\", \"__index_level_0__\"])\n",
    "train_dataset"
   ]
  },
  {
   "cell_type": "code",
   "execution_count": null,
   "metadata": {
    "execution": {
     "iopub.execute_input": "2023-03-01T07:32:23.371034Z",
     "iopub.status.busy": "2023-03-01T07:32:23.370076Z",
     "iopub.status.idle": "2023-03-01T07:32:27.841720Z",
     "shell.execute_reply": "2023-03-01T07:32:27.840705Z",
     "shell.execute_reply.started": "2023-03-01T07:32:23.370994Z"
    }
   },
   "outputs": [],
   "source": [
    "validation_dataset = validation_dataset.map(tokenize_text, batched=True, remove_columns=[\"full_text\", \"__index_level_0__\"])\n",
    "validation_dataset"
   ]
  },
  {
   "cell_type": "code",
   "execution_count": null,
   "metadata": {
    "execution": {
     "iopub.execute_input": "2023-03-01T07:32:27.844695Z",
     "iopub.status.busy": "2023-03-01T07:32:27.843191Z",
     "iopub.status.idle": "2023-03-01T07:32:32.445095Z",
     "shell.execute_reply": "2023-03-01T07:32:32.444000Z",
     "shell.execute_reply.started": "2023-03-01T07:32:27.844654Z"
    }
   },
   "outputs": [],
   "source": [
    "test_dataset = test_dataset.map(tokenize_text, batched=True, remove_columns=[\"full_text\", \"__index_level_0__\"])\n",
    "test_dataset"
   ]
  },
  {
   "cell_type": "code",
   "execution_count": null,
   "metadata": {
    "execution": {
     "iopub.execute_input": "2023-03-01T07:36:02.976589Z",
     "iopub.status.busy": "2023-03-01T07:36:02.976175Z",
     "iopub.status.idle": "2023-03-01T07:36:02.982950Z",
     "shell.execute_reply": "2023-03-01T07:36:02.981813Z",
     "shell.execute_reply.started": "2023-03-01T07:36:02.976549Z"
    }
   },
   "outputs": [],
   "source": [
    "def softmax(x):\n",
    "    result = np.zeros_like(x)\n",
    "    \n",
    "    for i in range(len(x)):\n",
    "        result[i] = np.exp(x[i]) / np.sum(np.exp(x[i]), axis=0)\n",
    "    return result"
   ]
  },
  {
   "cell_type": "code",
   "execution_count": null,
   "metadata": {
    "execution": {
     "iopub.execute_input": "2023-03-01T07:32:32.447166Z",
     "iopub.status.busy": "2023-03-01T07:32:32.446777Z",
     "iopub.status.idle": "2023-03-01T07:32:32.454040Z",
     "shell.execute_reply": "2023-03-01T07:32:32.453060Z",
     "shell.execute_reply.started": "2023-03-01T07:32:32.447127Z"
    }
   },
   "outputs": [],
   "source": [
    "def compute_metrics(pred):\n",
    "    labels = pred.label_ids\n",
    "    preds = pred.predictions.argmax(-1)\n",
    "    accuracy = accuracy_score(labels, preds)\n",
    "    precision = precision_score(labels, preds)\n",
    "    recall = recall_score(labels, preds)\n",
    "    f1 = f1_score(labels, preds)\n",
    "    return {\"Accuracy\": accuracy, \"Precision\": precision, \"Recall\": recall, \"F1 Score\": f1}"
   ]
  },
  {
   "cell_type": "markdown",
   "metadata": {},
   "source": [
    "-----\n",
    "## Model Training\n",
    "-----"
   ]
  },
  {
   "cell_type": "code",
   "execution_count": null,
   "metadata": {
    "execution": {
     "iopub.execute_input": "2023-03-01T07:32:32.456293Z",
     "iopub.status.busy": "2023-03-01T07:32:32.455475Z",
     "iopub.status.idle": "2023-03-01T07:32:32.476715Z",
     "shell.execute_reply": "2023-03-01T07:32:32.475723Z",
     "shell.execute_reply.started": "2023-03-01T07:32:32.456258Z"
    }
   },
   "outputs": [],
   "source": [
    "# ! rm -rd /kaggle/working/codeT5-DistilBERT-function-swap-bug-model\n",
    "\n",
    "batch_size = 64\n",
    "logging_steps = len(train_dataset) // batch_size\n",
    "output_dir = \"codeT5-DistilBERT-function-swap-bug-model\"\n",
    "\n",
    "training_args = TrainingArguments(output_dir,\n",
    "                                  num_train_epochs=10,\n",
    "                                  learning_rate=2e-5,\n",
    "                                  per_device_train_batch_size=batch_size,\n",
    "                                  per_device_eval_batch_size=batch_size,\n",
    "                                  weight_decay = 0.01,\n",
    "                                  evaluation_strategy=\"epoch\",\n",
    "                                  logging_steps=logging_steps,\n",
    "                                  save_strategy=\"epoch\",\n",
    "                                  # save_steps=10000,\n",
    "                                  # fp16=True,\n",
    "                                  load_best_model_at_end=True,\n",
    "                                  metric_for_best_model='eval_loss',\n",
    "                                  greater_is_better=False,\n",
    "                                  push_to_hub=False\n",
    "                                )"
   ]
  },
  {
   "cell_type": "code",
   "execution_count": null,
   "metadata": {
    "execution": {
     "iopub.execute_input": "2023-03-01T07:32:32.478707Z",
     "iopub.status.busy": "2023-03-01T07:32:32.478306Z",
     "iopub.status.idle": "2023-03-01T07:32:32.489368Z",
     "shell.execute_reply": "2023-03-01T07:32:32.488469Z",
     "shell.execute_reply.started": "2023-03-01T07:32:32.478670Z"
    }
   },
   "outputs": [],
   "source": [
    "class CustomCallback(TrainerCallback):\n",
    "    \n",
    "    def __init__(self, trainer, test_dataset) -> None:\n",
    "        super().__init__()\n",
    "        self._trainer = trainer\n",
    "        self.test_dataset = test_dataset\n",
    "\n",
    "    def on_epoch_end(self, args, state, control, **kwargs):\n",
    "        if control.should_evaluate:\n",
    "            control_copy = deepcopy(control)\n",
    "            print(\"Epoch:\", state.epoch)\n",
    "            print(self._trainer.predict(self._trainer.train_dataset, metric_key_prefix=\"train\").metrics)\n",
    "            print(self._trainer.predict(self._trainer.eval_dataset, metric_key_prefix=\"eval\").metrics)\n",
    "            print(self._trainer.predict(self.test_dataset, metric_key_prefix=\"test\").metrics)\n",
    "            \n",
    "            train = self._trainer.evaluate(eval_dataset=self._trainer.train_dataset, metric_key_prefix=\"train\")\n",
    "            self._trainer.evaluate(eval_dataset=test_dataset, metric_key_prefix=\"test\")\n",
    "            return control_copy"
   ]
  },
  {
   "cell_type": "code",
   "execution_count": null,
   "metadata": {
    "execution": {
     "iopub.execute_input": "2023-03-01T07:32:32.491135Z",
     "iopub.status.busy": "2023-03-01T07:32:32.490775Z",
     "iopub.status.idle": "2023-03-01T07:32:32.505532Z",
     "shell.execute_reply": "2023-03-01T07:32:32.504567Z",
     "shell.execute_reply.started": "2023-03-01T07:32:32.491090Z"
    }
   },
   "outputs": [],
   "source": [
    "early_stopping = EarlyStoppingCallback(\n",
    "    early_stopping_patience=2,      # number of evaluations to wait before stopping\n",
    "    early_stopping_threshold=0.01,  # threshold for relative improvement in metric\n",
    ")"
   ]
  },
  {
   "cell_type": "markdown",
   "metadata": {},
   "source": [
    "-----\n",
    "## Choosing Best Hyperparameters and Training Final Model\n",
    "-----"
   ]
  },
  {
   "cell_type": "code",
   "execution_count": null,
   "metadata": {
    "execution": {
     "iopub.execute_input": "2023-02-27T03:38:57.447437Z",
     "iopub.status.busy": "2023-02-27T03:38:57.447049Z"
    }
   },
   "outputs": [],
   "source": [
    "learning_rates = [0.0002, 0.002, 0.00002, 0.000002]\n",
    "batch_sizes = [64, 32]\n",
    "\n",
    "# Loop over the learning rates\n",
    "for lr in learning_rates:\n",
    "    for bs in batch_sizes:\n",
    "        # Update the learning rate in the TrainingArguments\n",
    "        training_args.learning_rate = lr\n",
    "        training_args.per_device_train_batch_size = bs\n",
    "        training_args.per_device_eval_batch_size = bs\n",
    "\n",
    "        # Create a new Trainer with the updated TrainingArguments\n",
    "        trainer = Trainer(\n",
    "            model=model,                         \n",
    "            args=training_args,                  \n",
    "            train_dataset=train_dataset,         \n",
    "            eval_dataset=validation_dataset,\n",
    "            tokenizer=tokenizer,\n",
    "            compute_metrics=compute_metrics,\n",
    "            callbacks=[early_stopping]\n",
    "        )\n",
    "\n",
    "        # Train the model and evaluate it on the validation set\n",
    "        trainer.train()\n",
    "        print(trainer.evaluate())"
   ]
  },
  {
   "cell_type": "markdown",
   "metadata": {},
   "source": [
    "-----\n",
    "## Choosing Best Hyperparameters and Training Final Model\n",
    "-----"
   ]
  },
  {
   "cell_type": "code",
   "execution_count": null,
   "metadata": {
    "execution": {
     "iopub.execute_input": "2023-03-01T07:32:32.510643Z",
     "iopub.status.busy": "2023-03-01T07:32:32.510321Z",
     "iopub.status.idle": "2023-03-01T07:32:37.308069Z",
     "shell.execute_reply": "2023-03-01T07:32:37.307063Z",
     "shell.execute_reply.started": "2023-03-01T07:32:32.510618Z"
    }
   },
   "outputs": [],
   "source": [
    "BEST_LEARNING_RATE = 2e-5\n",
    "BEST_BATCH_SIZE = 64\n",
    "training_args.learning_rate = BEST_LEARNING_RATE\n",
    "training_args.push_to_hub = False\n",
    "training_args.per_device_train_batch_size = BEST_BATCH_SIZE\n",
    "training_args.per_device_eval_batch_size = BEST_BATCH_SIZE\n",
    "\n",
    "\n",
    "trainer = Trainer(\n",
    "    model=model,                         \n",
    "    args=training_args,                  \n",
    "    train_dataset=train_dataset,         \n",
    "    eval_dataset=validation_dataset,\n",
    "    tokenizer=tokenizer,\n",
    "    compute_metrics=compute_metrics,\n",
    "    callbacks=[early_stopping]\n",
    ")\n",
    "\n",
    "trainer.add_callback(CustomCallback(trainer, test_dataset)) "
   ]
  },
  {
   "cell_type": "code",
   "execution_count": null,
   "metadata": {
    "execution": {
     "iopub.execute_input": "2023-02-18T10:33:15.589020Z",
     "iopub.status.busy": "2023-02-18T10:33:15.587917Z",
     "iopub.status.idle": "2023-02-18T10:33:15.595017Z",
     "shell.execute_reply": "2023-02-18T10:33:15.593930Z",
     "shell.execute_reply.started": "2023-02-18T10:33:15.588974Z"
    }
   },
   "outputs": [],
   "source": [
    "trainer.train()"
   ]
  },
  {
   "cell_type": "code",
   "execution_count": null,
   "metadata": {},
   "outputs": [],
   "source": [
    "# trainer.save(\"codeT5-DistilBERT-function-swap-bug-model_5ep\")"
   ]
  },
  {
   "cell_type": "markdown",
   "metadata": {},
   "source": [
    "-----\n",
    "## Model Testing\n",
    "-----"
   ]
  },
  {
   "cell_type": "code",
   "execution_count": null,
   "metadata": {
    "execution": {
     "iopub.execute_input": "2023-03-01T07:33:29.528228Z",
     "iopub.status.busy": "2023-03-01T07:33:29.527530Z",
     "iopub.status.idle": "2023-03-01T07:34:48.416205Z",
     "shell.execute_reply": "2023-03-01T07:34:48.415125Z",
     "shell.execute_reply.started": "2023-03-01T07:33:29.528191Z"
    }
   },
   "outputs": [],
   "source": [
    "prediction = trainer.predict(test_dataset)"
   ]
  },
  {
   "cell_type": "code",
   "execution_count": null,
   "metadata": {
    "execution": {
     "iopub.execute_input": "2023-03-01T07:34:48.418585Z",
     "iopub.status.busy": "2023-03-01T07:34:48.418186Z",
     "iopub.status.idle": "2023-03-01T07:34:48.427503Z",
     "shell.execute_reply": "2023-03-01T07:34:48.426492Z",
     "shell.execute_reply.started": "2023-03-01T07:34:48.418545Z"
    }
   },
   "outputs": [],
   "source": [
    "prediction"
   ]
  },
  {
   "cell_type": "code",
   "execution_count": null,
   "metadata": {
    "execution": {
     "iopub.execute_input": "2023-03-01T07:34:48.429931Z",
     "iopub.status.busy": "2023-03-01T07:34:48.428827Z",
     "iopub.status.idle": "2023-03-01T07:34:48.448350Z",
     "shell.execute_reply": "2023-03-01T07:34:48.447469Z",
     "shell.execute_reply.started": "2023-03-01T07:34:48.429889Z"
    }
   },
   "outputs": [],
   "source": [
    "labels = prediction.label_ids\n",
    "labels"
   ]
  },
  {
   "cell_type": "code",
   "execution_count": null,
   "metadata": {
    "execution": {
     "iopub.execute_input": "2023-03-01T07:34:48.451934Z",
     "iopub.status.busy": "2023-03-01T07:34:48.451567Z",
     "iopub.status.idle": "2023-03-01T07:34:48.463058Z",
     "shell.execute_reply": "2023-03-01T07:34:48.462139Z",
     "shell.execute_reply.started": "2023-03-01T07:34:48.451898Z"
    }
   },
   "outputs": [],
   "source": [
    "preds = prediction.predictions.argmax(-1)\n",
    "preds"
   ]
  },
  {
   "cell_type": "code",
   "execution_count": null,
   "metadata": {
    "execution": {
     "iopub.execute_input": "2023-03-01T07:37:55.327487Z",
     "iopub.status.busy": "2023-03-01T07:37:55.327031Z",
     "iopub.status.idle": "2023-03-01T07:37:55.351388Z",
     "shell.execute_reply": "2023-03-01T07:37:55.350322Z",
     "shell.execute_reply.started": "2023-03-01T07:37:55.327414Z"
    }
   },
   "outputs": [],
   "source": [
    "f1_score(labels, preds)"
   ]
  },
  {
   "cell_type": "code",
   "execution_count": null,
   "metadata": {
    "execution": {
     "iopub.execute_input": "2023-03-01T07:38:07.652817Z",
     "iopub.status.busy": "2023-03-01T07:38:07.652406Z",
     "iopub.status.idle": "2023-03-01T07:38:08.261441Z",
     "shell.execute_reply": "2023-03-01T07:38:08.260353Z",
     "shell.execute_reply.started": "2023-03-01T07:38:07.652784Z"
    }
   },
   "outputs": [],
   "source": [
    "preds_probability = softmax(prediction.predictions)\n",
    "positive_preds_probability = preds_probability[:, 1]"
   ]
  },
  {
   "cell_type": "code",
   "execution_count": null,
   "metadata": {
    "execution": {
     "iopub.execute_input": "2023-03-01T08:07:15.818191Z",
     "iopub.status.busy": "2023-03-01T08:07:15.817783Z",
     "iopub.status.idle": "2023-03-01T08:07:16.049501Z",
     "shell.execute_reply": "2023-03-01T08:07:16.048401Z",
     "shell.execute_reply.started": "2023-03-01T08:07:15.818155Z"
    }
   },
   "outputs": [],
   "source": [
    "import sklearn.metrics as metrics\n",
    "\n",
    "fpr, tpr, threshold = metrics.roc_curve(labels, positive_preds_probability)\n",
    "roc_auc = metrics.auc(fpr, tpr)\n",
    "\n",
    "# method I: plt\n",
    "import matplotlib.pyplot as plt\n",
    "# plt.title('Receiver Operating Characteristic')\n",
    "plt.plot(fpr, tpr, 'b', label = 'AUC = %0.2f' % roc_auc)\n",
    "plt.legend(loc = 'lower right')\n",
    "plt.plot([0, 1], [0, 1],'r--')\n",
    "plt.xlim([0, 1])\n",
    "plt.ylim([0, 1])\n",
    "plt.ylabel('True Positive Rate')\n",
    "plt.xlabel('False Positive Rate')\n",
    "plt.show()"
   ]
  },
  {
   "cell_type": "code",
   "execution_count": null,
   "metadata": {
    "execution": {
     "iopub.execute_input": "2023-03-01T08:06:35.892239Z",
     "iopub.status.busy": "2023-03-01T08:06:35.891873Z",
     "iopub.status.idle": "2023-03-01T08:06:36.101714Z",
     "shell.execute_reply": "2023-03-01T08:06:36.100685Z",
     "shell.execute_reply.started": "2023-03-01T08:06:35.892207Z"
    }
   },
   "outputs": [],
   "source": [
    "precision, recall, threshold = metrics.precision_recall_curve(labels, positive_preds_probability)\n",
    "\n",
    "# plt.title('Precision-Recall Curve')\n",
    "plt.plot(recall, precision, 'b')\n",
    "plt.ylabel('Precision')\n",
    "plt.xlabel('Recall')\n",
    "\n",
    "plt.xlim([0, 1])\n",
    "plt.ylim([0, 1])\n",
    "\n",
    "plt.show()"
   ]
  },
  {
   "cell_type": "code",
   "execution_count": null,
   "metadata": {
    "execution": {
     "iopub.execute_input": "2023-03-01T07:38:18.038217Z",
     "iopub.status.busy": "2023-03-01T07:38:18.037836Z",
     "iopub.status.idle": "2023-03-01T07:38:18.055438Z",
     "shell.execute_reply": "2023-03-01T07:38:18.054473Z",
     "shell.execute_reply.started": "2023-03-01T07:38:18.038186Z"
    }
   },
   "outputs": [],
   "source": [
    "test_df"
   ]
  },
  {
   "cell_type": "code",
   "execution_count": null,
   "metadata": {
    "execution": {
     "iopub.execute_input": "2023-03-01T07:38:24.415841Z",
     "iopub.status.busy": "2023-03-01T07:38:24.415461Z",
     "iopub.status.idle": "2023-03-01T07:38:24.421962Z",
     "shell.execute_reply": "2023-03-01T07:38:24.420757Z",
     "shell.execute_reply.started": "2023-03-01T07:38:24.415809Z"
    }
   },
   "outputs": [],
   "source": [
    "test_df[\"predictions\"] = preds"
   ]
  },
  {
   "cell_type": "code",
   "execution_count": null,
   "metadata": {
    "execution": {
     "iopub.execute_input": "2023-03-01T07:38:27.914079Z",
     "iopub.status.busy": "2023-03-01T07:38:27.913348Z",
     "iopub.status.idle": "2023-03-01T07:38:27.934991Z",
     "shell.execute_reply": "2023-03-01T07:38:27.934105Z",
     "shell.execute_reply.started": "2023-03-01T07:38:27.914042Z"
    }
   },
   "outputs": [],
   "source": [
    "test_df"
   ]
  },
  {
   "cell_type": "code",
   "execution_count": null,
   "metadata": {
    "execution": {
     "iopub.execute_input": "2023-03-01T07:38:35.609614Z",
     "iopub.status.busy": "2023-03-01T07:38:35.609215Z",
     "iopub.status.idle": "2023-03-01T07:38:36.102365Z",
     "shell.execute_reply": "2023-03-01T07:38:36.101061Z",
     "shell.execute_reply.started": "2023-03-01T07:38:35.609579Z"
    }
   },
   "outputs": [],
   "source": [
    "positive_probabilities = softmax(prediction.predictions)[:, 1]\n",
    "positive_probabilities"
   ]
  },
  {
   "cell_type": "code",
   "execution_count": null,
   "metadata": {
    "execution": {
     "iopub.execute_input": "2023-03-01T07:39:22.714174Z",
     "iopub.status.busy": "2023-03-01T07:39:22.713546Z",
     "iopub.status.idle": "2023-03-01T07:39:22.747212Z",
     "shell.execute_reply": "2023-03-01T07:39:22.745971Z",
     "shell.execute_reply.started": "2023-03-01T07:39:22.714125Z"
    }
   },
   "outputs": [],
   "source": [
    "test_df[\"positive_probabilities\"] = positive_probabilities\n",
    "test_df"
   ]
  },
  {
   "cell_type": "code",
   "execution_count": null,
   "metadata": {
    "execution": {
     "iopub.execute_input": "2023-03-01T07:39:35.603673Z",
     "iopub.status.busy": "2023-03-01T07:39:35.603246Z",
     "iopub.status.idle": "2023-03-01T07:39:35.829999Z",
     "shell.execute_reply": "2023-03-01T07:39:35.828867Z",
     "shell.execute_reply.started": "2023-03-01T07:39:35.603631Z"
    }
   },
   "outputs": [],
   "source": [
    "test_df.to_csv(\"function_args_swap_test_dataset_predictions.csv\", sep=\"\\t\", index=False)"
   ]
  }
 ],
 "metadata": {
  "kernelspec": {
   "display_name": "Python 3.10.6 64-bit",
   "language": "python",
   "name": "python3"
  },
  "language_info": {
   "codemirror_mode": {
    "name": "ipython",
    "version": 3
   },
   "file_extension": ".py",
   "mimetype": "text/x-python",
   "name": "python",
   "nbconvert_exporter": "python",
   "pygments_lexer": "ipython3",
   "version": "3.10.12"
  },
  "vscode": {
   "interpreter": {
    "hash": "916dbcbb3f70747c44a77c7bcd40155683ae19c65e1c03b4aa3499c5328201f1"
   }
  }
 },
 "nbformat": 4,
 "nbformat_minor": 4
}
