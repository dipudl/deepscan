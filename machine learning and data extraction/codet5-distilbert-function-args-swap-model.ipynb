{
 "cells": [
  {
   "cell_type": "code",
   "execution_count": 1,
   "metadata": {
    "_cell_guid": "b1076dfc-b9ad-4769-8c92-a6c4dae69d19",
    "_uuid": "8f2839f25d086af736a60e9eeb907d3b93b6e0e5",
    "execution": {
     "iopub.execute_input": "2023-03-01T07:29:56.629710Z",
     "iopub.status.busy": "2023-03-01T07:29:56.629135Z",
     "iopub.status.idle": "2023-03-01T07:30:09.367066Z",
     "shell.execute_reply": "2023-03-01T07:30:09.365948Z",
     "shell.execute_reply.started": "2023-03-01T07:29:56.629594Z"
    }
   },
   "outputs": [],
   "source": [
    "import os\n",
    "import numpy as np\n",
    "import pandas as pd\n",
    "from sklearn.model_selection import train_test_split\n",
    "from sklearn.metrics import accuracy_score, precision_score, recall_score, f1_score\n",
    "\n",
    "from transformers import AutoModelForSequenceClassification, AutoTokenizer, Trainer, TrainerCallback, TrainingArguments, EarlyStoppingCallback\n",
    "from datasets import Dataset, load_dataset\n",
    "from copy import deepcopy\n",
    "\n",
    "os.environ[\"WANDB_DISABLED\"] = \"true\"\n",
    "# os.environ[\"TOKENIZERS_PARALLELISM\"] = \"false\"\n",
    "\n",
    "RANDOM_STATE = 42"
   ]
  },
  {
   "cell_type": "code",
   "execution_count": 2,
   "metadata": {
    "execution": {
     "iopub.execute_input": "2023-03-01T07:30:15.069681Z",
     "iopub.status.busy": "2023-03-01T07:30:15.068568Z",
     "iopub.status.idle": "2023-03-01T07:30:15.075256Z",
     "shell.execute_reply": "2023-03-01T07:30:15.074228Z",
     "shell.execute_reply.started": "2023-03-01T07:30:15.069640Z"
    }
   },
   "outputs": [],
   "source": [
    "id2label = {0: \"CORRECT\", 1: \"BUGGY\"}\n",
    "label2id = {\"CORRECT\": 0, \"BUGGY\": 1}"
   ]
  },
  {
   "cell_type": "code",
   "execution_count": 5,
   "metadata": {
    "execution": {
     "iopub.execute_input": "2023-03-01T07:31:12.930508Z",
     "iopub.status.busy": "2023-03-01T07:31:12.929348Z",
     "iopub.status.idle": "2023-03-01T07:31:22.909782Z",
     "shell.execute_reply": "2023-03-01T07:31:22.908785Z",
     "shell.execute_reply.started": "2023-03-01T07:31:12.930431Z"
    }
   },
   "outputs": [
    {
     "data": {
      "application/vnd.jupyter.widget-view+json": {
       "model_id": "1e394770400c4f3aa5fcec98b9019b5f",
       "version_major": 2,
       "version_minor": 0
      },
      "text/plain": [
       "Downloading:   0%|          | 0.00/727 [00:00<?, ?B/s]"
      ]
     },
     "metadata": {},
     "output_type": "display_data"
    },
    {
     "data": {
      "application/vnd.jupyter.widget-view+json": {
       "model_id": "4b668d2befe74b37beff000329f4b1a0",
       "version_major": 2,
       "version_minor": 0
      },
      "text/plain": [
       "Downloading:   0%|          | 0.00/255M [00:00<?, ?B/s]"
      ]
     },
     "metadata": {},
     "output_type": "display_data"
    }
   ],
   "source": [
    "tokenizer = AutoTokenizer.from_pretrained('dipudl/codet5-base')\n",
    "# model = AutoModelForSequenceClassification.from_pretrained('distilbert-base-uncased',\n",
    "#                                                            num_labels=2,\n",
    "#                                                            id2label=id2label,\n",
    "#                                                            label2id=label2id)\n",
    "model = AutoModelForSequenceClassification.from_pretrained('dipudl/function-args-swap-bug-distilbert-model',\n",
    "                                                           num_labels=2,\n",
    "                                                           id2label=id2label,\n",
    "                                                           label2id=label2id)"
   ]
  },
  {
   "cell_type": "code",
   "execution_count": 6,
   "metadata": {
    "execution": {
     "iopub.execute_input": "2023-03-01T07:31:22.912621Z",
     "iopub.status.busy": "2023-03-01T07:31:22.911900Z",
     "iopub.status.idle": "2023-03-01T07:31:24.159549Z",
     "shell.execute_reply": "2023-03-01T07:31:24.158221Z",
     "shell.execute_reply.started": "2023-03-01T07:31:22.912580Z"
    }
   },
   "outputs": [
    {
     "name": "stdout",
     "output_type": "stream",
     "text": [
      "/bin/bash: /opt/conda/lib/libtinfo.so.6: no version information available (required by /bin/bash)\n"
     ]
    }
   ],
   "source": [
    "!pip install huggingface_hub\n",
    "!python -c \"from huggingface_hub.hf_api import HfFolder; HfFolder.save_token('XXXXXX')\""
   ]
  },
  {
   "cell_type": "markdown",
   "metadata": {},
   "source": [
    "-----\n",
    "## Load Dataset\n",
    "-----"
   ]
  },
  {
   "cell_type": "code",
   "execution_count": 46,
   "metadata": {
    "execution": {
     "iopub.execute_input": "2023-03-01T07:37:19.304001Z",
     "iopub.status.busy": "2023-03-01T07:37:19.303287Z",
     "iopub.status.idle": "2023-03-01T07:37:20.363000Z",
     "shell.execute_reply": "2023-03-01T07:37:20.361889Z",
     "shell.execute_reply.started": "2023-03-01T07:37:19.303962Z"
    }
   },
   "outputs": [],
   "source": [
    "train_df = pd.read_csv(\"/kaggle/input/func-args-swap-dataset/func_args_dataset_filtered_train.csv\", sep=\"\\t\")\n",
    "test_df = pd.read_csv(\"/kaggle/input/func-args-swap-dataset/func_args_dataset_filtered_test.csv\", sep=\"\\t\")"
   ]
  },
  {
   "cell_type": "code",
   "execution_count": 47,
   "metadata": {
    "execution": {
     "iopub.execute_input": "2023-03-01T07:37:20.428142Z",
     "iopub.status.busy": "2023-03-01T07:37:20.427825Z",
     "iopub.status.idle": "2023-03-01T07:37:20.459044Z",
     "shell.execute_reply": "2023-03-01T07:37:20.458152Z",
     "shell.execute_reply.started": "2023-03-01T07:37:20.428113Z"
    }
   },
   "outputs": [
    {
     "data": {
      "text/html": [
       "<div>\n",
       "<style scoped>\n",
       "    .dataframe tbody tr th:only-of-type {\n",
       "        vertical-align: middle;\n",
       "    }\n",
       "\n",
       "    .dataframe tbody tr th {\n",
       "        vertical-align: top;\n",
       "    }\n",
       "\n",
       "    .dataframe thead th {\n",
       "        text-align: right;\n",
       "    }\n",
       "</style>\n",
       "<table border=\"1\" class=\"dataframe\">\n",
       "  <thead>\n",
       "    <tr style=\"text-align: right;\">\n",
       "      <th></th>\n",
       "      <th>file</th>\n",
       "      <th>function_name</th>\n",
       "      <th>arg1</th>\n",
       "      <th>arg2</th>\n",
       "      <th>arg_type</th>\n",
       "      <th>param1</th>\n",
       "      <th>param2</th>\n",
       "      <th>labels</th>\n",
       "    </tr>\n",
       "  </thead>\n",
       "  <tbody>\n",
       "    <tr>\n",
       "      <th>376907</th>\n",
       "      <td>cleaned/iaxproxy/main/channel.c</td>\n",
       "      <td>clone_variables</td>\n",
       "      <td>clonechan</td>\n",
       "      <td>original</td>\n",
       "      <td>struct ast_channel *</td>\n",
       "      <td>original</td>\n",
       "      <td>clonechan</td>\n",
       "      <td>1</td>\n",
       "    </tr>\n",
       "    <tr>\n",
       "      <th>174932</th>\n",
       "      <td>cleaned/jfsw/src/ripper.c</td>\n",
       "      <td>PickJumpMaxSpeed</td>\n",
       "      <td>SpriteNum</td>\n",
       "      <td>-400</td>\n",
       "      <td>short</td>\n",
       "      <td>SpriteNum</td>\n",
       "      <td>max_speed</td>\n",
       "      <td>0</td>\n",
       "    </tr>\n",
       "    <tr>\n",
       "      <th>418981</th>\n",
       "      <td>cleaned/dd-wrt/src/router/iproute2/ip/iproute.c</td>\n",
       "      <td>matches</td>\n",
       "      <td>*argv</td>\n",
       "      <td>cached</td>\n",
       "      <td>char *</td>\n",
       "      <td>NaN</td>\n",
       "      <td>NaN</td>\n",
       "      <td>0</td>\n",
       "    </tr>\n",
       "    <tr>\n",
       "      <th>416888</th>\n",
       "      <td>cleaned/vlc/modules/access/http.c</td>\n",
       "      <td>strcasecmp</td>\n",
       "      <td>psz</td>\n",
       "      <td>authentication-info</td>\n",
       "      <td>const char *</td>\n",
       "      <td>NaN</td>\n",
       "      <td>NaN</td>\n",
       "      <td>0</td>\n",
       "    </tr>\n",
       "    <tr>\n",
       "      <th>218394</th>\n",
       "      <td>cleaned/fence-virt/server/tcp.c</td>\n",
       "      <td>strcasecmp</td>\n",
       "      <td>ipv4</td>\n",
       "      <td>value</td>\n",
       "      <td>const char *</td>\n",
       "      <td>__s1</td>\n",
       "      <td>__s2</td>\n",
       "      <td>1</td>\n",
       "    </tr>\n",
       "    <tr>\n",
       "      <th>387021</th>\n",
       "      <td>cleaned/tos-sfsu-fall2012/kernel/shell.c</td>\n",
       "      <td>is_command</td>\n",
       "      <td>vga</td>\n",
       "      <td>command</td>\n",
       "      <td>char *</td>\n",
       "      <td>s1</td>\n",
       "      <td>s2</td>\n",
       "      <td>1</td>\n",
       "    </tr>\n",
       "    <tr>\n",
       "      <th>132009</th>\n",
       "      <td>cleaned/reconos/core/ecos/ecos-patched/ecos/pa...</td>\n",
       "      <td>strcmp</td>\n",
       "      <td>argv[t]</td>\n",
       "      <td>-N</td>\n",
       "      <td>const char *</td>\n",
       "      <td>__s1</td>\n",
       "      <td>__s2</td>\n",
       "      <td>1</td>\n",
       "    </tr>\n",
       "    <tr>\n",
       "      <th>135329</th>\n",
       "      <td>cleaned/linux/drivers/hwmon/pmbus/lm25066.c</td>\n",
       "      <td>DIV_ROUND_CLOSEST</td>\n",
       "      <td>ret*70</td>\n",
       "      <td>453</td>\n",
       "      <td>int</td>\n",
       "      <td>NaN</td>\n",
       "      <td>NaN</td>\n",
       "      <td>0</td>\n",
       "    </tr>\n",
       "    <tr>\n",
       "      <th>359428</th>\n",
       "      <td>cleaned/libav/libavformat/rtmpproto.c</td>\n",
       "      <td>strstr</td>\n",
       "      <td>desc</td>\n",
       "      <td>?reason=authfailed</td>\n",
       "      <td>const char *</td>\n",
       "      <td>__haystack</td>\n",
       "      <td>__needle</td>\n",
       "      <td>0</td>\n",
       "    </tr>\n",
       "    <tr>\n",
       "      <th>339545</th>\n",
       "      <td>cleaned/wterm/src/vttest/esc.c</td>\n",
       "      <td>brc</td>\n",
       "      <td>'A'</td>\n",
       "      <td>pn</td>\n",
       "      <td>int</td>\n",
       "      <td>pn</td>\n",
       "      <td>c</td>\n",
       "      <td>1</td>\n",
       "    </tr>\n",
       "  </tbody>\n",
       "</table>\n",
       "</div>"
      ],
      "text/plain": [
       "                                                     file      function_name  \\\n",
       "376907                    cleaned/iaxproxy/main/channel.c    clone_variables   \n",
       "174932                          cleaned/jfsw/src/ripper.c   PickJumpMaxSpeed   \n",
       "418981    cleaned/dd-wrt/src/router/iproute2/ip/iproute.c            matches   \n",
       "416888                  cleaned/vlc/modules/access/http.c         strcasecmp   \n",
       "218394                    cleaned/fence-virt/server/tcp.c         strcasecmp   \n",
       "387021           cleaned/tos-sfsu-fall2012/kernel/shell.c         is_command   \n",
       "132009  cleaned/reconos/core/ecos/ecos-patched/ecos/pa...             strcmp   \n",
       "135329        cleaned/linux/drivers/hwmon/pmbus/lm25066.c  DIV_ROUND_CLOSEST   \n",
       "359428              cleaned/libav/libavformat/rtmpproto.c             strstr   \n",
       "339545                     cleaned/wterm/src/vttest/esc.c                brc   \n",
       "\n",
       "             arg1                 arg2              arg_type      param1  \\\n",
       "376907  clonechan             original  struct ast_channel *    original   \n",
       "174932  SpriteNum                 -400                 short   SpriteNum   \n",
       "418981      *argv               cached                char *         NaN   \n",
       "416888        psz  authentication-info          const char *         NaN   \n",
       "218394       ipv4                value          const char *        __s1   \n",
       "387021        vga              command                char *          s1   \n",
       "132009    argv[t]                   -N          const char *        __s1   \n",
       "135329     ret*70                  453                   int         NaN   \n",
       "359428       desc   ?reason=authfailed          const char *  __haystack   \n",
       "339545        'A'                   pn                   int          pn   \n",
       "\n",
       "           param2  labels  \n",
       "376907  clonechan       1  \n",
       "174932  max_speed       0  \n",
       "418981        NaN       0  \n",
       "416888        NaN       0  \n",
       "218394       __s2       1  \n",
       "387021         s2       1  \n",
       "132009       __s2       1  \n",
       "135329        NaN       0  \n",
       "359428   __needle       0  \n",
       "339545          c       1  "
      ]
     },
     "execution_count": 47,
     "metadata": {},
     "output_type": "execute_result"
    }
   ],
   "source": [
    "train_df.sample(10)"
   ]
  },
  {
   "cell_type": "code",
   "execution_count": 48,
   "metadata": {
    "execution": {
     "iopub.execute_input": "2023-03-01T07:37:21.280863Z",
     "iopub.status.busy": "2023-03-01T07:37:21.280451Z",
     "iopub.status.idle": "2023-03-01T07:37:21.298368Z",
     "shell.execute_reply": "2023-03-01T07:37:21.297401Z",
     "shell.execute_reply.started": "2023-03-01T07:37:21.280831Z"
    }
   },
   "outputs": [
    {
     "data": {
      "text/html": [
       "<div>\n",
       "<style scoped>\n",
       "    .dataframe tbody tr th:only-of-type {\n",
       "        vertical-align: middle;\n",
       "    }\n",
       "\n",
       "    .dataframe tbody tr th {\n",
       "        vertical-align: top;\n",
       "    }\n",
       "\n",
       "    .dataframe thead th {\n",
       "        text-align: right;\n",
       "    }\n",
       "</style>\n",
       "<table border=\"1\" class=\"dataframe\">\n",
       "  <thead>\n",
       "    <tr style=\"text-align: right;\">\n",
       "      <th></th>\n",
       "      <th>file</th>\n",
       "      <th>function_name</th>\n",
       "      <th>arg1</th>\n",
       "      <th>arg2</th>\n",
       "      <th>arg_type</th>\n",
       "      <th>param1</th>\n",
       "      <th>param2</th>\n",
       "      <th>labels</th>\n",
       "    </tr>\n",
       "  </thead>\n",
       "  <tbody>\n",
       "    <tr>\n",
       "      <th>36555</th>\n",
       "      <td>cleaned/unvanquished/src/libs/glsl-optimizer/s...</td>\n",
       "      <td>ralloc_steal</td>\n",
       "      <td>(yyval.string_list)</td>\n",
       "      <td>(yyvsp[(3)-(3)].str)</td>\n",
       "      <td>&lt;dependent type&gt;</td>\n",
       "      <td>NaN</td>\n",
       "      <td>NaN</td>\n",
       "      <td>0</td>\n",
       "    </tr>\n",
       "    <tr>\n",
       "      <th>29580</th>\n",
       "      <td>cleaned/cox/CoX/Driver/LCD_Graphic/SSD1298/SSD...</td>\n",
       "      <td>LCD_WriteReg</td>\n",
       "      <td>0x00BB</td>\n",
       "      <td>0x1E</td>\n",
       "      <td>unsigned short</td>\n",
       "      <td>usCmd</td>\n",
       "      <td>usValue</td>\n",
       "      <td>1</td>\n",
       "    </tr>\n",
       "    <tr>\n",
       "      <th>16924</th>\n",
       "      <td>cleaned/fvwm/fvwm/style.c</td>\n",
       "      <td>StrEquals</td>\n",
       "      <td>token</td>\n",
       "      <td>Slippery</td>\n",
       "      <td>char *</td>\n",
       "      <td>NaN</td>\n",
       "      <td>NaN</td>\n",
       "      <td>0</td>\n",
       "    </tr>\n",
       "    <tr>\n",
       "      <th>21110</th>\n",
       "      <td>cleaned/snippets/c/net/tcp/cracker/client.c</td>\n",
       "      <td>crypt</td>\n",
       "      <td>passwd</td>\n",
       "      <td>pass_attempt</td>\n",
       "      <td>const char *</td>\n",
       "      <td>__key</td>\n",
       "      <td>__salt</td>\n",
       "      <td>1</td>\n",
       "    </tr>\n",
       "    <tr>\n",
       "      <th>49806</th>\n",
       "      <td>cleaned/pbrt-v2/src/tools/ply.c</td>\n",
       "      <td>equal_strings</td>\n",
       "      <td>end_header</td>\n",
       "      <td>words[0]</td>\n",
       "      <td>char *</td>\n",
       "      <td>NaN</td>\n",
       "      <td>NaN</td>\n",
       "      <td>1</td>\n",
       "    </tr>\n",
       "  </tbody>\n",
       "</table>\n",
       "</div>"
      ],
      "text/plain": [
       "                                                    file  function_name  \\\n",
       "36555  cleaned/unvanquished/src/libs/glsl-optimizer/s...   ralloc_steal   \n",
       "29580  cleaned/cox/CoX/Driver/LCD_Graphic/SSD1298/SSD...   LCD_WriteReg   \n",
       "16924                          cleaned/fvwm/fvwm/style.c      StrEquals   \n",
       "21110        cleaned/snippets/c/net/tcp/cracker/client.c          crypt   \n",
       "49806                    cleaned/pbrt-v2/src/tools/ply.c  equal_strings   \n",
       "\n",
       "                      arg1                  arg2          arg_type param1  \\\n",
       "36555  (yyval.string_list)  (yyvsp[(3)-(3)].str)  <dependent type>    NaN   \n",
       "29580               0x00BB                  0x1E    unsigned short  usCmd   \n",
       "16924                token              Slippery            char *    NaN   \n",
       "21110               passwd          pass_attempt      const char *  __key   \n",
       "49806           end_header              words[0]            char *    NaN   \n",
       "\n",
       "        param2  labels  \n",
       "36555      NaN       0  \n",
       "29580  usValue       1  \n",
       "16924      NaN       0  \n",
       "21110   __salt       1  \n",
       "49806      NaN       1  "
      ]
     },
     "execution_count": 48,
     "metadata": {},
     "output_type": "execute_result"
    }
   ],
   "source": [
    "test_df.sample(5)"
   ]
  },
  {
   "cell_type": "code",
   "execution_count": 49,
   "metadata": {
    "execution": {
     "iopub.execute_input": "2023-03-01T07:37:24.560139Z",
     "iopub.status.busy": "2023-03-01T07:37:24.559750Z",
     "iopub.status.idle": "2023-03-01T07:37:24.567606Z",
     "shell.execute_reply": "2023-03-01T07:37:24.566535Z",
     "shell.execute_reply.started": "2023-03-01T07:37:24.560108Z"
    }
   },
   "outputs": [
    {
     "data": {
      "text/plain": [
       "((486534, 8), (54060, 8))"
      ]
     },
     "execution_count": 49,
     "metadata": {},
     "output_type": "execute_result"
    }
   ],
   "source": [
    "train_df.shape, test_df.shape"
   ]
  },
  {
   "cell_type": "code",
   "execution_count": 50,
   "metadata": {
    "execution": {
     "iopub.execute_input": "2023-03-01T07:37:25.149387Z",
     "iopub.status.busy": "2023-03-01T07:37:25.148675Z",
     "iopub.status.idle": "2023-03-01T07:37:25.300537Z",
     "shell.execute_reply": "2023-03-01T07:37:25.299488Z",
     "shell.execute_reply.started": "2023-03-01T07:37:25.149349Z"
    }
   },
   "outputs": [
    {
     "data": {
      "text/plain": [
       "file                  0\n",
       "function_name      2216\n",
       "arg1               3151\n",
       "arg2               3151\n",
       "arg_type              0\n",
       "param1           325066\n",
       "param2           325024\n",
       "labels                0\n",
       "dtype: int64"
      ]
     },
     "execution_count": 50,
     "metadata": {},
     "output_type": "execute_result"
    }
   ],
   "source": [
    "train_df.isna().sum()"
   ]
  },
  {
   "cell_type": "code",
   "execution_count": 51,
   "metadata": {
    "execution": {
     "iopub.execute_input": "2023-03-01T07:37:28.335973Z",
     "iopub.status.busy": "2023-03-01T07:37:28.335623Z",
     "iopub.status.idle": "2023-03-01T07:37:28.645120Z",
     "shell.execute_reply": "2023-03-01T07:37:28.643888Z",
     "shell.execute_reply.started": "2023-03-01T07:37:28.335943Z"
    }
   },
   "outputs": [
    {
     "data": {
      "text/plain": [
       "file                  0\n",
       "function_name         0\n",
       "arg1                  0\n",
       "arg2                  0\n",
       "arg_type              0\n",
       "param1           319126\n",
       "param2           319080\n",
       "labels                0\n",
       "dtype: int64"
      ]
     },
     "execution_count": 51,
     "metadata": {},
     "output_type": "execute_result"
    }
   ],
   "source": [
    "train_df.dropna(subset=[\"function_name\", \"arg1\", \"arg2\"], inplace=True)\n",
    "train_df.isna().sum()"
   ]
  },
  {
   "cell_type": "code",
   "execution_count": 52,
   "metadata": {
    "execution": {
     "iopub.execute_input": "2023-03-01T07:37:30.052320Z",
     "iopub.status.busy": "2023-03-01T07:37:30.051301Z",
     "iopub.status.idle": "2023-03-01T07:37:30.096340Z",
     "shell.execute_reply": "2023-03-01T07:37:30.095486Z",
     "shell.execute_reply.started": "2023-03-01T07:37:30.052275Z"
    }
   },
   "outputs": [
    {
     "data": {
      "text/plain": [
       "file                 0\n",
       "function_name      216\n",
       "arg1               371\n",
       "arg2               371\n",
       "arg_type             0\n",
       "param1           36142\n",
       "param2           36138\n",
       "labels               0\n",
       "dtype: int64"
      ]
     },
     "execution_count": 52,
     "metadata": {},
     "output_type": "execute_result"
    }
   ],
   "source": [
    "test_df.isna().sum()"
   ]
  },
  {
   "cell_type": "code",
   "execution_count": 53,
   "metadata": {
    "execution": {
     "iopub.execute_input": "2023-03-01T07:37:30.660048Z",
     "iopub.status.busy": "2023-03-01T07:37:30.659329Z",
     "iopub.status.idle": "2023-03-01T07:37:30.717390Z",
     "shell.execute_reply": "2023-03-01T07:37:30.716493Z",
     "shell.execute_reply.started": "2023-03-01T07:37:30.659996Z"
    }
   },
   "outputs": [
    {
     "data": {
      "text/plain": [
       "file                 0\n",
       "function_name        0\n",
       "arg1                 0\n",
       "arg2                 0\n",
       "arg_type             0\n",
       "param1           35466\n",
       "param2           35462\n",
       "labels               0\n",
       "dtype: int64"
      ]
     },
     "execution_count": 53,
     "metadata": {},
     "output_type": "execute_result"
    }
   ],
   "source": [
    "test_df.dropna(subset=[\"function_name\", \"arg1\", \"arg2\"], inplace=True)\n",
    "test_df.isna().sum()"
   ]
  },
  {
   "cell_type": "code",
   "execution_count": 54,
   "metadata": {
    "execution": {
     "iopub.execute_input": "2023-03-01T07:37:33.292066Z",
     "iopub.status.busy": "2023-03-01T07:37:33.291370Z",
     "iopub.status.idle": "2023-03-01T07:37:33.299394Z",
     "shell.execute_reply": "2023-03-01T07:37:33.298314Z",
     "shell.execute_reply.started": "2023-03-01T07:37:33.292031Z"
    }
   },
   "outputs": [
    {
     "data": {
      "text/plain": [
       "((478038, 8), (53102, 8))"
      ]
     },
     "execution_count": 54,
     "metadata": {},
     "output_type": "execute_result"
    }
   ],
   "source": [
    "train_df.shape, test_df.shape"
   ]
  },
  {
   "cell_type": "code",
   "execution_count": 16,
   "metadata": {
    "execution": {
     "iopub.execute_input": "2023-03-01T07:31:40.625747Z",
     "iopub.status.busy": "2023-03-01T07:31:40.625309Z",
     "iopub.status.idle": "2023-03-01T07:31:40.826133Z",
     "shell.execute_reply": "2023-03-01T07:31:40.825472Z",
     "shell.execute_reply.started": "2023-03-01T07:31:40.625637Z"
    }
   },
   "outputs": [
    {
     "data": {
      "text/plain": [
       "file             0\n",
       "function_name    0\n",
       "arg1             0\n",
       "arg2             0\n",
       "arg_type         0\n",
       "param1           0\n",
       "param2           0\n",
       "labels           0\n",
       "dtype: int64"
      ]
     },
     "execution_count": 16,
     "metadata": {},
     "output_type": "execute_result"
    }
   ],
   "source": [
    "train_df['param1'] = train_df['param1'].fillna(tokenizer.unk_token)\n",
    "train_df['param2'] = train_df['param2'].fillna(tokenizer.unk_token)\n",
    "train_df.isna().sum()"
   ]
  },
  {
   "cell_type": "code",
   "execution_count": 17,
   "metadata": {
    "execution": {
     "iopub.execute_input": "2023-03-01T07:31:40.828356Z",
     "iopub.status.busy": "2023-03-01T07:31:40.827389Z",
     "iopub.status.idle": "2023-03-01T07:31:40.977307Z",
     "shell.execute_reply": "2023-03-01T07:31:40.976344Z",
     "shell.execute_reply.started": "2023-03-01T07:31:40.828318Z"
    }
   },
   "outputs": [
    {
     "data": {
      "text/plain": [
       "file             0\n",
       "function_name    0\n",
       "arg1             0\n",
       "arg2             0\n",
       "arg_type         0\n",
       "param1           0\n",
       "param2           0\n",
       "labels           0\n",
       "dtype: int64"
      ]
     },
     "execution_count": 17,
     "metadata": {},
     "output_type": "execute_result"
    }
   ],
   "source": [
    "test_df['param1'] = test_df['param1'].fillna(tokenizer.unk_token)\n",
    "test_df['param2'] = test_df['param2'].fillna(tokenizer.unk_token)\n",
    "train_df.isna().sum()"
   ]
  },
  {
   "cell_type": "code",
   "execution_count": 18,
   "metadata": {
    "execution": {
     "iopub.execute_input": "2023-03-01T07:31:40.979002Z",
     "iopub.status.busy": "2023-03-01T07:31:40.978641Z",
     "iopub.status.idle": "2023-03-01T07:31:41.780250Z",
     "shell.execute_reply": "2023-03-01T07:31:41.779190Z",
     "shell.execute_reply.started": "2023-03-01T07:31:40.978967Z"
    }
   },
   "outputs": [],
   "source": [
    "train_df['full_text'] = train_df['function_name'] + tokenizer.sep_token + train_df['arg1'] + tokenizer.sep_token + train_df['arg2'] + tokenizer.sep_token + train_df['arg_type'] + tokenizer.sep_token + train_df['param1'] + tokenizer.sep_token + train_df['param2']\n",
    "test_df['full_text'] = test_df['function_name'] + tokenizer.sep_token + test_df['arg1'] + tokenizer.sep_token + test_df['arg2'] + tokenizer.sep_token + test_df['arg_type'] + tokenizer.sep_token + test_df['param1'] + tokenizer.sep_token + test_df['param2']"
   ]
  },
  {
   "cell_type": "code",
   "execution_count": 19,
   "metadata": {
    "execution": {
     "iopub.execute_input": "2023-03-01T07:31:41.782639Z",
     "iopub.status.busy": "2023-03-01T07:31:41.781931Z",
     "iopub.status.idle": "2023-03-01T07:31:42.011527Z",
     "shell.execute_reply": "2023-03-01T07:31:42.010591Z",
     "shell.execute_reply.started": "2023-03-01T07:31:41.782601Z"
    }
   },
   "outputs": [],
   "source": [
    "train_df.drop(['function_name','arg1','arg2','arg_type','param1','param2'], axis=1, inplace=True)\n",
    "test_df.drop(['function_name','arg1','arg2','arg_type','param1','param2'], axis=1, inplace=True)"
   ]
  },
  {
   "cell_type": "code",
   "execution_count": 20,
   "metadata": {
    "execution": {
     "iopub.execute_input": "2023-03-01T07:31:42.018586Z",
     "iopub.status.busy": "2023-03-01T07:31:42.016253Z",
     "iopub.status.idle": "2023-03-01T07:31:42.050119Z",
     "shell.execute_reply": "2023-03-01T07:31:42.049163Z",
     "shell.execute_reply.started": "2023-03-01T07:31:42.018544Z"
    }
   },
   "outputs": [
    {
     "data": {
      "text/html": [
       "<div>\n",
       "<style scoped>\n",
       "    .dataframe tbody tr th:only-of-type {\n",
       "        vertical-align: middle;\n",
       "    }\n",
       "\n",
       "    .dataframe tbody tr th {\n",
       "        vertical-align: top;\n",
       "    }\n",
       "\n",
       "    .dataframe thead th {\n",
       "        text-align: right;\n",
       "    }\n",
       "</style>\n",
       "<table border=\"1\" class=\"dataframe\">\n",
       "  <thead>\n",
       "    <tr style=\"text-align: right;\">\n",
       "      <th></th>\n",
       "      <th>file</th>\n",
       "      <th>labels</th>\n",
       "      <th>full_text</th>\n",
       "    </tr>\n",
       "  </thead>\n",
       "  <tbody>\n",
       "    <tr>\n",
       "      <th>333323</th>\n",
       "      <td>cleaned/ipxe/src/arch/i386/interface/pxeparent...</td>\n",
       "      <td>1</td>\n",
       "      <td>DBG&lt;/s&gt;strerror(rc)&lt;/s&gt;PXEDHCP GET_CACHED_INFO...</td>\n",
       "    </tr>\n",
       "    <tr>\n",
       "      <th>129700</th>\n",
       "      <td>cleaned/minikonoha/src/module-devel/Bash/Bash.c</td>\n",
       "      <td>0</td>\n",
       "      <td>strcmp&lt;/s&gt;receiverClassName&lt;/s&gt;SubProc&lt;/s&gt;cons...</td>\n",
       "    </tr>\n",
       "    <tr>\n",
       "      <th>99602</th>\n",
       "      <td>cleaned/freeswitch/libs/xmlrpc-c/tools/lib/dum...</td>\n",
       "      <td>0</td>\n",
       "      <td>printf&lt;/s&gt;'%s'\\n&lt;/s&gt;printable&lt;/s&gt;const char *&lt;...</td>\n",
       "    </tr>\n",
       "    <tr>\n",
       "      <th>18811</th>\n",
       "      <td>cleaned/composite/src/components/lib/dietlibc-...</td>\n",
       "      <td>0</td>\n",
       "      <td>strcmp&lt;/s&gt;getenv(\"foo\")&lt;/s&gt;baz&lt;/s&gt;const char *...</td>\n",
       "    </tr>\n",
       "    <tr>\n",
       "      <th>40243</th>\n",
       "      <td>cleaned/asf_mapready/src/asf_meta/distortions.c</td>\n",
       "      <td>1</td>\n",
       "      <td>hypot&lt;/s&gt;dy_dlat&lt;/s&gt;dx_dlat&lt;/s&gt;double&lt;/s&gt;&lt;unk&gt;...</td>\n",
       "    </tr>\n",
       "  </tbody>\n",
       "</table>\n",
       "</div>"
      ],
      "text/plain": [
       "                                                     file  labels  \\\n",
       "333323  cleaned/ipxe/src/arch/i386/interface/pxeparent...       1   \n",
       "129700    cleaned/minikonoha/src/module-devel/Bash/Bash.c       0   \n",
       "99602   cleaned/freeswitch/libs/xmlrpc-c/tools/lib/dum...       0   \n",
       "18811   cleaned/composite/src/components/lib/dietlibc-...       0   \n",
       "40243     cleaned/asf_mapready/src/asf_meta/distortions.c       1   \n",
       "\n",
       "                                                full_text  \n",
       "333323  DBG</s>strerror(rc)</s>PXEDHCP GET_CACHED_INFO...  \n",
       "129700  strcmp</s>receiverClassName</s>SubProc</s>cons...  \n",
       "99602   printf</s>'%s'\\n</s>printable</s>const char *<...  \n",
       "18811   strcmp</s>getenv(\"foo\")</s>baz</s>const char *...  \n",
       "40243   hypot</s>dy_dlat</s>dx_dlat</s>double</s><unk>...  "
      ]
     },
     "execution_count": 20,
     "metadata": {},
     "output_type": "execute_result"
    }
   ],
   "source": [
    "train_df.sample(5)"
   ]
  },
  {
   "cell_type": "code",
   "execution_count": 21,
   "metadata": {
    "execution": {
     "iopub.execute_input": "2023-03-01T07:31:42.056817Z",
     "iopub.status.busy": "2023-03-01T07:31:42.054609Z",
     "iopub.status.idle": "2023-03-01T07:31:42.075569Z",
     "shell.execute_reply": "2023-03-01T07:31:42.074628Z",
     "shell.execute_reply.started": "2023-03-01T07:31:42.056779Z"
    }
   },
   "outputs": [
    {
     "data": {
      "text/html": [
       "<div>\n",
       "<style scoped>\n",
       "    .dataframe tbody tr th:only-of-type {\n",
       "        vertical-align: middle;\n",
       "    }\n",
       "\n",
       "    .dataframe tbody tr th {\n",
       "        vertical-align: top;\n",
       "    }\n",
       "\n",
       "    .dataframe thead th {\n",
       "        text-align: right;\n",
       "    }\n",
       "</style>\n",
       "<table border=\"1\" class=\"dataframe\">\n",
       "  <thead>\n",
       "    <tr style=\"text-align: right;\">\n",
       "      <th></th>\n",
       "      <th>file</th>\n",
       "      <th>labels</th>\n",
       "      <th>full_text</th>\n",
       "    </tr>\n",
       "  </thead>\n",
       "  <tbody>\n",
       "    <tr>\n",
       "      <th>51012</th>\n",
       "      <td>cleaned/gtk-gnutella/src/core/guid.c</td>\n",
       "      <td>0</td>\n",
       "      <td>stable_still_alive_probability&lt;/s&gt;gd-&gt;create_t...</td>\n",
       "    </tr>\n",
       "    <tr>\n",
       "      <th>35673</th>\n",
       "      <td>cleaned/openafs-osd/src/util/ktime.c</td>\n",
       "      <td>0</td>\n",
       "      <td>strcmp&lt;/s&gt;tp-&gt;key&lt;/s&gt;tt-&gt;key&lt;/s&gt;const char *&lt;/...</td>\n",
       "    </tr>\n",
       "    <tr>\n",
       "      <th>45978</th>\n",
       "      <td>cleaned/asuswrt-merlin/release/src-rt/linux/li...</td>\n",
       "      <td>1</td>\n",
       "      <td>list_add_tail&lt;/s&gt;&amp;p-&gt;signal-&gt;shared_pending.li...</td>\n",
       "    </tr>\n",
       "    <tr>\n",
       "      <th>23533</th>\n",
       "      <td>cleaned/syslog-ng/tests/unit/test_template.c</td>\n",
       "      <td>1</td>\n",
       "      <td>assert_template_format&lt;/s&gt;bzorp&lt;/s&gt;$FULLHOST&lt;/...</td>\n",
       "    </tr>\n",
       "    <tr>\n",
       "      <th>53733</th>\n",
       "      <td>cleaned/mvfs/mvfs_utils.c</td>\n",
       "      <td>1</td>\n",
       "      <td>STRCMP&lt;/s&gt;hmsuffix&lt;/s&gt;hmnm&lt;/s&gt;char *&lt;/s&gt;&lt;unk&gt;&lt;...</td>\n",
       "    </tr>\n",
       "  </tbody>\n",
       "</table>\n",
       "</div>"
      ],
      "text/plain": [
       "                                                    file  labels  \\\n",
       "51012               cleaned/gtk-gnutella/src/core/guid.c       0   \n",
       "35673               cleaned/openafs-osd/src/util/ktime.c       0   \n",
       "45978  cleaned/asuswrt-merlin/release/src-rt/linux/li...       1   \n",
       "23533       cleaned/syslog-ng/tests/unit/test_template.c       1   \n",
       "53733                          cleaned/mvfs/mvfs_utils.c       1   \n",
       "\n",
       "                                               full_text  \n",
       "51012  stable_still_alive_probability</s>gd->create_t...  \n",
       "35673  strcmp</s>tp->key</s>tt->key</s>const char *</...  \n",
       "45978  list_add_tail</s>&p->signal->shared_pending.li...  \n",
       "23533  assert_template_format</s>bzorp</s>$FULLHOST</...  \n",
       "53733  STRCMP</s>hmsuffix</s>hmnm</s>char *</s><unk><...  "
      ]
     },
     "execution_count": 21,
     "metadata": {},
     "output_type": "execute_result"
    }
   ],
   "source": [
    "test_df.sample(5)"
   ]
  },
  {
   "cell_type": "code",
   "execution_count": 22,
   "metadata": {
    "execution": {
     "iopub.execute_input": "2023-03-01T07:31:42.083383Z",
     "iopub.status.busy": "2023-03-01T07:31:42.080303Z",
     "iopub.status.idle": "2023-03-01T07:31:42.106443Z",
     "shell.execute_reply": "2023-03-01T07:31:42.105792Z",
     "shell.execute_reply.started": "2023-03-01T07:31:42.083342Z"
    }
   },
   "outputs": [
    {
     "name": "stdout",
     "output_type": "stream",
     "text": [
      "strcmp</s>all</s>cmd</s>const char *</s><unk></s><unk>\n",
      "--------------------------------------------------------------------------------\n",
      "['strcmp', '</s>', 'all', '</s>', 'cmd', '</s>', 'const', 'Ġchar', 'Ġ*', '</s>', '<unk>', '</s>', '<unk>']\n",
      "--------------------------------------------------------------------------------\n",
      "{'input_ids': [1, 2381, 2, 631, 2, 1310, 2, 964, 628, 366, 2, 3, 2, 3, 2], 'attention_mask': [1, 1, 1, 1, 1, 1, 1, 1, 1, 1, 1, 1, 1, 1, 1]}\n"
     ]
    }
   ],
   "source": [
    "print(train_df.iloc[10].full_text)\n",
    "print(\"-\" * 80)\n",
    "print(tokenizer.tokenize(train_df.iloc[10].full_text))\n",
    "print(\"-\" * 80)\n",
    "print(tokenizer(train_df.iloc[10].full_text))"
   ]
  },
  {
   "cell_type": "code",
   "execution_count": 23,
   "metadata": {
    "execution": {
     "iopub.execute_input": "2023-03-01T07:31:42.110525Z",
     "iopub.status.busy": "2023-03-01T07:31:42.110208Z",
     "iopub.status.idle": "2023-03-01T07:31:42.115467Z",
     "shell.execute_reply": "2023-03-01T07:31:42.114458Z",
     "shell.execute_reply.started": "2023-03-01T07:31:42.110485Z"
    }
   },
   "outputs": [],
   "source": [
    "def tokenize_text(examples):\n",
    "    return tokenizer(examples[\"full_text\"], truncation=True, max_length=128, padding=True)"
   ]
  },
  {
   "cell_type": "code",
   "execution_count": 24,
   "metadata": {
    "execution": {
     "iopub.execute_input": "2023-03-01T07:31:42.120883Z",
     "iopub.status.busy": "2023-03-01T07:31:42.118515Z",
     "iopub.status.idle": "2023-03-01T07:31:42.216125Z",
     "shell.execute_reply": "2023-03-01T07:31:42.215131Z",
     "shell.execute_reply.started": "2023-03-01T07:31:42.120847Z"
    }
   },
   "outputs": [
    {
     "data": {
      "text/plain": [
       "((430234, 3), (47804, 3))"
      ]
     },
     "execution_count": 24,
     "metadata": {},
     "output_type": "execute_result"
    }
   ],
   "source": [
    "train_df, validation_df = train_test_split(train_df, test_size=0.1, random_state=RANDOM_STATE)\n",
    "train_df.shape, validation_df.shape"
   ]
  },
  {
   "cell_type": "code",
   "execution_count": 25,
   "metadata": {
    "execution": {
     "iopub.execute_input": "2023-03-01T07:31:42.220955Z",
     "iopub.status.busy": "2023-03-01T07:31:42.220670Z",
     "iopub.status.idle": "2023-03-01T07:31:42.444403Z",
     "shell.execute_reply": "2023-03-01T07:31:42.443389Z",
     "shell.execute_reply.started": "2023-03-01T07:31:42.220930Z"
    }
   },
   "outputs": [
    {
     "data": {
      "text/plain": [
       "Dataset({\n",
       "    features: ['file', 'labels', 'full_text', '__index_level_0__'],\n",
       "    num_rows: 430234\n",
       "})"
      ]
     },
     "execution_count": 25,
     "metadata": {},
     "output_type": "execute_result"
    }
   ],
   "source": [
    "train_dataset = Dataset.from_pandas(train_df)\n",
    "train_dataset"
   ]
  },
  {
   "cell_type": "code",
   "execution_count": 26,
   "metadata": {
    "execution": {
     "iopub.execute_input": "2023-03-01T07:31:42.447226Z",
     "iopub.status.busy": "2023-03-01T07:31:42.446554Z",
     "iopub.status.idle": "2023-03-01T07:31:42.474444Z",
     "shell.execute_reply": "2023-03-01T07:31:42.473416Z",
     "shell.execute_reply.started": "2023-03-01T07:31:42.447185Z"
    }
   },
   "outputs": [
    {
     "data": {
      "text/plain": [
       "Dataset({\n",
       "    features: ['file', 'labels', 'full_text', '__index_level_0__'],\n",
       "    num_rows: 47804\n",
       "})"
      ]
     },
     "execution_count": 26,
     "metadata": {},
     "output_type": "execute_result"
    }
   ],
   "source": [
    "validation_dataset = Dataset.from_pandas(validation_df)\n",
    "validation_dataset"
   ]
  },
  {
   "cell_type": "code",
   "execution_count": 27,
   "metadata": {
    "execution": {
     "iopub.execute_input": "2023-03-01T07:31:42.476355Z",
     "iopub.status.busy": "2023-03-01T07:31:42.475993Z",
     "iopub.status.idle": "2023-03-01T07:31:42.499274Z",
     "shell.execute_reply": "2023-03-01T07:31:42.498451Z",
     "shell.execute_reply.started": "2023-03-01T07:31:42.476319Z"
    }
   },
   "outputs": [
    {
     "data": {
      "text/plain": [
       "Dataset({\n",
       "    features: ['file', 'labels', 'full_text', '__index_level_0__'],\n",
       "    num_rows: 53102\n",
       "})"
      ]
     },
     "execution_count": 27,
     "metadata": {},
     "output_type": "execute_result"
    }
   ],
   "source": [
    "test_dataset = Dataset.from_pandas(test_df)\n",
    "test_dataset"
   ]
  },
  {
   "cell_type": "markdown",
   "metadata": {},
   "source": [
    "-----\n",
    "## Tokenization\n",
    "-----"
   ]
  },
  {
   "cell_type": "code",
   "execution_count": 28,
   "metadata": {
    "execution": {
     "iopub.execute_input": "2023-03-01T07:31:42.501135Z",
     "iopub.status.busy": "2023-03-01T07:31:42.500802Z",
     "iopub.status.idle": "2023-03-01T07:32:23.368620Z",
     "shell.execute_reply": "2023-03-01T07:32:23.367465Z",
     "shell.execute_reply.started": "2023-03-01T07:31:42.501091Z"
    }
   },
   "outputs": [
    {
     "data": {
      "application/vnd.jupyter.widget-view+json": {
       "model_id": "c630e68faea64c438422abb1da69a36a",
       "version_major": 2,
       "version_minor": 0
      },
      "text/plain": [
       "  0%|          | 0/431 [00:00<?, ?ba/s]"
      ]
     },
     "metadata": {},
     "output_type": "display_data"
    },
    {
     "data": {
      "text/plain": [
       "Dataset({\n",
       "    features: ['file', 'labels', 'input_ids', 'attention_mask'],\n",
       "    num_rows: 430234\n",
       "})"
      ]
     },
     "execution_count": 28,
     "metadata": {},
     "output_type": "execute_result"
    }
   ],
   "source": [
    "train_dataset = train_dataset.map(tokenize_text, batched=True, remove_columns=[\"full_text\", \"__index_level_0__\"])\n",
    "train_dataset"
   ]
  },
  {
   "cell_type": "code",
   "execution_count": 29,
   "metadata": {
    "execution": {
     "iopub.execute_input": "2023-03-01T07:32:23.371034Z",
     "iopub.status.busy": "2023-03-01T07:32:23.370076Z",
     "iopub.status.idle": "2023-03-01T07:32:27.841720Z",
     "shell.execute_reply": "2023-03-01T07:32:27.840705Z",
     "shell.execute_reply.started": "2023-03-01T07:32:23.370994Z"
    }
   },
   "outputs": [
    {
     "data": {
      "application/vnd.jupyter.widget-view+json": {
       "model_id": "ce7f2c85f41a42e79453cca05892ae2e",
       "version_major": 2,
       "version_minor": 0
      },
      "text/plain": [
       "  0%|          | 0/48 [00:00<?, ?ba/s]"
      ]
     },
     "metadata": {},
     "output_type": "display_data"
    },
    {
     "data": {
      "text/plain": [
       "Dataset({\n",
       "    features: ['file', 'labels', 'input_ids', 'attention_mask'],\n",
       "    num_rows: 47804\n",
       "})"
      ]
     },
     "execution_count": 29,
     "metadata": {},
     "output_type": "execute_result"
    }
   ],
   "source": [
    "validation_dataset = validation_dataset.map(tokenize_text, batched=True, remove_columns=[\"full_text\", \"__index_level_0__\"])\n",
    "validation_dataset"
   ]
  },
  {
   "cell_type": "code",
   "execution_count": 30,
   "metadata": {
    "execution": {
     "iopub.execute_input": "2023-03-01T07:32:27.844695Z",
     "iopub.status.busy": "2023-03-01T07:32:27.843191Z",
     "iopub.status.idle": "2023-03-01T07:32:32.445095Z",
     "shell.execute_reply": "2023-03-01T07:32:32.444000Z",
     "shell.execute_reply.started": "2023-03-01T07:32:27.844654Z"
    }
   },
   "outputs": [
    {
     "data": {
      "application/vnd.jupyter.widget-view+json": {
       "model_id": "0e495cb5d660496baeb6edc0f0fab329",
       "version_major": 2,
       "version_minor": 0
      },
      "text/plain": [
       "  0%|          | 0/54 [00:00<?, ?ba/s]"
      ]
     },
     "metadata": {},
     "output_type": "display_data"
    },
    {
     "data": {
      "text/plain": [
       "Dataset({\n",
       "    features: ['file', 'labels', 'input_ids', 'attention_mask'],\n",
       "    num_rows: 53102\n",
       "})"
      ]
     },
     "execution_count": 30,
     "metadata": {},
     "output_type": "execute_result"
    }
   ],
   "source": [
    "test_dataset = test_dataset.map(tokenize_text, batched=True, remove_columns=[\"full_text\", \"__index_level_0__\"])\n",
    "test_dataset"
   ]
  },
  {
   "cell_type": "code",
   "execution_count": 44,
   "metadata": {
    "execution": {
     "iopub.execute_input": "2023-03-01T07:36:02.976589Z",
     "iopub.status.busy": "2023-03-01T07:36:02.976175Z",
     "iopub.status.idle": "2023-03-01T07:36:02.982950Z",
     "shell.execute_reply": "2023-03-01T07:36:02.981813Z",
     "shell.execute_reply.started": "2023-03-01T07:36:02.976549Z"
    }
   },
   "outputs": [],
   "source": [
    "def softmax(x):\n",
    "    result = np.zeros_like(x)\n",
    "    \n",
    "    for i in range(len(x)):\n",
    "        result[i] = np.exp(x[i]) / np.sum(np.exp(x[i]), axis=0)\n",
    "    return result"
   ]
  },
  {
   "cell_type": "code",
   "execution_count": 31,
   "metadata": {
    "execution": {
     "iopub.execute_input": "2023-03-01T07:32:32.447166Z",
     "iopub.status.busy": "2023-03-01T07:32:32.446777Z",
     "iopub.status.idle": "2023-03-01T07:32:32.454040Z",
     "shell.execute_reply": "2023-03-01T07:32:32.453060Z",
     "shell.execute_reply.started": "2023-03-01T07:32:32.447127Z"
    }
   },
   "outputs": [],
   "source": [
    "def compute_metrics(pred):\n",
    "    labels = pred.label_ids\n",
    "    preds = pred.predictions.argmax(-1)\n",
    "    accuracy = accuracy_score(labels, preds)\n",
    "    precision = precision_score(labels, preds)\n",
    "    recall = recall_score(labels, preds)\n",
    "    f1 = f1_score(labels, preds)\n",
    "    return {\"Accuracy\": accuracy, \"Precision\": precision, \"Recall\": recall, \"F1 Score\": f1}"
   ]
  },
  {
   "cell_type": "markdown",
   "metadata": {},
   "source": [
    "-----\n",
    "## Model Training\n",
    "-----"
   ]
  },
  {
   "cell_type": "code",
   "execution_count": 32,
   "metadata": {
    "execution": {
     "iopub.execute_input": "2023-03-01T07:32:32.456293Z",
     "iopub.status.busy": "2023-03-01T07:32:32.455475Z",
     "iopub.status.idle": "2023-03-01T07:32:32.476715Z",
     "shell.execute_reply": "2023-03-01T07:32:32.475723Z",
     "shell.execute_reply.started": "2023-03-01T07:32:32.456258Z"
    }
   },
   "outputs": [
    {
     "name": "stderr",
     "output_type": "stream",
     "text": [
      "Using the `WAND_DISABLED` environment variable is deprecated and will be removed in v5. Use the --report_to flag to control the integrations used for logging result (for instance --report_to none).\n"
     ]
    }
   ],
   "source": [
    "# ! rm -rd /kaggle/working/codeT5-DistilBERT-function-swap-bug-model\n",
    "\n",
    "batch_size = 64\n",
    "logging_steps = len(train_dataset) // batch_size\n",
    "output_dir = \"codeT5-DistilBERT-function-swap-bug-model\"\n",
    "\n",
    "training_args = TrainingArguments(output_dir,\n",
    "                                  num_train_epochs=10,\n",
    "                                  learning_rate=2e-5,\n",
    "                                  per_device_train_batch_size=batch_size,\n",
    "                                  per_device_eval_batch_size=batch_size,\n",
    "                                  weight_decay = 0.01,\n",
    "                                  evaluation_strategy=\"epoch\",\n",
    "                                  logging_steps=logging_steps,\n",
    "                                  save_strategy=\"epoch\",\n",
    "                                  # save_steps=10000,\n",
    "                                  # fp16=True,\n",
    "                                  load_best_model_at_end=True,\n",
    "                                  metric_for_best_model='eval_loss',\n",
    "                                  greater_is_better=False,\n",
    "                                  push_to_hub=False\n",
    "                                )"
   ]
  },
  {
   "cell_type": "code",
   "execution_count": 33,
   "metadata": {
    "execution": {
     "iopub.execute_input": "2023-03-01T07:32:32.478707Z",
     "iopub.status.busy": "2023-03-01T07:32:32.478306Z",
     "iopub.status.idle": "2023-03-01T07:32:32.489368Z",
     "shell.execute_reply": "2023-03-01T07:32:32.488469Z",
     "shell.execute_reply.started": "2023-03-01T07:32:32.478670Z"
    }
   },
   "outputs": [],
   "source": [
    "class CustomCallback(TrainerCallback):\n",
    "    \n",
    "    def __init__(self, trainer, test_dataset) -> None:\n",
    "        super().__init__()\n",
    "        self._trainer = trainer\n",
    "        self.test_dataset = test_dataset\n",
    "\n",
    "    def on_epoch_end(self, args, state, control, **kwargs):\n",
    "        if control.should_evaluate:\n",
    "            control_copy = deepcopy(control)\n",
    "            print(\"Epoch:\", state.epoch)\n",
    "            print(self._trainer.predict(self._trainer.train_dataset, metric_key_prefix=\"train\").metrics)\n",
    "            print(self._trainer.predict(self._trainer.eval_dataset, metric_key_prefix=\"eval\").metrics)\n",
    "            print(self._trainer.predict(self.test_dataset, metric_key_prefix=\"test\").metrics)\n",
    "            \n",
    "            train = self._trainer.evaluate(eval_dataset=self._trainer.train_dataset, metric_key_prefix=\"train\")\n",
    "            self._trainer.evaluate(eval_dataset=test_dataset, metric_key_prefix=\"test\")\n",
    "            return control_copy"
   ]
  },
  {
   "cell_type": "code",
   "execution_count": 34,
   "metadata": {
    "execution": {
     "iopub.execute_input": "2023-03-01T07:32:32.491135Z",
     "iopub.status.busy": "2023-03-01T07:32:32.490775Z",
     "iopub.status.idle": "2023-03-01T07:32:32.505532Z",
     "shell.execute_reply": "2023-03-01T07:32:32.504567Z",
     "shell.execute_reply.started": "2023-03-01T07:32:32.491090Z"
    }
   },
   "outputs": [],
   "source": [
    "early_stopping = EarlyStoppingCallback(\n",
    "    early_stopping_patience=2,      # number of evaluations to wait before stopping\n",
    "    early_stopping_threshold=0.01,  # threshold for relative improvement in metric\n",
    ")"
   ]
  },
  {
   "cell_type": "markdown",
   "metadata": {},
   "source": [
    "-----\n",
    "## Choosing Best Hyperparameters and Training Final Model\n",
    "-----"
   ]
  },
  {
   "cell_type": "code",
   "execution_count": null,
   "metadata": {
    "execution": {
     "iopub.execute_input": "2023-02-27T03:38:57.447437Z",
     "iopub.status.busy": "2023-02-27T03:38:57.447049Z"
    }
   },
   "outputs": [
    {
     "name": "stderr",
     "output_type": "stream",
     "text": [
      "The following columns in the training set don't have a corresponding argument in `DistilBertForSequenceClassification.forward` and have been ignored: file. If file are not expected by `DistilBertForSequenceClassification.forward`,  you can safely ignore this message.\n",
      "***** Running training *****\n",
      "  Num examples = 430234\n",
      "  Num Epochs = 10\n",
      "  Instantaneous batch size per device = 64\n",
      "  Total train batch size (w. parallel, distributed & accumulation) = 128\n",
      "  Gradient Accumulation steps = 1\n",
      "  Total optimization steps = 33620\n"
     ]
    },
    {
     "data": {
      "text/html": [
       "\n",
       "    <div>\n",
       "      \n",
       "      <progress value='4869' max='33620' style='width:300px; height:20px; vertical-align: middle;'></progress>\n",
       "      [ 4869/33620 54:46 < 5:23:36, 1.48 it/s, Epoch 1.45/10]\n",
       "    </div>\n",
       "    <table border=\"1\" class=\"dataframe\">\n",
       "  <thead>\n",
       " <tr style=\"text-align: left;\">\n",
       "      <th>Epoch</th>\n",
       "      <th>Training Loss</th>\n",
       "      <th>Validation Loss</th>\n",
       "      <th>Accuracy</th>\n",
       "      <th>Precision</th>\n",
       "      <th>Recall</th>\n",
       "      <th>F1 score</th>\n",
       "    </tr>\n",
       "  </thead>\n",
       "  <tbody>\n",
       "    <tr>\n",
       "      <td>1</td>\n",
       "      <td>No log</td>\n",
       "      <td>0.693147</td>\n",
       "      <td>0.500711</td>\n",
       "      <td>0.000000</td>\n",
       "      <td>0.000000</td>\n",
       "      <td>0.000000</td>\n",
       "    </tr>\n",
       "  </tbody>\n",
       "</table><p>"
      ],
      "text/plain": [
       "<IPython.core.display.HTML object>"
      ]
     },
     "metadata": {},
     "output_type": "display_data"
    },
    {
     "name": "stderr",
     "output_type": "stream",
     "text": [
      "The following columns in the evaluation set don't have a corresponding argument in `DistilBertForSequenceClassification.forward` and have been ignored: file. If file are not expected by `DistilBertForSequenceClassification.forward`,  you can safely ignore this message.\n",
      "***** Running Evaluation *****\n",
      "  Num examples = 47804\n",
      "  Batch size = 128\n",
      "/opt/conda/lib/python3.7/site-packages/sklearn/metrics/_classification.py:1318: UndefinedMetricWarning: Precision is ill-defined and being set to 0.0 due to no predicted samples. Use `zero_division` parameter to control this behavior.\n",
      "  _warn_prf(average, modifier, msg_start, len(result))\n",
      "Saving model checkpoint to codeT5-DistilBERT-function-swap-bug-model/checkpoint-3362\n",
      "Configuration saved in codeT5-DistilBERT-function-swap-bug-model/checkpoint-3362/config.json\n",
      "Model weights saved in codeT5-DistilBERT-function-swap-bug-model/checkpoint-3362/pytorch_model.bin\n",
      "tokenizer config file saved in codeT5-DistilBERT-function-swap-bug-model/checkpoint-3362/tokenizer_config.json\n",
      "Special tokens file saved in codeT5-DistilBERT-function-swap-bug-model/checkpoint-3362/special_tokens_map.json\n",
      "/opt/conda/lib/python3.7/site-packages/torch/nn/parallel/_functions.py:68: UserWarning: Was asked to gather along dimension 0, but all input tensors were scalars; will instead unsqueeze and return a vector.\n",
      "  warnings.warn('Was asked to gather along dimension 0, but all '\n"
     ]
    }
   ],
   "source": [
    "learning_rates = [0.0002, 0.002, 0.00002, 0.000002]\n",
    "batch_sizes = [64, 32]\n",
    "\n",
    "# Loop over the learning rates\n",
    "for lr in learning_rates:\n",
    "    for bs in batch_sizes:\n",
    "        # Update the learning rate in the TrainingArguments\n",
    "        training_args.learning_rate = lr\n",
    "        training_args.per_device_train_batch_size = bs\n",
    "        training_args.per_device_eval_batch_size = bs\n",
    "\n",
    "        # Create a new Trainer with the updated TrainingArguments\n",
    "        trainer = Trainer(\n",
    "            model=model,                         \n",
    "            args=training_args,                  \n",
    "            train_dataset=train_dataset,         \n",
    "            eval_dataset=validation_dataset,\n",
    "            tokenizer=tokenizer,\n",
    "            compute_metrics=compute_metrics,\n",
    "            callbacks=[early_stopping]\n",
    "        )\n",
    "\n",
    "        # Train the model and evaluate it on the validation set\n",
    "        trainer.train()\n",
    "        print(trainer.evaluate())"
   ]
  },
  {
   "cell_type": "markdown",
   "metadata": {},
   "source": [
    "-----\n",
    "## Choosing Best Hyperparameters and Training Final Model\n",
    "-----"
   ]
  },
  {
   "cell_type": "code",
   "execution_count": 35,
   "metadata": {
    "execution": {
     "iopub.execute_input": "2023-03-01T07:32:32.510643Z",
     "iopub.status.busy": "2023-03-01T07:32:32.510321Z",
     "iopub.status.idle": "2023-03-01T07:32:37.308069Z",
     "shell.execute_reply": "2023-03-01T07:32:37.307063Z",
     "shell.execute_reply.started": "2023-03-01T07:32:32.510618Z"
    }
   },
   "outputs": [],
   "source": [
    "BEST_LEARNING_RATE = 2e-5\n",
    "BEST_BATCH_SIZE = 32\n",
    "training_args.learning_rate = BEST_LEARNING_RATE\n",
    "training_args.push_to_hub = False\n",
    "training_args.per_device_train_batch_size = BEST_BATCH_SIZE\n",
    "training_args.per_device_eval_batch_size = BEST_BATCH_SIZE\n",
    "\n",
    "\n",
    "trainer = Trainer(\n",
    "    model=model,                         \n",
    "    args=training_args,                  \n",
    "    train_dataset=train_dataset,         \n",
    "    eval_dataset=validation_dataset,\n",
    "    tokenizer=tokenizer,\n",
    "    compute_metrics=compute_metrics,\n",
    "    callbacks=[early_stopping]\n",
    ")\n",
    "\n",
    "trainer.add_callback(CustomCallback(trainer, test_dataset)) "
   ]
  },
  {
   "cell_type": "code",
   "execution_count": null,
   "metadata": {
    "execution": {
     "iopub.execute_input": "2023-02-18T10:33:15.589020Z",
     "iopub.status.busy": "2023-02-18T10:33:15.587917Z",
     "iopub.status.idle": "2023-02-18T10:33:15.595017Z",
     "shell.execute_reply": "2023-02-18T10:33:15.593930Z",
     "shell.execute_reply.started": "2023-02-18T10:33:15.588974Z"
    }
   },
   "outputs": [],
   "source": [
    "trainer.train()"
   ]
  },
  {
   "cell_type": "code",
   "execution_count": null,
   "metadata": {},
   "outputs": [],
   "source": [
    "# trainer.save(\"codeT5-DistilBERT-function-swap-bug-model_5ep\")"
   ]
  },
  {
   "cell_type": "markdown",
   "metadata": {},
   "source": [
    "-----\n",
    "## Model Testing\n",
    "-----"
   ]
  },
  {
   "cell_type": "code",
   "execution_count": 36,
   "metadata": {
    "execution": {
     "iopub.execute_input": "2023-03-01T07:33:29.528228Z",
     "iopub.status.busy": "2023-03-01T07:33:29.527530Z",
     "iopub.status.idle": "2023-03-01T07:34:48.416205Z",
     "shell.execute_reply": "2023-03-01T07:34:48.415125Z",
     "shell.execute_reply.started": "2023-03-01T07:33:29.528191Z"
    }
   },
   "outputs": [
    {
     "name": "stderr",
     "output_type": "stream",
     "text": [
      "The following columns in the test set don't have a corresponding argument in `DistilBertForSequenceClassification.forward` and have been ignored: file. If file are not expected by `DistilBertForSequenceClassification.forward`,  you can safely ignore this message.\n",
      "***** Running Prediction *****\n",
      "  Num examples = 53102\n",
      "  Batch size = 64\n",
      "/opt/conda/lib/python3.7/site-packages/torch/nn/parallel/_functions.py:68: UserWarning: Was asked to gather along dimension 0, but all input tensors were scalars; will instead unsqueeze and return a vector.\n",
      "  warnings.warn('Was asked to gather along dimension 0, but all '\n"
     ]
    },
    {
     "data": {
      "text/html": [
       "\n",
       "    <div>\n",
       "      \n",
       "      <progress value='830' max='830' style='width:300px; height:20px; vertical-align: middle;'></progress>\n",
       "      [830/830 01:13]\n",
       "    </div>\n",
       "    "
      ],
      "text/plain": [
       "<IPython.core.display.HTML object>"
      ]
     },
     "metadata": {},
     "output_type": "display_data"
    }
   ],
   "source": [
    "prediction = trainer.predict(test_dataset)"
   ]
  },
  {
   "cell_type": "code",
   "execution_count": 37,
   "metadata": {
    "execution": {
     "iopub.execute_input": "2023-03-01T07:34:48.418585Z",
     "iopub.status.busy": "2023-03-01T07:34:48.418186Z",
     "iopub.status.idle": "2023-03-01T07:34:48.427503Z",
     "shell.execute_reply": "2023-03-01T07:34:48.426492Z",
     "shell.execute_reply.started": "2023-03-01T07:34:48.418545Z"
    }
   },
   "outputs": [
    {
     "data": {
      "text/plain": [
       "PredictionOutput(predictions=array([[-0.43719912,  0.4714651 ],\n",
       "       [ 1.4213831 , -1.7210646 ],\n",
       "       [ 1.429783  , -1.5619291 ],\n",
       "       ...,\n",
       "       [ 2.1392274 , -2.2590733 ],\n",
       "       [ 0.38713244, -0.34124973],\n",
       "       [ 3.281587  , -3.7583587 ]], dtype=float32), label_ids=array([1, 0, 0, ..., 1, 0, 0]), metrics={'test_loss': 0.34173163771629333, 'test_Accuracy': 0.8833000640277202, 'test_Precision': 0.8868699156086064, 'test_Recall': 0.8786863018342058, 'test_F1 Score': 0.8827591425922772, 'test_runtime': 78.8785, 'test_samples_per_second': 673.213, 'test_steps_per_second': 10.523})"
      ]
     },
     "execution_count": 37,
     "metadata": {},
     "output_type": "execute_result"
    }
   ],
   "source": [
    "prediction"
   ]
  },
  {
   "cell_type": "code",
   "execution_count": 38,
   "metadata": {
    "execution": {
     "iopub.execute_input": "2023-03-01T07:34:48.429931Z",
     "iopub.status.busy": "2023-03-01T07:34:48.428827Z",
     "iopub.status.idle": "2023-03-01T07:34:48.448350Z",
     "shell.execute_reply": "2023-03-01T07:34:48.447469Z",
     "shell.execute_reply.started": "2023-03-01T07:34:48.429889Z"
    }
   },
   "outputs": [
    {
     "data": {
      "text/plain": [
       "array([1, 0, 0, ..., 1, 0, 0])"
      ]
     },
     "execution_count": 38,
     "metadata": {},
     "output_type": "execute_result"
    }
   ],
   "source": [
    "labels = prediction.label_ids\n",
    "labels"
   ]
  },
  {
   "cell_type": "code",
   "execution_count": 39,
   "metadata": {
    "execution": {
     "iopub.execute_input": "2023-03-01T07:34:48.451934Z",
     "iopub.status.busy": "2023-03-01T07:34:48.451567Z",
     "iopub.status.idle": "2023-03-01T07:34:48.463058Z",
     "shell.execute_reply": "2023-03-01T07:34:48.462139Z",
     "shell.execute_reply.started": "2023-03-01T07:34:48.451898Z"
    }
   },
   "outputs": [
    {
     "data": {
      "text/plain": [
       "array([1, 0, 0, ..., 0, 0, 0])"
      ]
     },
     "execution_count": 39,
     "metadata": {},
     "output_type": "execute_result"
    }
   ],
   "source": [
    "preds = prediction.predictions.argmax(-1)\n",
    "preds"
   ]
  },
  {
   "cell_type": "code",
   "execution_count": 55,
   "metadata": {
    "execution": {
     "iopub.execute_input": "2023-03-01T07:37:55.327487Z",
     "iopub.status.busy": "2023-03-01T07:37:55.327031Z",
     "iopub.status.idle": "2023-03-01T07:37:55.351388Z",
     "shell.execute_reply": "2023-03-01T07:37:55.350322Z",
     "shell.execute_reply.started": "2023-03-01T07:37:55.327414Z"
    }
   },
   "outputs": [
    {
     "data": {
      "text/plain": [
       "0.8827591425922772"
      ]
     },
     "execution_count": 55,
     "metadata": {},
     "output_type": "execute_result"
    }
   ],
   "source": [
    "f1_score(labels, preds)"
   ]
  },
  {
   "cell_type": "code",
   "execution_count": 56,
   "metadata": {
    "execution": {
     "iopub.execute_input": "2023-03-01T07:38:07.652817Z",
     "iopub.status.busy": "2023-03-01T07:38:07.652406Z",
     "iopub.status.idle": "2023-03-01T07:38:08.261441Z",
     "shell.execute_reply": "2023-03-01T07:38:08.260353Z",
     "shell.execute_reply.started": "2023-03-01T07:38:07.652784Z"
    }
   },
   "outputs": [],
   "source": [
    "preds_probability = softmax(prediction.predictions)\n",
    "positive_preds_probability = preds_probability[:, 1]"
   ]
  },
  {
   "cell_type": "code",
   "execution_count": 82,
   "metadata": {
    "execution": {
     "iopub.execute_input": "2023-03-01T08:07:15.818191Z",
     "iopub.status.busy": "2023-03-01T08:07:15.817783Z",
     "iopub.status.idle": "2023-03-01T08:07:16.049501Z",
     "shell.execute_reply": "2023-03-01T08:07:16.048401Z",
     "shell.execute_reply.started": "2023-03-01T08:07:15.818155Z"
    }
   },
   "outputs": [
    {
     "data": {
      "image/png": "[encoded data removed]",
      "text/plain": [
       "<Figure size 640x480 with 1 Axes>"
      ]
     },
     "metadata": {},
     "output_type": "display_data"
    }
   ],
   "source": [
    "import sklearn.metrics as metrics\n",
    "\n",
    "fpr, tpr, threshold = metrics.roc_curve(labels, positive_preds_probability)\n",
    "roc_auc = metrics.auc(fpr, tpr)\n",
    "\n",
    "# method I: plt\n",
    "import matplotlib.pyplot as plt\n",
    "# plt.title('Receiver Operating Characteristic')\n",
    "plt.plot(fpr, tpr, 'b', label = 'AUC = %0.2f' % roc_auc)\n",
    "plt.legend(loc = 'lower right')\n",
    "plt.plot([0, 1], [0, 1],'r--')\n",
    "plt.xlim([0, 1])\n",
    "plt.ylim([0, 1])\n",
    "plt.ylabel('True Positive Rate')\n",
    "plt.xlabel('False Positive Rate')\n",
    "plt.show()"
   ]
  },
  {
   "cell_type": "code",
   "execution_count": 81,
   "metadata": {
    "execution": {
     "iopub.execute_input": "2023-03-01T08:06:35.892239Z",
     "iopub.status.busy": "2023-03-01T08:06:35.891873Z",
     "iopub.status.idle": "2023-03-01T08:06:36.101714Z",
     "shell.execute_reply": "2023-03-01T08:06:36.100685Z",
     "shell.execute_reply.started": "2023-03-01T08:06:35.892207Z"
    }
   },
   "outputs": [
    {
     "data": {
      "image/png": "[encoded data removed]",
      "text/plain": [
       "<Figure size 640x480 with 1 Axes>"
      ]
     },
     "metadata": {},
     "output_type": "display_data"
    }
   ],
   "source": [
    "precision, recall, threshold = metrics.precision_recall_curve(labels, positive_preds_probability)\n",
    "\n",
    "# plt.title('Precision-Recall Curve')\n",
    "plt.plot(recall, precision, 'b')\n",
    "plt.ylabel('Precision')\n",
    "plt.xlabel('Recall')\n",
    "\n",
    "plt.xlim([0, 1])\n",
    "plt.ylim([0, 1])\n",
    "\n",
    "plt.show()"
   ]
  },
  {
   "cell_type": "code",
   "execution_count": 58,
   "metadata": {
    "execution": {
     "iopub.execute_input": "2023-03-01T07:38:18.038217Z",
     "iopub.status.busy": "2023-03-01T07:38:18.037836Z",
     "iopub.status.idle": "2023-03-01T07:38:18.055438Z",
     "shell.execute_reply": "2023-03-01T07:38:18.054473Z",
     "shell.execute_reply.started": "2023-03-01T07:38:18.038186Z"
    }
   },
   "outputs": [
    {
     "data": {
      "text/html": [
       "<div>\n",
       "<style scoped>\n",
       "    .dataframe tbody tr th:only-of-type {\n",
       "        vertical-align: middle;\n",
       "    }\n",
       "\n",
       "    .dataframe tbody tr th {\n",
       "        vertical-align: top;\n",
       "    }\n",
       "\n",
       "    .dataframe thead th {\n",
       "        text-align: right;\n",
       "    }\n",
       "</style>\n",
       "<table border=\"1\" class=\"dataframe\">\n",
       "  <thead>\n",
       "    <tr style=\"text-align: right;\">\n",
       "      <th></th>\n",
       "      <th>file</th>\n",
       "      <th>function_name</th>\n",
       "      <th>arg1</th>\n",
       "      <th>arg2</th>\n",
       "      <th>arg_type</th>\n",
       "      <th>param1</th>\n",
       "      <th>param2</th>\n",
       "      <th>labels</th>\n",
       "    </tr>\n",
       "  </thead>\n",
       "  <tbody>\n",
       "    <tr>\n",
       "      <th>0</th>\n",
       "      <td>cleaned/powerswitch-os/vga.c</td>\n",
       "      <td>outb</td>\n",
       "      <td>mode13[2][i]</td>\n",
       "      <td>0x3cf</td>\n",
       "      <td>int</td>\n",
       "      <td>NaN</td>\n",
       "      <td>NaN</td>\n",
       "      <td>1</td>\n",
       "    </tr>\n",
       "    <tr>\n",
       "      <th>1</th>\n",
       "      <td>cleaned/platform_external/icu4c/test/cintltst/...</td>\n",
       "      <td>strcmp</td>\n",
       "      <td>subBundleKey</td>\n",
       "      <td>availableFormats</td>\n",
       "      <td>const char *</td>\n",
       "      <td>NaN</td>\n",
       "      <td>NaN</td>\n",
       "      <td>0</td>\n",
       "    </tr>\n",
       "    <tr>\n",
       "      <th>2</th>\n",
       "      <td>cleaned/gnushogi/xshogi/xshogi.c</td>\n",
       "      <td>strcmp</td>\n",
       "      <td>name</td>\n",
       "      <td>Yes</td>\n",
       "      <td>const char *</td>\n",
       "      <td>__s1</td>\n",
       "      <td>__s2</td>\n",
       "      <td>0</td>\n",
       "    </tr>\n",
       "    <tr>\n",
       "      <th>3</th>\n",
       "      <td>cleaned/asuswrt-merlin/release/src/router/samb...</td>\n",
       "      <td>DEBUG</td>\n",
       "      <td>0</td>\n",
       "      <td>(\"%s: bad validation_level value %d.\\n\",fn,(in...</td>\n",
       "      <td>int</td>\n",
       "      <td>NaN</td>\n",
       "      <td>NaN</td>\n",
       "      <td>0</td>\n",
       "    </tr>\n",
       "    <tr>\n",
       "      <th>4</th>\n",
       "      <td>cleaned/tos-sfsu-fall2012/kernel/shell.c</td>\n",
       "      <td>is_command</td>\n",
       "      <td>command</td>\n",
       "      <td>pong</td>\n",
       "      <td>char *</td>\n",
       "      <td>s1</td>\n",
       "      <td>s2</td>\n",
       "      <td>0</td>\n",
       "    </tr>\n",
       "    <tr>\n",
       "      <th>...</th>\n",
       "      <td>...</td>\n",
       "      <td>...</td>\n",
       "      <td>...</td>\n",
       "      <td>...</td>\n",
       "      <td>...</td>\n",
       "      <td>...</td>\n",
       "      <td>...</td>\n",
       "      <td>...</td>\n",
       "    </tr>\n",
       "    <tr>\n",
       "      <th>54055</th>\n",
       "      <td>cleaned/lucy/clownfish/compiler/src/CFCType.c</td>\n",
       "      <td>strcmp</td>\n",
       "      <td>specifier</td>\n",
       "      <td>int64_t</td>\n",
       "      <td>const char *</td>\n",
       "      <td>__s1</td>\n",
       "      <td>__s2</td>\n",
       "      <td>0</td>\n",
       "    </tr>\n",
       "    <tr>\n",
       "      <th>54056</th>\n",
       "      <td>cleaned/opensplice/src/services/ddsi2/code/nn_...</td>\n",
       "      <td>avl_delete</td>\n",
       "      <td>onode_from_node(tree,n)</td>\n",
       "      <td>tree</td>\n",
       "      <td>void *</td>\n",
       "      <td>vtree</td>\n",
       "      <td>vnode</td>\n",
       "      <td>1</td>\n",
       "    </tr>\n",
       "    <tr>\n",
       "      <th>54057</th>\n",
       "      <td>cleaned/marss/qemu/hw/etraxfs_pic.c</td>\n",
       "      <td>qemu_set_irq</td>\n",
       "      <td>!!fs-&gt;regs[R_R_NMI]</td>\n",
       "      <td>fs-&gt;parent_nmi</td>\n",
       "      <td>&lt;dependent type&gt;</td>\n",
       "      <td>NaN</td>\n",
       "      <td>NaN</td>\n",
       "      <td>1</td>\n",
       "    </tr>\n",
       "    <tr>\n",
       "      <th>54058</th>\n",
       "      <td>cleaned/sane-backends/backend/genesys_gl847.c</td>\n",
       "      <td>SETREG</td>\n",
       "      <td>0x9d</td>\n",
       "      <td>0x06</td>\n",
       "      <td>int</td>\n",
       "      <td>NaN</td>\n",
       "      <td>NaN</td>\n",
       "      <td>0</td>\n",
       "    </tr>\n",
       "    <tr>\n",
       "      <th>54059</th>\n",
       "      <td>cleaned/drone/lib/ffmpeg/ffserver.c</td>\n",
       "      <td>strcasecmp</td>\n",
       "      <td>cmd</td>\n",
       "      <td>BindAddress</td>\n",
       "      <td>const char *</td>\n",
       "      <td>NaN</td>\n",
       "      <td>NaN</td>\n",
       "      <td>0</td>\n",
       "    </tr>\n",
       "  </tbody>\n",
       "</table>\n",
       "<p>53102 rows × 8 columns</p>\n",
       "</div>"
      ],
      "text/plain": [
       "                                                    file function_name  \\\n",
       "0                           cleaned/powerswitch-os/vga.c          outb   \n",
       "1      cleaned/platform_external/icu4c/test/cintltst/...        strcmp   \n",
       "2                       cleaned/gnushogi/xshogi/xshogi.c        strcmp   \n",
       "3      cleaned/asuswrt-merlin/release/src/router/samb...         DEBUG   \n",
       "4               cleaned/tos-sfsu-fall2012/kernel/shell.c    is_command   \n",
       "...                                                  ...           ...   \n",
       "54055      cleaned/lucy/clownfish/compiler/src/CFCType.c        strcmp   \n",
       "54056  cleaned/opensplice/src/services/ddsi2/code/nn_...    avl_delete   \n",
       "54057                cleaned/marss/qemu/hw/etraxfs_pic.c  qemu_set_irq   \n",
       "54058      cleaned/sane-backends/backend/genesys_gl847.c        SETREG   \n",
       "54059                cleaned/drone/lib/ffmpeg/ffserver.c    strcasecmp   \n",
       "\n",
       "                          arg1  \\\n",
       "0                 mode13[2][i]   \n",
       "1                 subBundleKey   \n",
       "2                         name   \n",
       "3                            0   \n",
       "4                      command   \n",
       "...                        ...   \n",
       "54055                specifier   \n",
       "54056  onode_from_node(tree,n)   \n",
       "54057      !!fs->regs[R_R_NMI]   \n",
       "54058                     0x9d   \n",
       "54059                      cmd   \n",
       "\n",
       "                                                    arg2          arg_type  \\\n",
       "0                                                  0x3cf               int   \n",
       "1                                       availableFormats      const char *   \n",
       "2                                                    Yes      const char *   \n",
       "3      (\"%s: bad validation_level value %d.\\n\",fn,(in...               int   \n",
       "4                                                   pong            char *   \n",
       "...                                                  ...               ...   \n",
       "54055                                            int64_t      const char *   \n",
       "54056                                               tree            void *   \n",
       "54057                                     fs->parent_nmi  <dependent type>   \n",
       "54058                                               0x06               int   \n",
       "54059                                        BindAddress      const char *   \n",
       "\n",
       "      param1 param2  labels  \n",
       "0        NaN    NaN       1  \n",
       "1        NaN    NaN       0  \n",
       "2       __s1   __s2       0  \n",
       "3        NaN    NaN       0  \n",
       "4         s1     s2       0  \n",
       "...      ...    ...     ...  \n",
       "54055   __s1   __s2       0  \n",
       "54056  vtree  vnode       1  \n",
       "54057    NaN    NaN       1  \n",
       "54058    NaN    NaN       0  \n",
       "54059    NaN    NaN       0  \n",
       "\n",
       "[53102 rows x 8 columns]"
      ]
     },
     "execution_count": 58,
     "metadata": {},
     "output_type": "execute_result"
    }
   ],
   "source": [
    "test_df"
   ]
  },
  {
   "cell_type": "code",
   "execution_count": 59,
   "metadata": {
    "execution": {
     "iopub.execute_input": "2023-03-01T07:38:24.415841Z",
     "iopub.status.busy": "2023-03-01T07:38:24.415461Z",
     "iopub.status.idle": "2023-03-01T07:38:24.421962Z",
     "shell.execute_reply": "2023-03-01T07:38:24.420757Z",
     "shell.execute_reply.started": "2023-03-01T07:38:24.415809Z"
    }
   },
   "outputs": [],
   "source": [
    "test_df[\"predictions\"] = preds"
   ]
  },
  {
   "cell_type": "code",
   "execution_count": 60,
   "metadata": {
    "execution": {
     "iopub.execute_input": "2023-03-01T07:38:27.914079Z",
     "iopub.status.busy": "2023-03-01T07:38:27.913348Z",
     "iopub.status.idle": "2023-03-01T07:38:27.934991Z",
     "shell.execute_reply": "2023-03-01T07:38:27.934105Z",
     "shell.execute_reply.started": "2023-03-01T07:38:27.914042Z"
    }
   },
   "outputs": [
    {
     "data": {
      "text/html": [
       "<div>\n",
       "<style scoped>\n",
       "    .dataframe tbody tr th:only-of-type {\n",
       "        vertical-align: middle;\n",
       "    }\n",
       "\n",
       "    .dataframe tbody tr th {\n",
       "        vertical-align: top;\n",
       "    }\n",
       "\n",
       "    .dataframe thead th {\n",
       "        text-align: right;\n",
       "    }\n",
       "</style>\n",
       "<table border=\"1\" class=\"dataframe\">\n",
       "  <thead>\n",
       "    <tr style=\"text-align: right;\">\n",
       "      <th></th>\n",
       "      <th>file</th>\n",
       "      <th>function_name</th>\n",
       "      <th>arg1</th>\n",
       "      <th>arg2</th>\n",
       "      <th>arg_type</th>\n",
       "      <th>param1</th>\n",
       "      <th>param2</th>\n",
       "      <th>labels</th>\n",
       "      <th>predictions</th>\n",
       "    </tr>\n",
       "  </thead>\n",
       "  <tbody>\n",
       "    <tr>\n",
       "      <th>0</th>\n",
       "      <td>cleaned/powerswitch-os/vga.c</td>\n",
       "      <td>outb</td>\n",
       "      <td>mode13[2][i]</td>\n",
       "      <td>0x3cf</td>\n",
       "      <td>int</td>\n",
       "      <td>NaN</td>\n",
       "      <td>NaN</td>\n",
       "      <td>1</td>\n",
       "      <td>1</td>\n",
       "    </tr>\n",
       "    <tr>\n",
       "      <th>1</th>\n",
       "      <td>cleaned/platform_external/icu4c/test/cintltst/...</td>\n",
       "      <td>strcmp</td>\n",
       "      <td>subBundleKey</td>\n",
       "      <td>availableFormats</td>\n",
       "      <td>const char *</td>\n",
       "      <td>NaN</td>\n",
       "      <td>NaN</td>\n",
       "      <td>0</td>\n",
       "      <td>0</td>\n",
       "    </tr>\n",
       "    <tr>\n",
       "      <th>2</th>\n",
       "      <td>cleaned/gnushogi/xshogi/xshogi.c</td>\n",
       "      <td>strcmp</td>\n",
       "      <td>name</td>\n",
       "      <td>Yes</td>\n",
       "      <td>const char *</td>\n",
       "      <td>__s1</td>\n",
       "      <td>__s2</td>\n",
       "      <td>0</td>\n",
       "      <td>0</td>\n",
       "    </tr>\n",
       "    <tr>\n",
       "      <th>3</th>\n",
       "      <td>cleaned/asuswrt-merlin/release/src/router/samb...</td>\n",
       "      <td>DEBUG</td>\n",
       "      <td>0</td>\n",
       "      <td>(\"%s: bad validation_level value %d.\\n\",fn,(in...</td>\n",
       "      <td>int</td>\n",
       "      <td>NaN</td>\n",
       "      <td>NaN</td>\n",
       "      <td>0</td>\n",
       "      <td>0</td>\n",
       "    </tr>\n",
       "    <tr>\n",
       "      <th>4</th>\n",
       "      <td>cleaned/tos-sfsu-fall2012/kernel/shell.c</td>\n",
       "      <td>is_command</td>\n",
       "      <td>command</td>\n",
       "      <td>pong</td>\n",
       "      <td>char *</td>\n",
       "      <td>s1</td>\n",
       "      <td>s2</td>\n",
       "      <td>0</td>\n",
       "      <td>0</td>\n",
       "    </tr>\n",
       "    <tr>\n",
       "      <th>...</th>\n",
       "      <td>...</td>\n",
       "      <td>...</td>\n",
       "      <td>...</td>\n",
       "      <td>...</td>\n",
       "      <td>...</td>\n",
       "      <td>...</td>\n",
       "      <td>...</td>\n",
       "      <td>...</td>\n",
       "      <td>...</td>\n",
       "    </tr>\n",
       "    <tr>\n",
       "      <th>54055</th>\n",
       "      <td>cleaned/lucy/clownfish/compiler/src/CFCType.c</td>\n",
       "      <td>strcmp</td>\n",
       "      <td>specifier</td>\n",
       "      <td>int64_t</td>\n",
       "      <td>const char *</td>\n",
       "      <td>__s1</td>\n",
       "      <td>__s2</td>\n",
       "      <td>0</td>\n",
       "      <td>0</td>\n",
       "    </tr>\n",
       "    <tr>\n",
       "      <th>54056</th>\n",
       "      <td>cleaned/opensplice/src/services/ddsi2/code/nn_...</td>\n",
       "      <td>avl_delete</td>\n",
       "      <td>onode_from_node(tree,n)</td>\n",
       "      <td>tree</td>\n",
       "      <td>void *</td>\n",
       "      <td>vtree</td>\n",
       "      <td>vnode</td>\n",
       "      <td>1</td>\n",
       "      <td>1</td>\n",
       "    </tr>\n",
       "    <tr>\n",
       "      <th>54057</th>\n",
       "      <td>cleaned/marss/qemu/hw/etraxfs_pic.c</td>\n",
       "      <td>qemu_set_irq</td>\n",
       "      <td>!!fs-&gt;regs[R_R_NMI]</td>\n",
       "      <td>fs-&gt;parent_nmi</td>\n",
       "      <td>&lt;dependent type&gt;</td>\n",
       "      <td>NaN</td>\n",
       "      <td>NaN</td>\n",
       "      <td>1</td>\n",
       "      <td>0</td>\n",
       "    </tr>\n",
       "    <tr>\n",
       "      <th>54058</th>\n",
       "      <td>cleaned/sane-backends/backend/genesys_gl847.c</td>\n",
       "      <td>SETREG</td>\n",
       "      <td>0x9d</td>\n",
       "      <td>0x06</td>\n",
       "      <td>int</td>\n",
       "      <td>NaN</td>\n",
       "      <td>NaN</td>\n",
       "      <td>0</td>\n",
       "      <td>0</td>\n",
       "    </tr>\n",
       "    <tr>\n",
       "      <th>54059</th>\n",
       "      <td>cleaned/drone/lib/ffmpeg/ffserver.c</td>\n",
       "      <td>strcasecmp</td>\n",
       "      <td>cmd</td>\n",
       "      <td>BindAddress</td>\n",
       "      <td>const char *</td>\n",
       "      <td>NaN</td>\n",
       "      <td>NaN</td>\n",
       "      <td>0</td>\n",
       "      <td>0</td>\n",
       "    </tr>\n",
       "  </tbody>\n",
       "</table>\n",
       "<p>53102 rows × 9 columns</p>\n",
       "</div>"
      ],
      "text/plain": [
       "                                                    file function_name  \\\n",
       "0                           cleaned/powerswitch-os/vga.c          outb   \n",
       "1      cleaned/platform_external/icu4c/test/cintltst/...        strcmp   \n",
       "2                       cleaned/gnushogi/xshogi/xshogi.c        strcmp   \n",
       "3      cleaned/asuswrt-merlin/release/src/router/samb...         DEBUG   \n",
       "4               cleaned/tos-sfsu-fall2012/kernel/shell.c    is_command   \n",
       "...                                                  ...           ...   \n",
       "54055      cleaned/lucy/clownfish/compiler/src/CFCType.c        strcmp   \n",
       "54056  cleaned/opensplice/src/services/ddsi2/code/nn_...    avl_delete   \n",
       "54057                cleaned/marss/qemu/hw/etraxfs_pic.c  qemu_set_irq   \n",
       "54058      cleaned/sane-backends/backend/genesys_gl847.c        SETREG   \n",
       "54059                cleaned/drone/lib/ffmpeg/ffserver.c    strcasecmp   \n",
       "\n",
       "                          arg1  \\\n",
       "0                 mode13[2][i]   \n",
       "1                 subBundleKey   \n",
       "2                         name   \n",
       "3                            0   \n",
       "4                      command   \n",
       "...                        ...   \n",
       "54055                specifier   \n",
       "54056  onode_from_node(tree,n)   \n",
       "54057      !!fs->regs[R_R_NMI]   \n",
       "54058                     0x9d   \n",
       "54059                      cmd   \n",
       "\n",
       "                                                    arg2          arg_type  \\\n",
       "0                                                  0x3cf               int   \n",
       "1                                       availableFormats      const char *   \n",
       "2                                                    Yes      const char *   \n",
       "3      (\"%s: bad validation_level value %d.\\n\",fn,(in...               int   \n",
       "4                                                   pong            char *   \n",
       "...                                                  ...               ...   \n",
       "54055                                            int64_t      const char *   \n",
       "54056                                               tree            void *   \n",
       "54057                                     fs->parent_nmi  <dependent type>   \n",
       "54058                                               0x06               int   \n",
       "54059                                        BindAddress      const char *   \n",
       "\n",
       "      param1 param2  labels  predictions  \n",
       "0        NaN    NaN       1            1  \n",
       "1        NaN    NaN       0            0  \n",
       "2       __s1   __s2       0            0  \n",
       "3        NaN    NaN       0            0  \n",
       "4         s1     s2       0            0  \n",
       "...      ...    ...     ...          ...  \n",
       "54055   __s1   __s2       0            0  \n",
       "54056  vtree  vnode       1            1  \n",
       "54057    NaN    NaN       1            0  \n",
       "54058    NaN    NaN       0            0  \n",
       "54059    NaN    NaN       0            0  \n",
       "\n",
       "[53102 rows x 9 columns]"
      ]
     },
     "execution_count": 60,
     "metadata": {},
     "output_type": "execute_result"
    }
   ],
   "source": [
    "test_df"
   ]
  },
  {
   "cell_type": "code",
   "execution_count": 61,
   "metadata": {
    "execution": {
     "iopub.execute_input": "2023-03-01T07:38:35.609614Z",
     "iopub.status.busy": "2023-03-01T07:38:35.609215Z",
     "iopub.status.idle": "2023-03-01T07:38:36.102365Z",
     "shell.execute_reply": "2023-03-01T07:38:36.101061Z",
     "shell.execute_reply.started": "2023-03-01T07:38:35.609579Z"
    }
   },
   "outputs": [
    {
     "data": {
      "text/plain": [
       "array([0.7127268 , 0.04138989, 0.0478017 , ..., 0.01214881, 0.32554984,\n",
       "       0.00087541], dtype=float32)"
      ]
     },
     "execution_count": 61,
     "metadata": {},
     "output_type": "execute_result"
    }
   ],
   "source": [
    "positive_probabilities = softmax(prediction.predictions)[:, 1]\n",
    "positive_probabilities"
   ]
  },
  {
   "cell_type": "code",
   "execution_count": 62,
   "metadata": {
    "execution": {
     "iopub.execute_input": "2023-03-01T07:39:22.714174Z",
     "iopub.status.busy": "2023-03-01T07:39:22.713546Z",
     "iopub.status.idle": "2023-03-01T07:39:22.747212Z",
     "shell.execute_reply": "2023-03-01T07:39:22.745971Z",
     "shell.execute_reply.started": "2023-03-01T07:39:22.714125Z"
    }
   },
   "outputs": [
    {
     "data": {
      "text/html": [
       "<div>\n",
       "<style scoped>\n",
       "    .dataframe tbody tr th:only-of-type {\n",
       "        vertical-align: middle;\n",
       "    }\n",
       "\n",
       "    .dataframe tbody tr th {\n",
       "        vertical-align: top;\n",
       "    }\n",
       "\n",
       "    .dataframe thead th {\n",
       "        text-align: right;\n",
       "    }\n",
       "</style>\n",
       "<table border=\"1\" class=\"dataframe\">\n",
       "  <thead>\n",
       "    <tr style=\"text-align: right;\">\n",
       "      <th></th>\n",
       "      <th>file</th>\n",
       "      <th>function_name</th>\n",
       "      <th>arg1</th>\n",
       "      <th>arg2</th>\n",
       "      <th>arg_type</th>\n",
       "      <th>param1</th>\n",
       "      <th>param2</th>\n",
       "      <th>labels</th>\n",
       "      <th>predictions</th>\n",
       "      <th>positive_probabilities</th>\n",
       "    </tr>\n",
       "  </thead>\n",
       "  <tbody>\n",
       "    <tr>\n",
       "      <th>0</th>\n",
       "      <td>cleaned/powerswitch-os/vga.c</td>\n",
       "      <td>outb</td>\n",
       "      <td>mode13[2][i]</td>\n",
       "      <td>0x3cf</td>\n",
       "      <td>int</td>\n",
       "      <td>NaN</td>\n",
       "      <td>NaN</td>\n",
       "      <td>1</td>\n",
       "      <td>1</td>\n",
       "      <td>0.712727</td>\n",
       "    </tr>\n",
       "    <tr>\n",
       "      <th>1</th>\n",
       "      <td>cleaned/platform_external/icu4c/test/cintltst/...</td>\n",
       "      <td>strcmp</td>\n",
       "      <td>subBundleKey</td>\n",
       "      <td>availableFormats</td>\n",
       "      <td>const char *</td>\n",
       "      <td>NaN</td>\n",
       "      <td>NaN</td>\n",
       "      <td>0</td>\n",
       "      <td>0</td>\n",
       "      <td>0.041390</td>\n",
       "    </tr>\n",
       "    <tr>\n",
       "      <th>2</th>\n",
       "      <td>cleaned/gnushogi/xshogi/xshogi.c</td>\n",
       "      <td>strcmp</td>\n",
       "      <td>name</td>\n",
       "      <td>Yes</td>\n",
       "      <td>const char *</td>\n",
       "      <td>__s1</td>\n",
       "      <td>__s2</td>\n",
       "      <td>0</td>\n",
       "      <td>0</td>\n",
       "      <td>0.047802</td>\n",
       "    </tr>\n",
       "    <tr>\n",
       "      <th>3</th>\n",
       "      <td>cleaned/asuswrt-merlin/release/src/router/samb...</td>\n",
       "      <td>DEBUG</td>\n",
       "      <td>0</td>\n",
       "      <td>(\"%s: bad validation_level value %d.\\n\",fn,(in...</td>\n",
       "      <td>int</td>\n",
       "      <td>NaN</td>\n",
       "      <td>NaN</td>\n",
       "      <td>0</td>\n",
       "      <td>0</td>\n",
       "      <td>0.000150</td>\n",
       "    </tr>\n",
       "    <tr>\n",
       "      <th>4</th>\n",
       "      <td>cleaned/tos-sfsu-fall2012/kernel/shell.c</td>\n",
       "      <td>is_command</td>\n",
       "      <td>command</td>\n",
       "      <td>pong</td>\n",
       "      <td>char *</td>\n",
       "      <td>s1</td>\n",
       "      <td>s2</td>\n",
       "      <td>0</td>\n",
       "      <td>0</td>\n",
       "      <td>0.000289</td>\n",
       "    </tr>\n",
       "    <tr>\n",
       "      <th>...</th>\n",
       "      <td>...</td>\n",
       "      <td>...</td>\n",
       "      <td>...</td>\n",
       "      <td>...</td>\n",
       "      <td>...</td>\n",
       "      <td>...</td>\n",
       "      <td>...</td>\n",
       "      <td>...</td>\n",
       "      <td>...</td>\n",
       "      <td>...</td>\n",
       "    </tr>\n",
       "    <tr>\n",
       "      <th>54055</th>\n",
       "      <td>cleaned/lucy/clownfish/compiler/src/CFCType.c</td>\n",
       "      <td>strcmp</td>\n",
       "      <td>specifier</td>\n",
       "      <td>int64_t</td>\n",
       "      <td>const char *</td>\n",
       "      <td>__s1</td>\n",
       "      <td>__s2</td>\n",
       "      <td>0</td>\n",
       "      <td>0</td>\n",
       "      <td>0.003454</td>\n",
       "    </tr>\n",
       "    <tr>\n",
       "      <th>54056</th>\n",
       "      <td>cleaned/opensplice/src/services/ddsi2/code/nn_...</td>\n",
       "      <td>avl_delete</td>\n",
       "      <td>onode_from_node(tree,n)</td>\n",
       "      <td>tree</td>\n",
       "      <td>void *</td>\n",
       "      <td>vtree</td>\n",
       "      <td>vnode</td>\n",
       "      <td>1</td>\n",
       "      <td>1</td>\n",
       "      <td>0.978509</td>\n",
       "    </tr>\n",
       "    <tr>\n",
       "      <th>54057</th>\n",
       "      <td>cleaned/marss/qemu/hw/etraxfs_pic.c</td>\n",
       "      <td>qemu_set_irq</td>\n",
       "      <td>!!fs-&gt;regs[R_R_NMI]</td>\n",
       "      <td>fs-&gt;parent_nmi</td>\n",
       "      <td>&lt;dependent type&gt;</td>\n",
       "      <td>NaN</td>\n",
       "      <td>NaN</td>\n",
       "      <td>1</td>\n",
       "      <td>0</td>\n",
       "      <td>0.012149</td>\n",
       "    </tr>\n",
       "    <tr>\n",
       "      <th>54058</th>\n",
       "      <td>cleaned/sane-backends/backend/genesys_gl847.c</td>\n",
       "      <td>SETREG</td>\n",
       "      <td>0x9d</td>\n",
       "      <td>0x06</td>\n",
       "      <td>int</td>\n",
       "      <td>NaN</td>\n",
       "      <td>NaN</td>\n",
       "      <td>0</td>\n",
       "      <td>0</td>\n",
       "      <td>0.325550</td>\n",
       "    </tr>\n",
       "    <tr>\n",
       "      <th>54059</th>\n",
       "      <td>cleaned/drone/lib/ffmpeg/ffserver.c</td>\n",
       "      <td>strcasecmp</td>\n",
       "      <td>cmd</td>\n",
       "      <td>BindAddress</td>\n",
       "      <td>const char *</td>\n",
       "      <td>NaN</td>\n",
       "      <td>NaN</td>\n",
       "      <td>0</td>\n",
       "      <td>0</td>\n",
       "      <td>0.000875</td>\n",
       "    </tr>\n",
       "  </tbody>\n",
       "</table>\n",
       "<p>53102 rows × 10 columns</p>\n",
       "</div>"
      ],
      "text/plain": [
       "                                                    file function_name  \\\n",
       "0                           cleaned/powerswitch-os/vga.c          outb   \n",
       "1      cleaned/platform_external/icu4c/test/cintltst/...        strcmp   \n",
       "2                       cleaned/gnushogi/xshogi/xshogi.c        strcmp   \n",
       "3      cleaned/asuswrt-merlin/release/src/router/samb...         DEBUG   \n",
       "4               cleaned/tos-sfsu-fall2012/kernel/shell.c    is_command   \n",
       "...                                                  ...           ...   \n",
       "54055      cleaned/lucy/clownfish/compiler/src/CFCType.c        strcmp   \n",
       "54056  cleaned/opensplice/src/services/ddsi2/code/nn_...    avl_delete   \n",
       "54057                cleaned/marss/qemu/hw/etraxfs_pic.c  qemu_set_irq   \n",
       "54058      cleaned/sane-backends/backend/genesys_gl847.c        SETREG   \n",
       "54059                cleaned/drone/lib/ffmpeg/ffserver.c    strcasecmp   \n",
       "\n",
       "                          arg1  \\\n",
       "0                 mode13[2][i]   \n",
       "1                 subBundleKey   \n",
       "2                         name   \n",
       "3                            0   \n",
       "4                      command   \n",
       "...                        ...   \n",
       "54055                specifier   \n",
       "54056  onode_from_node(tree,n)   \n",
       "54057      !!fs->regs[R_R_NMI]   \n",
       "54058                     0x9d   \n",
       "54059                      cmd   \n",
       "\n",
       "                                                    arg2          arg_type  \\\n",
       "0                                                  0x3cf               int   \n",
       "1                                       availableFormats      const char *   \n",
       "2                                                    Yes      const char *   \n",
       "3      (\"%s: bad validation_level value %d.\\n\",fn,(in...               int   \n",
       "4                                                   pong            char *   \n",
       "...                                                  ...               ...   \n",
       "54055                                            int64_t      const char *   \n",
       "54056                                               tree            void *   \n",
       "54057                                     fs->parent_nmi  <dependent type>   \n",
       "54058                                               0x06               int   \n",
       "54059                                        BindAddress      const char *   \n",
       "\n",
       "      param1 param2  labels  predictions  positive_probabilities  \n",
       "0        NaN    NaN       1            1                0.712727  \n",
       "1        NaN    NaN       0            0                0.041390  \n",
       "2       __s1   __s2       0            0                0.047802  \n",
       "3        NaN    NaN       0            0                0.000150  \n",
       "4         s1     s2       0            0                0.000289  \n",
       "...      ...    ...     ...          ...                     ...  \n",
       "54055   __s1   __s2       0            0                0.003454  \n",
       "54056  vtree  vnode       1            1                0.978509  \n",
       "54057    NaN    NaN       1            0                0.012149  \n",
       "54058    NaN    NaN       0            0                0.325550  \n",
       "54059    NaN    NaN       0            0                0.000875  \n",
       "\n",
       "[53102 rows x 10 columns]"
      ]
     },
     "execution_count": 62,
     "metadata": {},
     "output_type": "execute_result"
    }
   ],
   "source": [
    "test_df[\"positive_probabilities\"] = positive_probabilities\n",
    "test_df"
   ]
  },
  {
   "cell_type": "code",
   "execution_count": 63,
   "metadata": {
    "execution": {
     "iopub.execute_input": "2023-03-01T07:39:35.603673Z",
     "iopub.status.busy": "2023-03-01T07:39:35.603246Z",
     "iopub.status.idle": "2023-03-01T07:39:35.829999Z",
     "shell.execute_reply": "2023-03-01T07:39:35.828867Z",
     "shell.execute_reply.started": "2023-03-01T07:39:35.603631Z"
    }
   },
   "outputs": [],
   "source": [
    "test_df.to_csv(\"function_args_swap_test_dataset_predictions.csv\", sep=\"\\t\", index=False)"
   ]
  }
 ],
 "metadata": {
  "kernelspec": {
   "display_name": "Python 3.10.6 64-bit",
   "language": "python",
   "name": "python3"
  },
  "language_info": {
   "codemirror_mode": {
    "name": "ipython",
    "version": 3
   },
   "file_extension": ".py",
   "mimetype": "text/x-python",
   "name": "python",
   "nbconvert_exporter": "python",
   "pygments_lexer": "ipython3",
   "version": "3.10.6"
  },
  "vscode": {
   "interpreter": {
    "hash": "916dbcbb3f70747c44a77c7bcd40155683ae19c65e1c03b4aa3499c5328201f1"
   }
  }
 },
 "nbformat": 4,
 "nbformat_minor": 4
}
