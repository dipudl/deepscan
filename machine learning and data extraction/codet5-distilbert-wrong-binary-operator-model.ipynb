{
 "cells": [
  {
   "cell_type": "code",
   "execution_count": 1,
   "metadata": {
    "_cell_guid": "b1076dfc-b9ad-4769-8c92-a6c4dae69d19",
    "_uuid": "8f2839f25d086af736a60e9eeb907d3b93b6e0e5",
    "execution": {
     "iopub.execute_input": "2023-03-01T16:52:48.736013Z",
     "iopub.status.busy": "2023-03-01T16:52:48.735392Z",
     "iopub.status.idle": "2023-03-01T16:53:03.996125Z",
     "shell.execute_reply": "2023-03-01T16:53:03.994108Z",
     "shell.execute_reply.started": "2023-03-01T16:52:48.735870Z"
    }
   },
   "outputs": [],
   "source": [
    "import os\n",
    "import numpy as np\n",
    "import pandas as pd\n",
    "from sklearn.model_selection import train_test_split\n",
    "from sklearn.metrics import accuracy_score, precision_score, recall_score, f1_score, log_loss\n",
    "\n",
    "from transformers import AutoModelForSequenceClassification, AutoTokenizer, Trainer, TrainerCallback, TrainingArguments, EarlyStoppingCallback\n",
    "from datasets import Dataset, load_dataset\n",
    "from copy import deepcopy\n",
    "import torch\n",
    "\n",
    "os.environ[\"WANDB_DISABLED\"] = \"true\"\n",
    "# os.environ[\"TOKENIZERS_PARALLELISM\"] = \"false\"\n",
    "\n",
    "RANDOM_STATE = 42"
   ]
  },
  {
   "cell_type": "code",
   "execution_count": 2,
   "metadata": {
    "execution": {
     "iopub.execute_input": "2023-03-01T16:54:25.852095Z",
     "iopub.status.busy": "2023-03-01T16:54:25.850457Z",
     "iopub.status.idle": "2023-03-01T16:54:25.859564Z",
     "shell.execute_reply": "2023-03-01T16:54:25.858101Z",
     "shell.execute_reply.started": "2023-03-01T16:54:25.852037Z"
    }
   },
   "outputs": [],
   "source": [
    "id2label = {0: \"CORRECT\", 1: \"BUGGY\"}\n",
    "label2id = {\"CORRECT\": 0, \"BUGGY\": 1}"
   ]
  },
  {
   "cell_type": "code",
   "execution_count": 3,
   "metadata": {
    "execution": {
     "iopub.execute_input": "2023-03-01T16:54:26.125452Z",
     "iopub.status.busy": "2023-03-01T16:54:26.124977Z",
     "iopub.status.idle": "2023-03-01T16:54:39.912159Z",
     "shell.execute_reply": "2023-03-01T16:54:39.910356Z",
     "shell.execute_reply.started": "2023-03-01T16:54:26.125413Z"
    }
   },
   "outputs": [
    {
     "data": {
      "application/vnd.jupyter.widget-view+json": {
       "model_id": "8e178b0de1174d2b9aa0eebee106666f",
       "version_major": 2,
       "version_minor": 0
      },
      "text/plain": [
       "Downloading:   0%|          | 0.00/3.59k [00:00<?, ?B/s]"
      ]
     },
     "metadata": {},
     "output_type": "display_data"
    },
    {
     "data": {
      "application/vnd.jupyter.widget-view+json": {
       "model_id": "1775b8a6b1954f829c69c3ecc03f6274",
       "version_major": 2,
       "version_minor": 0
      },
      "text/plain": [
       "Downloading:   0%|          | 0.00/276k [00:00<?, ?B/s]"
      ]
     },
     "metadata": {},
     "output_type": "display_data"
    },
    {
     "data": {
      "application/vnd.jupyter.widget-view+json": {
       "model_id": "983e1e060b67490abb9f04a2479fa215",
       "version_major": 2,
       "version_minor": 0
      },
      "text/plain": [
       "Downloading:   0%|          | 0.00/148k [00:00<?, ?B/s]"
      ]
     },
     "metadata": {},
     "output_type": "display_data"
    },
    {
     "data": {
      "application/vnd.jupyter.widget-view+json": {
       "model_id": "841fd1900ba84124b85c5d6e68b54926",
       "version_major": 2,
       "version_minor": 0
      },
      "text/plain": [
       "Downloading:   0%|          | 0.00/773k [00:00<?, ?B/s]"
      ]
     },
     "metadata": {},
     "output_type": "display_data"
    },
    {
     "data": {
      "application/vnd.jupyter.widget-view+json": {
       "model_id": "6616ea28c69142a0bc190e6e9c23142d",
       "version_major": 2,
       "version_minor": 0
      },
      "text/plain": [
       "Downloading:   0%|          | 0.00/3.01k [00:00<?, ?B/s]"
      ]
     },
     "metadata": {},
     "output_type": "display_data"
    },
    {
     "data": {
      "application/vnd.jupyter.widget-view+json": {
       "model_id": "bebfdde2fff44826ac7b9170d00d1449",
       "version_major": 2,
       "version_minor": 0
      },
      "text/plain": [
       "Downloading:   0%|          | 0.00/727 [00:00<?, ?B/s]"
      ]
     },
     "metadata": {},
     "output_type": "display_data"
    },
    {
     "data": {
      "application/vnd.jupyter.widget-view+json": {
       "model_id": "faf1df3b771c41f58ba874679368a96d",
       "version_major": 2,
       "version_minor": 0
      },
      "text/plain": [
       "Downloading:   0%|          | 0.00/255M [00:00<?, ?B/s]"
      ]
     },
     "metadata": {},
     "output_type": "display_data"
    }
   ],
   "source": [
    "tokenizer = AutoTokenizer.from_pretrained('dipudl/codet5-base')\n",
    "# model = AutoModelForSequenceClassification.from_pretrained('distilbert-base-uncased',\n",
    "#                                                            num_labels=2,\n",
    "#                                                            id2label=id2label,\n",
    "#                                                            label2id=label2id)\n",
    "\n",
    "model = AutoModelForSequenceClassification.from_pretrained('dipudl/wrong-binary-operator-bug-distilbert-model',\n",
    "                                                           num_labels=2,\n",
    "                                                           id2label=id2label,\n",
    "                                                           label2id=label2id)"
   ]
  },
  {
   "cell_type": "code",
   "execution_count": 13,
   "metadata": {
    "execution": {
     "iopub.execute_input": "2023-03-01T16:54:40.176264Z",
     "iopub.status.busy": "2023-03-01T16:54:40.175634Z",
     "iopub.status.idle": "2023-03-01T16:54:41.694839Z",
     "shell.execute_reply": "2023-03-01T16:54:41.693247Z",
     "shell.execute_reply.started": "2023-03-01T16:54:40.176204Z"
    }
   },
   "outputs": [
    {
     "name": "stdout",
     "output_type": "stream",
     "text": [
      "/bin/bash: /opt/conda/lib/libtinfo.so.6: no version information available (required by /bin/bash)\n"
     ]
    }
   ],
   "source": [
    "!pip install huggingface_hub\n",
    "!python -c \"from huggingface_hub.hf_api import HfFolder; HfFolder.save_token('XXXXXX')\""
   ]
  },
  {
   "cell_type": "markdown",
   "metadata": {},
   "source": [
    "-----\n",
    "## Load Dataset\n",
    "-----"
   ]
  },
  {
   "cell_type": "code",
   "execution_count": 14,
   "metadata": {
    "execution": {
     "iopub.execute_input": "2023-03-01T16:54:41.699596Z",
     "iopub.status.busy": "2023-03-01T16:54:41.697059Z",
     "iopub.status.idle": "2023-03-01T16:54:47.552281Z",
     "shell.execute_reply": "2023-03-01T16:54:47.550875Z",
     "shell.execute_reply.started": "2023-03-01T16:54:41.699545Z"
    }
   },
   "outputs": [],
   "source": [
    "train_df = pd.read_csv(\"/kaggle/input/wrong-binary-operator-dataset-train-test/wrong_binary_operator_dataset_filtered_train.csv\", sep=\"\\t\")\n",
    "test_df = pd.read_csv(\"/kaggle/input/wrong-binary-operator-dataset-train-test/wrong_binary_operator_dataset_filtered_test.csv\", sep=\"\\t\")"
   ]
  },
  {
   "cell_type": "code",
   "execution_count": 15,
   "metadata": {
    "execution": {
     "iopub.execute_input": "2023-03-01T16:54:47.555262Z",
     "iopub.status.busy": "2023-03-01T16:54:47.554698Z",
     "iopub.status.idle": "2023-03-01T16:54:47.646585Z",
     "shell.execute_reply": "2023-03-01T16:54:47.644675Z",
     "shell.execute_reply.started": "2023-03-01T16:54:47.555205Z"
    }
   },
   "outputs": [
    {
     "data": {
      "text/html": [
       "<div>\n",
       "<style scoped>\n",
       "    .dataframe tbody tr th:only-of-type {\n",
       "        vertical-align: middle;\n",
       "    }\n",
       "\n",
       "    .dataframe tbody tr th {\n",
       "        vertical-align: top;\n",
       "    }\n",
       "\n",
       "    .dataframe thead th {\n",
       "        text-align: right;\n",
       "    }\n",
       "</style>\n",
       "<table border=\"1\" class=\"dataframe\">\n",
       "  <thead>\n",
       "    <tr style=\"text-align: right;\">\n",
       "      <th></th>\n",
       "      <th>file</th>\n",
       "      <th>left</th>\n",
       "      <th>operator</th>\n",
       "      <th>right</th>\n",
       "      <th>type_left</th>\n",
       "      <th>type_right</th>\n",
       "      <th>parent</th>\n",
       "      <th>grandparent</th>\n",
       "      <th>start_line</th>\n",
       "      <th>start_column</th>\n",
       "      <th>end_line</th>\n",
       "      <th>end_column</th>\n",
       "      <th>labels</th>\n",
       "    </tr>\n",
       "  </thead>\n",
       "  <tbody>\n",
       "    <tr>\n",
       "      <th>970395</th>\n",
       "      <td>cleaned/psychtoolbox-3/PsychSourceGL/Source/OS...</td>\n",
       "      <td>numEntries</td>\n",
       "      <td>&lt;&lt;</td>\n",
       "      <td>1</td>\n",
       "      <td>int</td>\n",
       "      <td>int</td>\n",
       "      <td>IF_STMT</td>\n",
       "      <td>COMPOUND_STMT</td>\n",
       "      <td>901</td>\n",
       "      <td>6</td>\n",
       "      <td>901</td>\n",
       "      <td>20</td>\n",
       "      <td>1</td>\n",
       "    </tr>\n",
       "    <tr>\n",
       "      <th>678511</th>\n",
       "      <td>cleaned/rdis/src/rdg.c</td>\n",
       "      <td>rdg_node_center_x(rdg_node)</td>\n",
       "      <td>-=</td>\n",
       "      <td>10</td>\n",
       "      <td>int</td>\n",
       "      <td>int</td>\n",
       "      <td>VAR_DECL</td>\n",
       "      <td>DECL_STMT</td>\n",
       "      <td>1423</td>\n",
       "      <td>18</td>\n",
       "      <td>1423</td>\n",
       "      <td>50</td>\n",
       "      <td>1</td>\n",
       "    </tr>\n",
       "    <tr>\n",
       "      <th>249261</th>\n",
       "      <td>cleaned/msm7x30-3.4.x-naa/fs/notify/fanotify/f...</td>\n",
       "      <td>inode_mark</td>\n",
       "      <td>&amp;&amp;</td>\n",
       "      <td>vfsmnt_mark</td>\n",
       "      <td>struct fsnotify_mark *</td>\n",
       "      <td>struct fsnotify_mark *</td>\n",
       "      <td>IF_STMT</td>\n",
       "      <td>COMPOUND_STMT</td>\n",
       "      <td>184</td>\n",
       "      <td>6</td>\n",
       "      <td>184</td>\n",
       "      <td>31</td>\n",
       "      <td>0</td>\n",
       "    </tr>\n",
       "    <tr>\n",
       "      <th>370311</th>\n",
       "      <td>cleaned/freebsd/tools/tools/vxge/vxge_info.c</td>\n",
       "      <td>atoi(argv[5])</td>\n",
       "      <td>&lt;=</td>\n",
       "      <td>3</td>\n",
       "      <td>int</td>\n",
       "      <td>int</td>\n",
       "      <td>PAREN_EXPR</td>\n",
       "      <td>BINARY_OPERATOR</td>\n",
       "      <td>199</td>\n",
       "      <td>38</td>\n",
       "      <td>199</td>\n",
       "      <td>56</td>\n",
       "      <td>0</td>\n",
       "    </tr>\n",
       "    <tr>\n",
       "      <th>295947</th>\n",
       "      <td>cleaned/msm7x30-3.4.x-naa/drivers/xen/grant-ta...</td>\n",
       "      <td>req_entries</td>\n",
       "      <td>/</td>\n",
       "      <td>(grefs_per_grant_frame-1)</td>\n",
       "      <td>unsigned int</td>\n",
       "      <td>unsigned int</td>\n",
       "      <td>PAREN_EXPR</td>\n",
       "      <td>BINARY_OPERATOR</td>\n",
       "      <td>1025</td>\n",
       "      <td>12</td>\n",
       "      <td>1025</td>\n",
       "      <td>51</td>\n",
       "      <td>1</td>\n",
       "    </tr>\n",
       "  </tbody>\n",
       "</table>\n",
       "</div>"
      ],
      "text/plain": [
       "                                                     file  \\\n",
       "970395  cleaned/psychtoolbox-3/PsychSourceGL/Source/OS...   \n",
       "678511                             cleaned/rdis/src/rdg.c   \n",
       "249261  cleaned/msm7x30-3.4.x-naa/fs/notify/fanotify/f...   \n",
       "370311       cleaned/freebsd/tools/tools/vxge/vxge_info.c   \n",
       "295947  cleaned/msm7x30-3.4.x-naa/drivers/xen/grant-ta...   \n",
       "\n",
       "                               left operator                      right  \\\n",
       "970395                   numEntries       <<                          1   \n",
       "678511  rdg_node_center_x(rdg_node)       -=                         10   \n",
       "249261                   inode_mark       &&                vfsmnt_mark   \n",
       "370311                atoi(argv[5])       <=                          3   \n",
       "295947                  req_entries        /  (grefs_per_grant_frame-1)   \n",
       "\n",
       "                     type_left              type_right      parent  \\\n",
       "970395                     int                     int     IF_STMT   \n",
       "678511                     int                     int    VAR_DECL   \n",
       "249261  struct fsnotify_mark *  struct fsnotify_mark *     IF_STMT   \n",
       "370311                     int                     int  PAREN_EXPR   \n",
       "295947            unsigned int            unsigned int  PAREN_EXPR   \n",
       "\n",
       "            grandparent  start_line  start_column  end_line  end_column  \\\n",
       "970395    COMPOUND_STMT         901             6       901          20   \n",
       "678511        DECL_STMT        1423            18      1423          50   \n",
       "249261    COMPOUND_STMT         184             6       184          31   \n",
       "370311  BINARY_OPERATOR         199            38       199          56   \n",
       "295947  BINARY_OPERATOR        1025            12      1025          51   \n",
       "\n",
       "        labels  \n",
       "970395       1  \n",
       "678511       1  \n",
       "249261       0  \n",
       "370311       0  \n",
       "295947       1  "
      ]
     },
     "execution_count": 15,
     "metadata": {},
     "output_type": "execute_result"
    }
   ],
   "source": [
    "train_df.sample(5)"
   ]
  },
  {
   "cell_type": "code",
   "execution_count": 16,
   "metadata": {
    "execution": {
     "iopub.execute_input": "2023-03-01T16:54:47.649836Z",
     "iopub.status.busy": "2023-03-01T16:54:47.649232Z",
     "iopub.status.idle": "2023-03-01T16:54:47.675218Z",
     "shell.execute_reply": "2023-03-01T16:54:47.673407Z",
     "shell.execute_reply.started": "2023-03-01T16:54:47.649781Z"
    }
   },
   "outputs": [
    {
     "data": {
      "text/html": [
       "<div>\n",
       "<style scoped>\n",
       "    .dataframe tbody tr th:only-of-type {\n",
       "        vertical-align: middle;\n",
       "    }\n",
       "\n",
       "    .dataframe tbody tr th {\n",
       "        vertical-align: top;\n",
       "    }\n",
       "\n",
       "    .dataframe thead th {\n",
       "        text-align: right;\n",
       "    }\n",
       "</style>\n",
       "<table border=\"1\" class=\"dataframe\">\n",
       "  <thead>\n",
       "    <tr style=\"text-align: right;\">\n",
       "      <th></th>\n",
       "      <th>file</th>\n",
       "      <th>left</th>\n",
       "      <th>operator</th>\n",
       "      <th>right</th>\n",
       "      <th>type_left</th>\n",
       "      <th>type_right</th>\n",
       "      <th>parent</th>\n",
       "      <th>grandparent</th>\n",
       "      <th>start_line</th>\n",
       "      <th>start_column</th>\n",
       "      <th>end_line</th>\n",
       "      <th>end_column</th>\n",
       "      <th>labels</th>\n",
       "    </tr>\n",
       "  </thead>\n",
       "  <tbody>\n",
       "    <tr>\n",
       "      <th>9674</th>\n",
       "      <td>cleaned/fis-gtm/sr_port_cm/gtcmtr_zprevious.c</td>\n",
       "      <td>kcur</td>\n",
       "      <td>&lt;</td>\n",
       "      <td>ktop</td>\n",
       "      <td>unsigned char *</td>\n",
       "      <td>unsigned char *</td>\n",
       "      <td>FOR_STMT</td>\n",
       "      <td>COMPOUND_STMT</td>\n",
       "      <td>84</td>\n",
       "      <td>62</td>\n",
       "      <td>84</td>\n",
       "      <td>73</td>\n",
       "      <td>0</td>\n",
       "    </tr>\n",
       "    <tr>\n",
       "      <th>83160</th>\n",
       "      <td>cleaned/fis-gtm/sr_unix/get_command_line.c</td>\n",
       "      <td>'r'</td>\n",
       "      <td>==</td>\n",
       "      <td>TOLOWER(*cp)</td>\n",
       "      <td>int</td>\n",
       "      <td>int</td>\n",
       "      <td>IF_STMT</td>\n",
       "      <td>COMPOUND_STMT</td>\n",
       "      <td>50</td>\n",
       "      <td>9</td>\n",
       "      <td>50</td>\n",
       "      <td>28</td>\n",
       "      <td>0</td>\n",
       "    </tr>\n",
       "    <tr>\n",
       "      <th>69157</th>\n",
       "      <td>cleaned/blensor/source/blender/editors/mesh/ed...</td>\n",
       "      <td>index</td>\n",
       "      <td>&lt;=</td>\n",
       "      <td>data-&gt;lastIndex</td>\n",
       "      <td>float</td>\n",
       "      <td>float</td>\n",
       "      <td>IF_STMT</td>\n",
       "      <td>COMPOUND_STMT</td>\n",
       "      <td>354</td>\n",
       "      <td>7</td>\n",
       "      <td>354</td>\n",
       "      <td>31</td>\n",
       "      <td>0</td>\n",
       "    </tr>\n",
       "    <tr>\n",
       "      <th>44242</th>\n",
       "      <td>cleaned/msm7x30-3.4.x-naa/arch/sparc/kernel/ti...</td>\n",
       "      <td>usec</td>\n",
       "      <td>*</td>\n",
       "      <td>1000</td>\n",
       "      <td>unsigned long</td>\n",
       "      <td>unsigned long</td>\n",
       "      <td>UNEXPOSED_EXPR</td>\n",
       "      <td>RETURN_STMT</td>\n",
       "      <td>208</td>\n",
       "      <td>9</td>\n",
       "      <td>208</td>\n",
       "      <td>20</td>\n",
       "      <td>0</td>\n",
       "    </tr>\n",
       "    <tr>\n",
       "      <th>109643</th>\n",
       "      <td>cleaned/feosmusic/codecs/aac/source/sbrhfadj.c</td>\n",
       "      <td>band</td>\n",
       "      <td>&lt;&lt;</td>\n",
       "      <td>bandEnd</td>\n",
       "      <td>int</td>\n",
       "      <td>int</td>\n",
       "      <td>FOR_STMT</td>\n",
       "      <td>COMPOUND_STMT</td>\n",
       "      <td>206</td>\n",
       "      <td>25</td>\n",
       "      <td>206</td>\n",
       "      <td>39</td>\n",
       "      <td>1</td>\n",
       "    </tr>\n",
       "  </tbody>\n",
       "</table>\n",
       "</div>"
      ],
      "text/plain": [
       "                                                     file   left operator  \\\n",
       "9674        cleaned/fis-gtm/sr_port_cm/gtcmtr_zprevious.c   kcur        <   \n",
       "83160          cleaned/fis-gtm/sr_unix/get_command_line.c    'r'       ==   \n",
       "69157   cleaned/blensor/source/blender/editors/mesh/ed...  index       <=   \n",
       "44242   cleaned/msm7x30-3.4.x-naa/arch/sparc/kernel/ti...   usec        *   \n",
       "109643     cleaned/feosmusic/codecs/aac/source/sbrhfadj.c   band       <<   \n",
       "\n",
       "                  right        type_left       type_right          parent  \\\n",
       "9674               ktop  unsigned char *  unsigned char *        FOR_STMT   \n",
       "83160      TOLOWER(*cp)              int              int         IF_STMT   \n",
       "69157   data->lastIndex            float            float         IF_STMT   \n",
       "44242              1000    unsigned long    unsigned long  UNEXPOSED_EXPR   \n",
       "109643          bandEnd              int              int        FOR_STMT   \n",
       "\n",
       "          grandparent  start_line  start_column  end_line  end_column  labels  \n",
       "9674    COMPOUND_STMT          84            62        84          73       0  \n",
       "83160   COMPOUND_STMT          50             9        50          28       0  \n",
       "69157   COMPOUND_STMT         354             7       354          31       0  \n",
       "44242     RETURN_STMT         208             9       208          20       0  \n",
       "109643  COMPOUND_STMT         206            25       206          39       1  "
      ]
     },
     "execution_count": 16,
     "metadata": {},
     "output_type": "execute_result"
    }
   ],
   "source": [
    "test_df.sample(5)"
   ]
  },
  {
   "cell_type": "code",
   "execution_count": 17,
   "metadata": {
    "execution": {
     "iopub.execute_input": "2023-03-01T16:54:47.678481Z",
     "iopub.status.busy": "2023-03-01T16:54:47.677383Z",
     "iopub.status.idle": "2023-03-01T16:54:47.687647Z",
     "shell.execute_reply": "2023-03-01T16:54:47.685933Z",
     "shell.execute_reply.started": "2023-03-01T16:54:47.678426Z"
    }
   },
   "outputs": [
    {
     "data": {
      "text/plain": [
       "((1000786, 13), (111200, 13))"
      ]
     },
     "execution_count": 17,
     "metadata": {},
     "output_type": "execute_result"
    }
   ],
   "source": [
    "train_df.shape, test_df.shape"
   ]
  },
  {
   "cell_type": "code",
   "execution_count": 18,
   "metadata": {
    "execution": {
     "iopub.execute_input": "2023-03-01T16:54:47.690392Z",
     "iopub.status.busy": "2023-03-01T16:54:47.689924Z",
     "iopub.status.idle": "2023-03-01T16:54:48.138071Z",
     "shell.execute_reply": "2023-03-01T16:54:48.136177Z",
     "shell.execute_reply.started": "2023-03-01T16:54:47.690353Z"
    }
   },
   "outputs": [
    {
     "data": {
      "text/plain": [
       "file            0\n",
       "left            0\n",
       "operator        0\n",
       "right           0\n",
       "type_left       0\n",
       "type_right      0\n",
       "parent          0\n",
       "grandparent     0\n",
       "start_line      0\n",
       "start_column    0\n",
       "end_line        0\n",
       "end_column      0\n",
       "labels          0\n",
       "dtype: int64"
      ]
     },
     "execution_count": 18,
     "metadata": {},
     "output_type": "execute_result"
    }
   ],
   "source": [
    "train_df.isna().sum()"
   ]
  },
  {
   "cell_type": "code",
   "execution_count": 19,
   "metadata": {
    "execution": {
     "iopub.execute_input": "2023-03-01T16:54:48.141448Z",
     "iopub.status.busy": "2023-03-01T16:54:48.140534Z",
     "iopub.status.idle": "2023-03-01T16:54:50.196627Z",
     "shell.execute_reply": "2023-03-01T16:54:50.194602Z",
     "shell.execute_reply.started": "2023-03-01T16:54:48.141381Z"
    }
   },
   "outputs": [],
   "source": [
    "train_df['full_text'] = train_df['left'] + tokenizer.sep_token + train_df['operator'] + tokenizer.sep_token + train_df['right'] + tokenizer.sep_token + train_df['type_left'] + tokenizer.sep_token + train_df['type_right'] + tokenizer.sep_token + train_df['parent'] + tokenizer.sep_token + train_df['grandparent']\n",
    "test_df['full_text'] = test_df['left'] + tokenizer.sep_token + test_df['operator'] + tokenizer.sep_token + test_df['right'] + tokenizer.sep_token + test_df['type_left'] + tokenizer.sep_token + test_df['type_right'] + tokenizer.sep_token + test_df['parent'] + tokenizer.sep_token + test_df['grandparent']"
   ]
  },
  {
   "cell_type": "code",
   "execution_count": 20,
   "metadata": {
    "execution": {
     "iopub.execute_input": "2023-03-01T16:54:50.199516Z",
     "iopub.status.busy": "2023-03-01T16:54:50.198829Z",
     "iopub.status.idle": "2023-03-01T16:54:50.831276Z",
     "shell.execute_reply": "2023-03-01T16:54:50.829728Z",
     "shell.execute_reply.started": "2023-03-01T16:54:50.199471Z"
    }
   },
   "outputs": [],
   "source": [
    "train_df.drop(['left','operator','right','type_left','type_right','parent', 'grandparent'], axis=1, inplace=True)\n",
    "test_df.drop(['left','operator','right','type_left','type_right','parent', 'grandparent'], axis=1, inplace=True)"
   ]
  },
  {
   "cell_type": "code",
   "execution_count": 21,
   "metadata": {
    "execution": {
     "iopub.execute_input": "2023-03-01T16:54:50.833598Z",
     "iopub.status.busy": "2023-03-01T16:54:50.833125Z",
     "iopub.status.idle": "2023-03-01T16:54:50.897917Z",
     "shell.execute_reply": "2023-03-01T16:54:50.896472Z",
     "shell.execute_reply.started": "2023-03-01T16:54:50.833555Z"
    }
   },
   "outputs": [
    {
     "data": {
      "text/html": [
       "<div>\n",
       "<style scoped>\n",
       "    .dataframe tbody tr th:only-of-type {\n",
       "        vertical-align: middle;\n",
       "    }\n",
       "\n",
       "    .dataframe tbody tr th {\n",
       "        vertical-align: top;\n",
       "    }\n",
       "\n",
       "    .dataframe thead th {\n",
       "        text-align: right;\n",
       "    }\n",
       "</style>\n",
       "<table border=\"1\" class=\"dataframe\">\n",
       "  <thead>\n",
       "    <tr style=\"text-align: right;\">\n",
       "      <th></th>\n",
       "      <th>file</th>\n",
       "      <th>start_line</th>\n",
       "      <th>start_column</th>\n",
       "      <th>end_line</th>\n",
       "      <th>end_column</th>\n",
       "      <th>labels</th>\n",
       "      <th>full_text</th>\n",
       "    </tr>\n",
       "  </thead>\n",
       "  <tbody>\n",
       "    <tr>\n",
       "      <th>613086</th>\n",
       "      <td>cleaned/mame-os-x/mame/src/mame/video/malzak.c</td>\n",
       "      <td>42</td>\n",
       "      <td>11</td>\n",
       "      <td>42</td>\n",
       "      <td>16</td>\n",
       "      <td>1</td>\n",
       "      <td>512&lt;/s&gt;*=&lt;/s&gt;2&lt;/s&gt;int&lt;/s&gt;int&lt;/s&gt;COMPOUND_ASSIG...</td>\n",
       "    </tr>\n",
       "    <tr>\n",
       "      <th>68975</th>\n",
       "      <td>cleaned/msm7x30-3.4.x-naa/drivers/s390/char/co...</td>\n",
       "      <td>468</td>\n",
       "      <td>8</td>\n",
       "      <td>468</td>\n",
       "      <td>30</td>\n",
       "      <td>1</td>\n",
       "      <td>raw-&gt;head&lt;/s&gt;%&lt;/s&gt;raw-&gt;count&lt;/s&gt;int&lt;/s&gt;int&lt;/s&gt;...</td>\n",
       "    </tr>\n",
       "    <tr>\n",
       "      <th>435909</th>\n",
       "      <td>cleaned/acc/tdt/cvs/driver/player2/linux/compo...</td>\n",
       "      <td>273</td>\n",
       "      <td>6</td>\n",
       "      <td>273</td>\n",
       "      <td>49</td>\n",
       "      <td>0</td>\n",
       "      <td>OS_TaskNameTable[FreeEntry].Name[0]&lt;/s&gt;==&lt;/s&gt;'...</td>\n",
       "    </tr>\n",
       "    <tr>\n",
       "      <th>841465</th>\n",
       "      <td>cleaned/r-source/src/nmath/polygamma.c</td>\n",
       "      <td>468</td>\n",
       "      <td>11</td>\n",
       "      <td>468</td>\n",
       "      <td>20</td>\n",
       "      <td>0</td>\n",
       "      <td>s&lt;/s&gt;-&lt;/s&gt;xdmln&lt;/s&gt;double&lt;/s&gt;double&lt;/s&gt;BINARY_...</td>\n",
       "    </tr>\n",
       "    <tr>\n",
       "      <th>671443</th>\n",
       "      <td>cleaned/ur-quan-mods/src/libs/graphics/sdl/2xs...</td>\n",
       "      <td>212</td>\n",
       "      <td>9</td>\n",
       "      <td>212</td>\n",
       "      <td>14</td>\n",
       "      <td>0</td>\n",
       "      <td>y&lt;/s&gt;+&lt;/s&gt;2&lt;/s&gt;int&lt;/s&gt;int&lt;/s&gt;BINARY_OPERATOR&lt;/...</td>\n",
       "    </tr>\n",
       "  </tbody>\n",
       "</table>\n",
       "</div>"
      ],
      "text/plain": [
       "                                                     file  start_line  \\\n",
       "613086     cleaned/mame-os-x/mame/src/mame/video/malzak.c          42   \n",
       "68975   cleaned/msm7x30-3.4.x-naa/drivers/s390/char/co...         468   \n",
       "435909  cleaned/acc/tdt/cvs/driver/player2/linux/compo...         273   \n",
       "841465             cleaned/r-source/src/nmath/polygamma.c         468   \n",
       "671443  cleaned/ur-quan-mods/src/libs/graphics/sdl/2xs...         212   \n",
       "\n",
       "        start_column  end_line  end_column  labels  \\\n",
       "613086            11        42          16       1   \n",
       "68975              8       468          30       1   \n",
       "435909             6       273          49       0   \n",
       "841465            11       468          20       0   \n",
       "671443             9       212          14       0   \n",
       "\n",
       "                                                full_text  \n",
       "613086  512</s>*=</s>2</s>int</s>int</s>COMPOUND_ASSIG...  \n",
       "68975   raw->head</s>%</s>raw->count</s>int</s>int</s>...  \n",
       "435909  OS_TaskNameTable[FreeEntry].Name[0]</s>==</s>'...  \n",
       "841465  s</s>-</s>xdmln</s>double</s>double</s>BINARY_...  \n",
       "671443  y</s>+</s>2</s>int</s>int</s>BINARY_OPERATOR</...  "
      ]
     },
     "execution_count": 21,
     "metadata": {},
     "output_type": "execute_result"
    }
   ],
   "source": [
    "train_df.sample(5)"
   ]
  },
  {
   "cell_type": "code",
   "execution_count": 22,
   "metadata": {
    "execution": {
     "iopub.execute_input": "2023-03-01T16:54:50.900823Z",
     "iopub.status.busy": "2023-03-01T16:54:50.899654Z",
     "iopub.status.idle": "2023-03-01T16:54:50.944367Z",
     "shell.execute_reply": "2023-03-01T16:54:50.942510Z",
     "shell.execute_reply.started": "2023-03-01T16:54:50.900776Z"
    }
   },
   "outputs": [
    {
     "data": {
      "text/html": [
       "<div>\n",
       "<style scoped>\n",
       "    .dataframe tbody tr th:only-of-type {\n",
       "        vertical-align: middle;\n",
       "    }\n",
       "\n",
       "    .dataframe tbody tr th {\n",
       "        vertical-align: top;\n",
       "    }\n",
       "\n",
       "    .dataframe thead th {\n",
       "        text-align: right;\n",
       "    }\n",
       "</style>\n",
       "<table border=\"1\" class=\"dataframe\">\n",
       "  <thead>\n",
       "    <tr style=\"text-align: right;\">\n",
       "      <th></th>\n",
       "      <th>file</th>\n",
       "      <th>start_line</th>\n",
       "      <th>start_column</th>\n",
       "      <th>end_line</th>\n",
       "      <th>end_column</th>\n",
       "      <th>labels</th>\n",
       "      <th>full_text</th>\n",
       "    </tr>\n",
       "  </thead>\n",
       "  <tbody>\n",
       "    <tr>\n",
       "      <th>65942</th>\n",
       "      <td>cleaned/openwolf/src/tools/bspc/l_qfiles.c</td>\n",
       "      <td>188</td>\n",
       "      <td>34</td>\n",
       "      <td>188</td>\n",
       "      <td>44</td>\n",
       "      <td>0</td>\n",
       "      <td>filter&lt;/s&gt;+&lt;/s&gt;1&lt;/s&gt;char *&lt;/s&gt;int&lt;/s&gt;PAREN_EXP...</td>\n",
       "    </tr>\n",
       "    <tr>\n",
       "      <th>55699</th>\n",
       "      <td>cleaned/taulabs/matlab/ins/insgps.c</td>\n",
       "      <td>1616</td>\n",
       "      <td>17</td>\n",
       "      <td>1616</td>\n",
       "      <td>28</td>\n",
       "      <td>1</td>\n",
       "      <td>-q0&lt;/s&gt;+&lt;/s&gt;Be[0]&lt;/s&gt;float&lt;/s&gt;float&lt;/s&gt;BINARY_...</td>\n",
       "    </tr>\n",
       "    <tr>\n",
       "      <th>102709</th>\n",
       "      <td>cleaned/taulabs/matlab/ins/insgps.c</td>\n",
       "      <td>533</td>\n",
       "      <td>7</td>\n",
       "      <td>533</td>\n",
       "      <td>24</td>\n",
       "      <td>1</td>\n",
       "      <td>F[5][9]&lt;/s&gt;-&lt;/s&gt;D[2][9]&lt;/s&gt;float&lt;/s&gt;float&lt;/s&gt;B...</td>\n",
       "    </tr>\n",
       "    <tr>\n",
       "      <th>64583</th>\n",
       "      <td>cleaned/cci/src/util/argv.c</td>\n",
       "      <td>72</td>\n",
       "      <td>35</td>\n",
       "      <td>72</td>\n",
       "      <td>62</td>\n",
       "      <td>1</td>\n",
       "      <td>(argc+2)&lt;/s&gt;-&lt;/s&gt;sizeof(char*)&lt;/s&gt;unsigned lon...</td>\n",
       "    </tr>\n",
       "    <tr>\n",
       "      <th>5754</th>\n",
       "      <td>cleaned/ox820-2.6-linux/drivers/net/wireless/w...</td>\n",
       "      <td>955</td>\n",
       "      <td>12</td>\n",
       "      <td>955</td>\n",
       "      <td>27</td>\n",
       "      <td>1</td>\n",
       "      <td>ring_ptr&lt;/s&gt;&lt;&lt;&lt;/s&gt;0xff&lt;/s&gt;int&lt;/s&gt;int&lt;/s&gt;CALL_E...</td>\n",
       "    </tr>\n",
       "  </tbody>\n",
       "</table>\n",
       "</div>"
      ],
      "text/plain": [
       "                                                     file  start_line  \\\n",
       "65942          cleaned/openwolf/src/tools/bspc/l_qfiles.c         188   \n",
       "55699                 cleaned/taulabs/matlab/ins/insgps.c        1616   \n",
       "102709                cleaned/taulabs/matlab/ins/insgps.c         533   \n",
       "64583                         cleaned/cci/src/util/argv.c          72   \n",
       "5754    cleaned/ox820-2.6-linux/drivers/net/wireless/w...         955   \n",
       "\n",
       "        start_column  end_line  end_column  labels  \\\n",
       "65942             34       188          44       0   \n",
       "55699             17      1616          28       1   \n",
       "102709             7       533          24       1   \n",
       "64583             35        72          62       1   \n",
       "5754              12       955          27       1   \n",
       "\n",
       "                                                full_text  \n",
       "65942   filter</s>+</s>1</s>char *</s>int</s>PAREN_EXP...  \n",
       "55699   -q0</s>+</s>Be[0]</s>float</s>float</s>BINARY_...  \n",
       "102709  F[5][9]</s>-</s>D[2][9]</s>float</s>float</s>B...  \n",
       "64583   (argc+2)</s>-</s>sizeof(char*)</s>unsigned lon...  \n",
       "5754    ring_ptr</s><<</s>0xff</s>int</s>int</s>CALL_E...  "
      ]
     },
     "execution_count": 22,
     "metadata": {},
     "output_type": "execute_result"
    }
   ],
   "source": [
    "test_df.sample(5)"
   ]
  },
  {
   "cell_type": "code",
   "execution_count": 23,
   "metadata": {
    "execution": {
     "iopub.execute_input": "2023-03-01T16:54:50.947254Z",
     "iopub.status.busy": "2023-03-01T16:54:50.946776Z",
     "iopub.status.idle": "2023-03-01T16:54:50.957011Z",
     "shell.execute_reply": "2023-03-01T16:54:50.955399Z",
     "shell.execute_reply.started": "2023-03-01T16:54:50.947213Z"
    }
   },
   "outputs": [],
   "source": [
    "# FOR TESTING PURPOSE\n",
    "# train_df = train_df.sample(int(train_df.shape[0] * 0.01))\n",
    "# test_df = test_df.sample(int(test_df.shape[0] * 0.01))"
   ]
  },
  {
   "cell_type": "code",
   "execution_count": 24,
   "metadata": {
    "execution": {
     "iopub.execute_input": "2023-03-01T16:54:50.960131Z",
     "iopub.status.busy": "2023-03-01T16:54:50.959558Z",
     "iopub.status.idle": "2023-03-01T16:54:50.975224Z",
     "shell.execute_reply": "2023-03-01T16:54:50.973914Z",
     "shell.execute_reply.started": "2023-03-01T16:54:50.960077Z"
    }
   },
   "outputs": [
    {
     "name": "stdout",
     "output_type": "stream",
     "text": [
      "usec</s>-</s>1000</s>unsigned long</s>unsigned long</s>BINARY_OPERATOR</s>COMPOUND_STMT\n",
      "--------------------------------------------------------------------------------\n",
      "['usec', '</s>', '-', '</s>', '1000', '</s>', 'unsigned', 'Ġlong', '</s>', 'unsigned', 'Ġlong', '</s>', 'BINARY', '_', 'OPER', 'ATOR', '</s>', 'COMP', 'OUND', '_', 'STMT']\n",
      "--------------------------------------------------------------------------------\n",
      "{'input_ids': [1, 7380, 2, 117, 2, 2369, 2, 688, 1018, 2, 688, 1018, 2, 11022, 167, 3531, 5747, 2, 2322, 17844, 167, 13997, 2], 'attention_mask': [1, 1, 1, 1, 1, 1, 1, 1, 1, 1, 1, 1, 1, 1, 1, 1, 1, 1, 1, 1, 1, 1, 1]}\n"
     ]
    }
   ],
   "source": [
    "print(train_df.iloc[10].full_text)\n",
    "print(\"-\" * 80)\n",
    "print(tokenizer.tokenize(train_df.iloc[10].full_text))\n",
    "print(\"-\" * 80)\n",
    "print(tokenizer(train_df.iloc[10].full_text))"
   ]
  },
  {
   "cell_type": "code",
   "execution_count": 25,
   "metadata": {
    "execution": {
     "iopub.execute_input": "2023-03-01T16:54:50.979893Z",
     "iopub.status.busy": "2023-03-01T16:54:50.976820Z",
     "iopub.status.idle": "2023-03-01T16:54:50.987532Z",
     "shell.execute_reply": "2023-03-01T16:54:50.985517Z",
     "shell.execute_reply.started": "2023-03-01T16:54:50.979839Z"
    }
   },
   "outputs": [],
   "source": [
    "def tokenize_text(examples):\n",
    "    return tokenizer(examples[\"full_text\"], truncation=True, max_length=128, padding=True)"
   ]
  },
  {
   "cell_type": "code",
   "execution_count": 26,
   "metadata": {
    "execution": {
     "iopub.execute_input": "2023-03-01T16:54:50.990383Z",
     "iopub.status.busy": "2023-03-01T16:54:50.989843Z",
     "iopub.status.idle": "2023-03-01T16:54:51.572759Z",
     "shell.execute_reply": "2023-03-01T16:54:51.570872Z",
     "shell.execute_reply.started": "2023-03-01T16:54:50.990335Z"
    }
   },
   "outputs": [
    {
     "data": {
      "text/plain": [
       "((889588, 7), (111198, 7))"
      ]
     },
     "execution_count": 26,
     "metadata": {},
     "output_type": "execute_result"
    }
   ],
   "source": [
    "train_df, validation_df = train_test_split(train_df, test_size=0.11111, random_state=RANDOM_STATE)\n",
    "train_df.shape, validation_df.shape"
   ]
  },
  {
   "cell_type": "code",
   "execution_count": 27,
   "metadata": {
    "execution": {
     "iopub.execute_input": "2023-03-01T16:54:51.575466Z",
     "iopub.status.busy": "2023-03-01T16:54:51.574867Z",
     "iopub.status.idle": "2023-03-01T16:54:52.390798Z",
     "shell.execute_reply": "2023-03-01T16:54:52.389477Z",
     "shell.execute_reply.started": "2023-03-01T16:54:51.575409Z"
    }
   },
   "outputs": [
    {
     "data": {
      "text/plain": [
       "Dataset({\n",
       "    features: ['file', 'start_line', 'start_column', 'end_line', 'end_column', 'labels', 'full_text', '__index_level_0__'],\n",
       "    num_rows: 889588\n",
       "})"
      ]
     },
     "execution_count": 27,
     "metadata": {},
     "output_type": "execute_result"
    }
   ],
   "source": [
    "train_dataset = Dataset.from_pandas(train_df)\n",
    "train_dataset"
   ]
  },
  {
   "cell_type": "code",
   "execution_count": 28,
   "metadata": {
    "execution": {
     "iopub.execute_input": "2023-03-01T16:54:52.394396Z",
     "iopub.status.busy": "2023-03-01T16:54:52.393397Z",
     "iopub.status.idle": "2023-03-01T16:54:52.483847Z",
     "shell.execute_reply": "2023-03-01T16:54:52.482472Z",
     "shell.execute_reply.started": "2023-03-01T16:54:52.394327Z"
    }
   },
   "outputs": [
    {
     "data": {
      "text/plain": [
       "Dataset({\n",
       "    features: ['file', 'start_line', 'start_column', 'end_line', 'end_column', 'labels', 'full_text', '__index_level_0__'],\n",
       "    num_rows: 111198\n",
       "})"
      ]
     },
     "execution_count": 28,
     "metadata": {},
     "output_type": "execute_result"
    }
   ],
   "source": [
    "validation_dataset = Dataset.from_pandas(validation_df)\n",
    "validation_dataset"
   ]
  },
  {
   "cell_type": "code",
   "execution_count": 29,
   "metadata": {
    "execution": {
     "iopub.execute_input": "2023-03-01T16:54:52.486247Z",
     "iopub.status.busy": "2023-03-01T16:54:52.485621Z",
     "iopub.status.idle": "2023-03-01T16:54:52.540878Z",
     "shell.execute_reply": "2023-03-01T16:54:52.539269Z",
     "shell.execute_reply.started": "2023-03-01T16:54:52.486206Z"
    }
   },
   "outputs": [
    {
     "data": {
      "text/plain": [
       "Dataset({\n",
       "    features: ['file', 'start_line', 'start_column', 'end_line', 'end_column', 'labels', 'full_text'],\n",
       "    num_rows: 111200\n",
       "})"
      ]
     },
     "execution_count": 29,
     "metadata": {},
     "output_type": "execute_result"
    }
   ],
   "source": [
    "test_dataset = Dataset.from_pandas(test_df)\n",
    "test_dataset"
   ]
  },
  {
   "cell_type": "markdown",
   "metadata": {},
   "source": [
    "-----\n",
    "## Tokenization\n",
    "-----"
   ]
  },
  {
   "cell_type": "code",
   "execution_count": 30,
   "metadata": {
    "execution": {
     "iopub.execute_input": "2023-03-01T16:54:52.548344Z",
     "iopub.status.busy": "2023-03-01T16:54:52.547344Z",
     "iopub.status.idle": "2023-03-01T16:56:49.198151Z",
     "shell.execute_reply": "2023-03-01T16:56:49.196690Z",
     "shell.execute_reply.started": "2023-03-01T16:54:52.548295Z"
    }
   },
   "outputs": [
    {
     "data": {
      "application/vnd.jupyter.widget-view+json": {
       "model_id": "5c93a96c657a4000b3f6c515a22d494a",
       "version_major": 2,
       "version_minor": 0
      },
      "text/plain": [
       "  0%|          | 0/890 [00:00<?, ?ba/s]"
      ]
     },
     "metadata": {},
     "output_type": "display_data"
    },
    {
     "data": {
      "text/plain": [
       "Dataset({\n",
       "    features: ['file', 'start_line', 'start_column', 'end_line', 'end_column', 'labels', 'input_ids', 'attention_mask'],\n",
       "    num_rows: 889588\n",
       "})"
      ]
     },
     "execution_count": 30,
     "metadata": {},
     "output_type": "execute_result"
    }
   ],
   "source": [
    "train_dataset = train_dataset.map(tokenize_text, batched=True, remove_columns=[\"full_text\", \"__index_level_0__\"])\n",
    "train_dataset"
   ]
  },
  {
   "cell_type": "code",
   "execution_count": 31,
   "metadata": {
    "execution": {
     "iopub.execute_input": "2023-03-01T16:56:49.199920Z",
     "iopub.status.busy": "2023-03-01T16:56:49.199551Z",
     "iopub.status.idle": "2023-03-01T16:57:02.767903Z",
     "shell.execute_reply": "2023-03-01T16:57:02.762257Z",
     "shell.execute_reply.started": "2023-03-01T16:56:49.199887Z"
    }
   },
   "outputs": [
    {
     "data": {
      "application/vnd.jupyter.widget-view+json": {
       "model_id": "38dc6f743fb94769998bb2f1669875d4",
       "version_major": 2,
       "version_minor": 0
      },
      "text/plain": [
       "  0%|          | 0/112 [00:00<?, ?ba/s]"
      ]
     },
     "metadata": {},
     "output_type": "display_data"
    },
    {
     "data": {
      "text/plain": [
       "Dataset({\n",
       "    features: ['file', 'start_line', 'start_column', 'end_line', 'end_column', 'labels', 'input_ids', 'attention_mask'],\n",
       "    num_rows: 111198\n",
       "})"
      ]
     },
     "execution_count": 31,
     "metadata": {},
     "output_type": "execute_result"
    }
   ],
   "source": [
    "validation_dataset = validation_dataset.map(tokenize_text, batched=True, remove_columns=[\"full_text\", \"__index_level_0__\"])\n",
    "validation_dataset"
   ]
  },
  {
   "cell_type": "code",
   "execution_count": 32,
   "metadata": {
    "execution": {
     "iopub.execute_input": "2023-03-01T16:57:02.770014Z",
     "iopub.status.busy": "2023-03-01T16:57:02.769482Z",
     "iopub.status.idle": "2023-03-01T16:57:16.741069Z",
     "shell.execute_reply": "2023-03-01T16:57:16.739885Z",
     "shell.execute_reply.started": "2023-03-01T16:57:02.769965Z"
    }
   },
   "outputs": [
    {
     "data": {
      "application/vnd.jupyter.widget-view+json": {
       "model_id": "468cd0c0912a43e985b29ad17eeae6d1",
       "version_major": 2,
       "version_minor": 0
      },
      "text/plain": [
       "  0%|          | 0/112 [00:00<?, ?ba/s]"
      ]
     },
     "metadata": {},
     "output_type": "display_data"
    },
    {
     "data": {
      "text/plain": [
       "Dataset({\n",
       "    features: ['file', 'start_line', 'start_column', 'end_line', 'end_column', 'labels', 'input_ids', 'attention_mask'],\n",
       "    num_rows: 111200\n",
       "})"
      ]
     },
     "execution_count": 32,
     "metadata": {},
     "output_type": "execute_result"
    }
   ],
   "source": [
    "test_dataset = test_dataset.map(tokenize_text, batched=True, remove_columns=[\"full_text\"])\n",
    "test_dataset"
   ]
  },
  {
   "cell_type": "code",
   "execution_count": 33,
   "metadata": {
    "execution": {
     "iopub.execute_input": "2023-03-01T16:57:16.742833Z",
     "iopub.status.busy": "2023-03-01T16:57:16.742407Z",
     "iopub.status.idle": "2023-03-01T16:57:16.750052Z",
     "shell.execute_reply": "2023-03-01T16:57:16.748978Z",
     "shell.execute_reply.started": "2023-03-01T16:57:16.742795Z"
    }
   },
   "outputs": [],
   "source": [
    "def softmax(x):\n",
    "    result = np.zeros_like(x)\n",
    "    \n",
    "    for i in range(len(x)):\n",
    "        result[i] = np.exp(x[i]) / np.sum(np.exp(x[i]), axis=0)\n",
    "    return result"
   ]
  },
  {
   "cell_type": "code",
   "execution_count": 34,
   "metadata": {
    "execution": {
     "iopub.execute_input": "2023-03-01T16:57:16.751799Z",
     "iopub.status.busy": "2023-03-01T16:57:16.751345Z",
     "iopub.status.idle": "2023-03-01T16:57:16.766192Z",
     "shell.execute_reply": "2023-03-01T16:57:16.765132Z",
     "shell.execute_reply.started": "2023-03-01T16:57:16.751763Z"
    }
   },
   "outputs": [],
   "source": [
    "def compute_metrics(pred):\n",
    "    labels = pred.label_ids\n",
    "    preds = pred.predictions.argmax(-1)\n",
    "    # loss = log_loss(labels, softmax(preds))\n",
    "    accuracy = accuracy_score(labels, preds)\n",
    "    precision = precision_score(labels, preds)\n",
    "    recall = recall_score(labels, preds)\n",
    "    f1 = f1_score(labels, preds)\n",
    "    return {\"Accuracy\": accuracy, \"Precision\": precision, \"Recall\": recall, \"F1 Score\": f1}"
   ]
  },
  {
   "cell_type": "markdown",
   "metadata": {},
   "source": [
    "-----\n",
    "## Model Training\n",
    "-----"
   ]
  },
  {
   "cell_type": "code",
   "execution_count": 35,
   "metadata": {
    "execution": {
     "iopub.execute_input": "2023-03-01T16:57:16.770675Z",
     "iopub.status.busy": "2023-03-01T16:57:16.770308Z",
     "iopub.status.idle": "2023-03-01T16:57:16.787191Z",
     "shell.execute_reply": "2023-03-01T16:57:16.785681Z",
     "shell.execute_reply.started": "2023-03-01T16:57:16.770643Z"
    }
   },
   "outputs": [
    {
     "name": "stderr",
     "output_type": "stream",
     "text": [
      "Using the `WAND_DISABLED` environment variable is deprecated and will be removed in v5. Use the --report_to flag to control the integrations used for logging result (for instance --report_to none).\n"
     ]
    }
   ],
   "source": [
    "# ! rm -rd /kaggle/working/codeT5-DistilBERT-wrong-binary-operator-bug-model\n",
    "\n",
    "batch_size = 64\n",
    "logging_steps = len(train_dataset) // batch_size\n",
    "output_dir = \"wrong-binary-operator-bug-distilbert-model\"\n",
    "\n",
    "training_args = TrainingArguments(output_dir,\n",
    "                                  num_train_epochs=10,\n",
    "                                  learning_rate=2e-5,\n",
    "                                  per_device_train_batch_size=batch_size,\n",
    "                                  per_device_eval_batch_size=batch_size,\n",
    "                                  weight_decay = 0.01,\n",
    "                                  evaluation_strategy=\"epoch\",\n",
    "                                  logging_steps=logging_steps,\n",
    "                                  save_strategy=\"epoch\",\n",
    "                                  # save_steps=10000,\n",
    "                                  # fp16=True,\n",
    "                                  push_to_hub=False,\n",
    "                                  load_best_model_at_end=True,\n",
    "                                  metric_for_best_model='eval_loss',\n",
    "                                  greater_is_better=False\n",
    "                                )"
   ]
  },
  {
   "cell_type": "code",
   "execution_count": 36,
   "metadata": {
    "execution": {
     "iopub.execute_input": "2023-03-01T16:57:16.790104Z",
     "iopub.status.busy": "2023-03-01T16:57:16.789279Z",
     "iopub.status.idle": "2023-03-01T16:57:16.805206Z",
     "shell.execute_reply": "2023-03-01T16:57:16.804028Z",
     "shell.execute_reply.started": "2023-03-01T16:57:16.790060Z"
    }
   },
   "outputs": [],
   "source": [
    "class CustomCallback(TrainerCallback):\n",
    "    \n",
    "    def __init__(self, trainer, test_dataset) -> None:\n",
    "        super().__init__()\n",
    "        self._trainer = trainer\n",
    "        self.test_dataset = test_dataset\n",
    "\n",
    "    def on_epoch_end(self, args, state, control, **kwargs):\n",
    "        if control.should_evaluate:\n",
    "            # control_copy = deepcopy(control)\n",
    "            # print(\"Epoch:\", state.epoch)\n",
    "            # print(self._trainer.predict(self._trainer.train_dataset, metric_key_prefix=\"train\").metrics)\n",
    "            # print(self._trainer.predict(self._trainer.eval_dataset, metric_key_prefix=\"eval\").metrics)\n",
    "            # print(self._trainer.predict(self.test_dataset, metric_key_prefix=\"test\").metrics)\n",
    "            \n",
    "            self._trainer.evaluate(eval_dataset=self._trainer.train_dataset, metric_key_prefix=\"train\")\n",
    "            self._trainer.evaluate(eval_dataset=test_dataset, metric_key_prefix=\"test\")\n",
    "            # return control_copy"
   ]
  },
  {
   "cell_type": "code",
   "execution_count": 37,
   "metadata": {
    "execution": {
     "iopub.execute_input": "2023-03-01T16:57:16.806585Z",
     "iopub.status.busy": "2023-03-01T16:57:16.806232Z",
     "iopub.status.idle": "2023-03-01T16:57:16.824794Z",
     "shell.execute_reply": "2023-03-01T16:57:16.823577Z",
     "shell.execute_reply.started": "2023-03-01T16:57:16.806553Z"
    }
   },
   "outputs": [],
   "source": [
    "early_stopping = EarlyStoppingCallback(\n",
    "    early_stopping_patience=2,      # number of evaluations to wait before stopping\n",
    "    early_stopping_threshold=0.01,  # threshold for relative improvement in metric\n",
    ")"
   ]
  },
  {
   "cell_type": "markdown",
   "metadata": {},
   "source": [
    "-----\n",
    "## Hyperparameter Tuning: Learning Rate and Batch Size\n",
    "-----"
   ]
  },
  {
   "cell_type": "code",
   "execution_count": null,
   "metadata": {
    "execution": {
     "iopub.execute_input": "2023-02-28T11:11:08.364585Z",
     "iopub.status.busy": "2023-02-28T11:11:08.364188Z",
     "iopub.status.idle": "2023-02-28T11:11:08.407293Z",
     "shell.execute_reply": "2023-02-28T11:11:08.405882Z",
     "shell.execute_reply.started": "2023-02-28T11:11:08.364531Z"
    }
   },
   "outputs": [],
   "source": [
    "learning_rates = [0.002, 0.0002, 0.00002, 0.000002]\n",
    "batch_sizes = [32, 64]\n",
    "\n",
    "# Loop over the learning rates and batch sizes\n",
    "for lr in learning_rates:\n",
    "    for bs in batch_sizes:\n",
    "        # Update the learning rate in the TrainingArguments\n",
    "        training_args.learning_rate = lr\n",
    "        training_args.per_device_train_batch_size = bs\n",
    "        training_args.per_device_eval_batch_size = bs\n",
    "\n",
    "        # Create a new Trainer with the updated TrainingArguments\n",
    "        trainer = Trainer(\n",
    "            model=model,                         \n",
    "            args=training_args,                  \n",
    "            train_dataset=train_dataset,         \n",
    "            eval_dataset=validation_dataset,\n",
    "            tokenizer=tokenizer,\n",
    "            compute_metrics=compute_metrics,\n",
    "            callbacks=[early_stopping]\n",
    "        )\n",
    "\n",
    "        # Train the model and evaluate it on the validation set\n",
    "        trainer.train()\n",
    "        print(trainer.evaluate())"
   ]
  },
  {
   "cell_type": "markdown",
   "metadata": {},
   "source": [
    "-----\n",
    "## Choosing Best Hyperparameters and Training Final Model\n",
    "-----"
   ]
  },
  {
   "cell_type": "code",
   "execution_count": 38,
   "metadata": {
    "execution": {
     "iopub.execute_input": "2023-03-01T16:57:16.826370Z",
     "iopub.status.busy": "2023-03-01T16:57:16.825933Z",
     "iopub.status.idle": "2023-03-01T16:57:16.850886Z",
     "shell.execute_reply": "2023-03-01T16:57:16.849829Z",
     "shell.execute_reply.started": "2023-03-01T16:57:16.826332Z"
    }
   },
   "outputs": [],
   "source": [
    "# ! rm -rd /kaggle/working/function-args-swap-bug-distilbert-model\n",
    "\n",
    "BEST_LEARNING_RATE = 2e-5\n",
    "BEST_BATCH_SIZE = 64\n",
    "training_args.learning_rate = BEST_LEARNING_RATE\n",
    "training_args.push_to_hub = False\n",
    "training_args.per_device_train_batch_size = BEST_BATCH_SIZE\n",
    "training_args.per_device_eval_batch_size = BEST_BATCH_SIZE\n",
    "\n",
    "\n",
    "trainer = Trainer(\n",
    "    model=model,                         \n",
    "    args=training_args,                  \n",
    "    train_dataset=train_dataset,         \n",
    "    eval_dataset=validation_dataset,\n",
    "    tokenizer=tokenizer,\n",
    "    compute_metrics=compute_metrics,\n",
    "    callbacks=[early_stopping]\n",
    ")\n",
    "\n",
    "trainer.add_callback(CustomCallback(trainer, test_dataset))"
   ]
  },
  {
   "cell_type": "code",
   "execution_count": null,
   "metadata": {
    "execution": {
     "iopub.status.busy": "2023-03-01T08:23:40.721816Z",
     "iopub.status.idle": "2023-03-01T08:23:40.722290Z",
     "shell.execute_reply": "2023-03-01T08:23:40.722069Z",
     "shell.execute_reply.started": "2023-03-01T08:23:40.722036Z"
    }
   },
   "outputs": [],
   "source": [
    "trainer.train()"
   ]
  },
  {
   "cell_type": "code",
   "execution_count": null,
   "metadata": {},
   "outputs": [],
   "source": [
    "# trainer.save(\"final-wbob-model\")"
   ]
  },
  {
   "cell_type": "markdown",
   "metadata": {},
   "source": [
    "----\n",
    "## Model Testing\n",
    "----"
   ]
  },
  {
   "cell_type": "code",
   "execution_count": null,
   "metadata": {
    "execution": {
     "iopub.execute_input": "2023-03-01T16:57:16.852789Z",
     "iopub.status.busy": "2023-03-01T16:57:16.852459Z"
    }
   },
   "outputs": [
    {
     "name": "stderr",
     "output_type": "stream",
     "text": [
      "The following columns in the test set don't have a corresponding argument in `DistilBertForSequenceClassification.forward` and have been ignored: start_line, start_column, end_line, file, end_column. If start_line, start_column, end_line, file, end_column are not expected by `DistilBertForSequenceClassification.forward`,  you can safely ignore this message.\n",
      "***** Running Prediction *****\n",
      "  Num examples = 111200\n",
      "  Batch size = 64\n"
     ]
    },
    {
     "data": {
      "text/html": [
       "\n",
       "    <div>\n",
       "      \n",
       "      <progress value='825' max='1738' style='width:300px; height:20px; vertical-align: middle;'></progress>\n",
       "      [ 825/1738 48:28 < 53:43, 0.28 it/s]\n",
       "    </div>\n",
       "    "
      ],
      "text/plain": [
       "<IPython.core.display.HTML object>"
      ]
     },
     "metadata": {},
     "output_type": "display_data"
    }
   ],
   "source": [
    "prediction = trainer.predict(test_dataset)"
   ]
  },
  {
   "cell_type": "code",
   "execution_count": null,
   "metadata": {},
   "outputs": [],
   "source": [
    "prediction"
   ]
  },
  {
   "cell_type": "code",
   "execution_count": null,
   "metadata": {},
   "outputs": [],
   "source": [
    "labels = prediction.label_ids\n",
    "labels"
   ]
  },
  {
   "cell_type": "code",
   "execution_count": 73,
   "metadata": {
    "execution": {
     "iopub.execute_input": "2023-03-01T08:30:06.740702Z",
     "iopub.status.busy": "2023-03-01T08:30:06.740301Z",
     "iopub.status.idle": "2023-03-01T08:30:06.748516Z",
     "shell.execute_reply": "2023-03-01T08:30:06.747483Z",
     "shell.execute_reply.started": "2023-03-01T08:30:06.740663Z"
    }
   },
   "outputs": [
    {
     "data": {
      "text/plain": [
       "array([0, 0, 1, ..., 1, 0, 0])"
      ]
     },
     "execution_count": 73,
     "metadata": {},
     "output_type": "execute_result"
    }
   ],
   "source": [
    "preds = prediction.predictions.argmax(-1)\n",
    "preds"
   ]
  },
  {
   "cell_type": "code",
   "execution_count": 74,
   "metadata": {
    "execution": {
     "iopub.execute_input": "2023-03-01T08:30:09.236185Z",
     "iopub.status.busy": "2023-03-01T08:30:09.235431Z",
     "iopub.status.idle": "2023-03-01T08:30:09.278863Z",
     "shell.execute_reply": "2023-03-01T08:30:09.277795Z",
     "shell.execute_reply.started": "2023-03-01T08:30:09.236138Z"
    }
   },
   "outputs": [
    {
     "data": {
      "text/plain": [
       "0.8369110415315035"
      ]
     },
     "execution_count": 74,
     "metadata": {},
     "output_type": "execute_result"
    }
   ],
   "source": [
    "f1_score(labels, preds)"
   ]
  },
  {
   "cell_type": "code",
   "execution_count": 75,
   "metadata": {
    "execution": {
     "iopub.execute_input": "2023-03-01T08:30:12.069771Z",
     "iopub.status.busy": "2023-03-01T08:30:12.069383Z",
     "iopub.status.idle": "2023-03-01T08:30:13.140410Z",
     "shell.execute_reply": "2023-03-01T08:30:13.139294Z",
     "shell.execute_reply.started": "2023-03-01T08:30:12.069739Z"
    }
   },
   "outputs": [],
   "source": [
    "preds_probability = softmax(prediction.predictions)\n",
    "positive_preds_probability = preds_probability[:, 1]"
   ]
  },
  {
   "cell_type": "code",
   "execution_count": 76,
   "metadata": {
    "execution": {
     "iopub.execute_input": "2023-03-01T08:30:13.704498Z",
     "iopub.status.busy": "2023-03-01T08:30:13.704145Z",
     "iopub.status.idle": "2023-03-01T08:30:13.931429Z",
     "shell.execute_reply": "2023-03-01T08:30:13.930540Z",
     "shell.execute_reply.started": "2023-03-01T08:30:13.704467Z"
    }
   },
   "outputs": [
    {
     "data": {
      "image/png": "[encoded data removed]",
      "text/plain": [
       "<Figure size 640x480 with 1 Axes>"
      ]
     },
     "metadata": {},
     "output_type": "display_data"
    }
   ],
   "source": [
    "import sklearn.metrics as metrics\n",
    "\n",
    "fpr, tpr, threshold = metrics.roc_curve(labels, positive_preds_probability)\n",
    "roc_auc = metrics.auc(fpr, tpr)\n",
    "\n",
    "# method I: plt\n",
    "import matplotlib.pyplot as plt\n",
    "# plt.title('Receiver Operating Characteristic')\n",
    "plt.plot(fpr, tpr, 'b', label = 'AUC = %0.2f' % roc_auc)\n",
    "plt.legend(loc = 'lower right')\n",
    "plt.plot([0, 1], [0, 1],'r--')\n",
    "plt.xlim([0, 1])\n",
    "plt.ylim([0, 1])\n",
    "plt.ylabel('True Positive Rate')\n",
    "plt.xlabel('False Positive Rate')\n",
    "plt.show()"
   ]
  },
  {
   "cell_type": "code",
   "execution_count": 77,
   "metadata": {
    "execution": {
     "iopub.execute_input": "2023-03-01T08:30:14.706962Z",
     "iopub.status.busy": "2023-03-01T08:30:14.706591Z",
     "iopub.status.idle": "2023-03-01T08:30:14.921612Z",
     "shell.execute_reply": "2023-03-01T08:30:14.920598Z",
     "shell.execute_reply.started": "2023-03-01T08:30:14.706931Z"
    }
   },
   "outputs": [
    {
     "data": {
      "image/png": "[encoded data removed]",
      "text/plain": [
       "<Figure size 640x480 with 1 Axes>"
      ]
     },
     "metadata": {},
     "output_type": "display_data"
    }
   ],
   "source": [
    "precision, recall, threshold = metrics.precision_recall_curve(labels, positive_preds_probability)\n",
    "\n",
    "# plt.title('Precision-Recall Curve')\n",
    "plt.plot(recall, precision, 'b')\n",
    "plt.ylabel('Precision')\n",
    "plt.xlabel('Recall')\n",
    "\n",
    "plt.xlim([0, 1])\n",
    "plt.ylim([0, 1])\n",
    "\n",
    "plt.show()"
   ]
  },
  {
   "cell_type": "code",
   "execution_count": 78,
   "metadata": {
    "execution": {
     "iopub.execute_input": "2023-03-01T08:30:31.474137Z",
     "iopub.status.busy": "2023-03-01T08:30:31.473744Z",
     "iopub.status.idle": "2023-03-01T08:30:31.497484Z",
     "shell.execute_reply": "2023-03-01T08:30:31.496154Z",
     "shell.execute_reply.started": "2023-03-01T08:30:31.474108Z"
    }
   },
   "outputs": [
    {
     "data": {
      "text/html": [
       "<div>\n",
       "<style scoped>\n",
       "    .dataframe tbody tr th:only-of-type {\n",
       "        vertical-align: middle;\n",
       "    }\n",
       "\n",
       "    .dataframe tbody tr th {\n",
       "        vertical-align: top;\n",
       "    }\n",
       "\n",
       "    .dataframe thead th {\n",
       "        text-align: right;\n",
       "    }\n",
       "</style>\n",
       "<table border=\"1\" class=\"dataframe\">\n",
       "  <thead>\n",
       "    <tr style=\"text-align: right;\">\n",
       "      <th></th>\n",
       "      <th>file</th>\n",
       "      <th>left</th>\n",
       "      <th>operator</th>\n",
       "      <th>right</th>\n",
       "      <th>type_left</th>\n",
       "      <th>type_right</th>\n",
       "      <th>parent</th>\n",
       "      <th>grandparent</th>\n",
       "      <th>start_line</th>\n",
       "      <th>start_column</th>\n",
       "      <th>end_line</th>\n",
       "      <th>end_column</th>\n",
       "      <th>labels</th>\n",
       "    </tr>\n",
       "  </thead>\n",
       "  <tbody>\n",
       "    <tr>\n",
       "      <th>0</th>\n",
       "      <td>cleaned/poropy/poropy/nucleardata/nucleardata_...</td>\n",
       "      <td>cWABA92[11]</td>\n",
       "      <td>*</td>\n",
       "      <td>pow(R,3)</td>\n",
       "      <td>double</td>\n",
       "      <td>double</td>\n",
       "      <td>BINARY_OPERATOR</td>\n",
       "      <td>BINARY_OPERATOR</td>\n",
       "      <td>482</td>\n",
       "      <td>248</td>\n",
       "      <td>482</td>\n",
       "      <td>268</td>\n",
       "      <td>0</td>\n",
       "    </tr>\n",
       "    <tr>\n",
       "      <th>1</th>\n",
       "      <td>cleaned/quagga/lib/plist.c</td>\n",
       "      <td>maxseq</td>\n",
       "      <td>&lt;</td>\n",
       "      <td>pentry-&gt;seq</td>\n",
       "      <td>int</td>\n",
       "      <td>int</td>\n",
       "      <td>IF_STMT</td>\n",
       "      <td>COMPOUND_STMT</td>\n",
       "      <td>389</td>\n",
       "      <td>11</td>\n",
       "      <td>389</td>\n",
       "      <td>31</td>\n",
       "      <td>0</td>\n",
       "    </tr>\n",
       "    <tr>\n",
       "      <th>2</th>\n",
       "      <td>cleaned/c30-linux/pic30-binutils/acme/gas/conf...</td>\n",
       "      <td>strcasecmp(start,\"a2\")</td>\n",
       "      <td>&gt;</td>\n",
       "      <td>0</td>\n",
       "      <td>int</td>\n",
       "      <td>int</td>\n",
       "      <td>IF_STMT</td>\n",
       "      <td>IF_STMT</td>\n",
       "      <td>1221</td>\n",
       "      <td>14</td>\n",
       "      <td>1221</td>\n",
       "      <td>43</td>\n",
       "      <td>1</td>\n",
       "    </tr>\n",
       "    <tr>\n",
       "      <th>3</th>\n",
       "      <td>cleaned/fontforge/fontforge/scstylesui.c</td>\n",
       "      <td>100.0</td>\n",
       "      <td>*</td>\n",
       "      <td>hs-&gt;counter_percent</td>\n",
       "      <td>double</td>\n",
       "      <td>&lt;dependent type&gt;</td>\n",
       "      <td>CALL_EXPR</td>\n",
       "      <td>COMPOUND_STMT</td>\n",
       "      <td>2729</td>\n",
       "      <td>30</td>\n",
       "      <td>2729</td>\n",
       "      <td>56</td>\n",
       "      <td>0</td>\n",
       "    </tr>\n",
       "    <tr>\n",
       "      <th>4</th>\n",
       "      <td>cleaned/open-watcom/bld/wv/c/dlgscomp.c</td>\n",
       "      <td>last</td>\n",
       "      <td>/</td>\n",
       "      <td>first</td>\n",
       "      <td>unsigned int</td>\n",
       "      <td>unsigned int</td>\n",
       "      <td>BINARY_OPERATOR</td>\n",
       "      <td>COMPOUND_STMT</td>\n",
       "      <td>92</td>\n",
       "      <td>15</td>\n",
       "      <td>92</td>\n",
       "      <td>27</td>\n",
       "      <td>1</td>\n",
       "    </tr>\n",
       "    <tr>\n",
       "      <th>...</th>\n",
       "      <td>...</td>\n",
       "      <td>...</td>\n",
       "      <td>...</td>\n",
       "      <td>...</td>\n",
       "      <td>...</td>\n",
       "      <td>...</td>\n",
       "      <td>...</td>\n",
       "      <td>...</td>\n",
       "      <td>...</td>\n",
       "      <td>...</td>\n",
       "      <td>...</td>\n",
       "      <td>...</td>\n",
       "      <td>...</td>\n",
       "    </tr>\n",
       "    <tr>\n",
       "      <th>111195</th>\n",
       "      <td>cleaned/uhub/src/adc/message.c</td>\n",
       "      <td>*str</td>\n",
       "      <td>&gt;=</td>\n",
       "      <td>'\\\\'</td>\n",
       "      <td>int</td>\n",
       "      <td>int</td>\n",
       "      <td>IF_STMT</td>\n",
       "      <td>IF_STMT</td>\n",
       "      <td>913</td>\n",
       "      <td>13</td>\n",
       "      <td>913</td>\n",
       "      <td>25</td>\n",
       "      <td>1</td>\n",
       "    </tr>\n",
       "    <tr>\n",
       "      <th>111196</th>\n",
       "      <td>cleaned/blensor/source/blender/editors/space_s...</td>\n",
       "      <td>barh</td>\n",
       "      <td>+</td>\n",
       "      <td>1</td>\n",
       "      <td>int</td>\n",
       "      <td>int</td>\n",
       "      <td>BINARY_OPERATOR</td>\n",
       "      <td>FOR_STMT</td>\n",
       "      <td>431</td>\n",
       "      <td>18</td>\n",
       "      <td>431</td>\n",
       "      <td>26</td>\n",
       "      <td>1</td>\n",
       "    </tr>\n",
       "    <tr>\n",
       "      <th>111197</th>\n",
       "      <td>cleaned/freebsd/sys/cddl/contrib/opensolaris/u...</td>\n",
       "      <td>1</td>\n",
       "      <td>&amp;</td>\n",
       "      <td>epbs</td>\n",
       "      <td>int</td>\n",
       "      <td>int</td>\n",
       "      <td>VAR_DECL</td>\n",
       "      <td>DECL_STMT</td>\n",
       "      <td>480</td>\n",
       "      <td>13</td>\n",
       "      <td>480</td>\n",
       "      <td>22</td>\n",
       "      <td>1</td>\n",
       "    </tr>\n",
       "    <tr>\n",
       "      <th>111198</th>\n",
       "      <td>cleaned/drone/lib/ffmpeg/libavcodec/jrevdct.c</td>\n",
       "      <td>d00</td>\n",
       "      <td>+</td>\n",
       "      <td>d10</td>\n",
       "      <td>int</td>\n",
       "      <td>int</td>\n",
       "      <td>PAREN_EXPR</td>\n",
       "      <td>BINARY_OPERATOR</td>\n",
       "      <td>1115</td>\n",
       "      <td>25</td>\n",
       "      <td>1115</td>\n",
       "      <td>34</td>\n",
       "      <td>0</td>\n",
       "    </tr>\n",
       "    <tr>\n",
       "      <th>111199</th>\n",
       "      <td>cleaned/sharpfin/src/ipk/sharpfin-base-ipk/bus...</td>\n",
       "      <td>r-&gt;rtm_src_len</td>\n",
       "      <td>!=</td>\n",
       "      <td>host_len</td>\n",
       "      <td>&lt;dependent type&gt;</td>\n",
       "      <td>int</td>\n",
       "      <td>IF_STMT</td>\n",
       "      <td>COMPOUND_STMT</td>\n",
       "      <td>224</td>\n",
       "      <td>7</td>\n",
       "      <td>224</td>\n",
       "      <td>33</td>\n",
       "      <td>0</td>\n",
       "    </tr>\n",
       "  </tbody>\n",
       "</table>\n",
       "<p>111200 rows × 13 columns</p>\n",
       "</div>"
      ],
      "text/plain": [
       "                                                     file  \\\n",
       "0       cleaned/poropy/poropy/nucleardata/nucleardata_...   \n",
       "1                              cleaned/quagga/lib/plist.c   \n",
       "2       cleaned/c30-linux/pic30-binutils/acme/gas/conf...   \n",
       "3                cleaned/fontforge/fontforge/scstylesui.c   \n",
       "4                 cleaned/open-watcom/bld/wv/c/dlgscomp.c   \n",
       "...                                                   ...   \n",
       "111195                     cleaned/uhub/src/adc/message.c   \n",
       "111196  cleaned/blensor/source/blender/editors/space_s...   \n",
       "111197  cleaned/freebsd/sys/cddl/contrib/opensolaris/u...   \n",
       "111198      cleaned/drone/lib/ffmpeg/libavcodec/jrevdct.c   \n",
       "111199  cleaned/sharpfin/src/ipk/sharpfin-base-ipk/bus...   \n",
       "\n",
       "                          left operator                right  \\\n",
       "0                  cWABA92[11]        *             pow(R,3)   \n",
       "1                       maxseq        <          pentry->seq   \n",
       "2       strcasecmp(start,\"a2\")        >                    0   \n",
       "3                        100.0        *  hs->counter_percent   \n",
       "4                         last        /                first   \n",
       "...                        ...      ...                  ...   \n",
       "111195                    *str       >=                 '\\\\'   \n",
       "111196                    barh        +                    1   \n",
       "111197                       1        &                 epbs   \n",
       "111198                     d00        +                  d10   \n",
       "111199          r->rtm_src_len       !=             host_len   \n",
       "\n",
       "               type_left        type_right           parent      grandparent  \\\n",
       "0                 double            double  BINARY_OPERATOR  BINARY_OPERATOR   \n",
       "1                    int               int          IF_STMT    COMPOUND_STMT   \n",
       "2                    int               int          IF_STMT          IF_STMT   \n",
       "3                 double  <dependent type>        CALL_EXPR    COMPOUND_STMT   \n",
       "4           unsigned int      unsigned int  BINARY_OPERATOR    COMPOUND_STMT   \n",
       "...                  ...               ...              ...              ...   \n",
       "111195               int               int          IF_STMT          IF_STMT   \n",
       "111196               int               int  BINARY_OPERATOR         FOR_STMT   \n",
       "111197               int               int         VAR_DECL        DECL_STMT   \n",
       "111198               int               int       PAREN_EXPR  BINARY_OPERATOR   \n",
       "111199  <dependent type>               int          IF_STMT    COMPOUND_STMT   \n",
       "\n",
       "        start_line  start_column  end_line  end_column  labels  \n",
       "0              482           248       482         268       0  \n",
       "1              389            11       389          31       0  \n",
       "2             1221            14      1221          43       1  \n",
       "3             2729            30      2729          56       0  \n",
       "4               92            15        92          27       1  \n",
       "...            ...           ...       ...         ...     ...  \n",
       "111195         913            13       913          25       1  \n",
       "111196         431            18       431          26       1  \n",
       "111197         480            13       480          22       1  \n",
       "111198        1115            25      1115          34       0  \n",
       "111199         224             7       224          33       0  \n",
       "\n",
       "[111200 rows x 13 columns]"
      ]
     },
     "execution_count": 78,
     "metadata": {},
     "output_type": "execute_result"
    }
   ],
   "source": [
    "test_df"
   ]
  },
  {
   "cell_type": "code",
   "execution_count": 79,
   "metadata": {
    "execution": {
     "iopub.execute_input": "2023-03-01T08:30:37.701627Z",
     "iopub.status.busy": "2023-03-01T08:30:37.701269Z",
     "iopub.status.idle": "2023-03-01T08:30:37.708054Z",
     "shell.execute_reply": "2023-03-01T08:30:37.706992Z",
     "shell.execute_reply.started": "2023-03-01T08:30:37.701596Z"
    }
   },
   "outputs": [],
   "source": [
    "test_df[\"predictions\"] = preds"
   ]
  },
  {
   "cell_type": "code",
   "execution_count": 80,
   "metadata": {
    "execution": {
     "iopub.execute_input": "2023-03-01T08:30:39.029440Z",
     "iopub.status.busy": "2023-03-01T08:30:39.028548Z",
     "iopub.status.idle": "2023-03-01T08:30:39.051232Z",
     "shell.execute_reply": "2023-03-01T08:30:39.049705Z",
     "shell.execute_reply.started": "2023-03-01T08:30:39.029393Z"
    }
   },
   "outputs": [
    {
     "data": {
      "text/html": [
       "<div>\n",
       "<style scoped>\n",
       "    .dataframe tbody tr th:only-of-type {\n",
       "        vertical-align: middle;\n",
       "    }\n",
       "\n",
       "    .dataframe tbody tr th {\n",
       "        vertical-align: top;\n",
       "    }\n",
       "\n",
       "    .dataframe thead th {\n",
       "        text-align: right;\n",
       "    }\n",
       "</style>\n",
       "<table border=\"1\" class=\"dataframe\">\n",
       "  <thead>\n",
       "    <tr style=\"text-align: right;\">\n",
       "      <th></th>\n",
       "      <th>file</th>\n",
       "      <th>left</th>\n",
       "      <th>operator</th>\n",
       "      <th>right</th>\n",
       "      <th>type_left</th>\n",
       "      <th>type_right</th>\n",
       "      <th>parent</th>\n",
       "      <th>grandparent</th>\n",
       "      <th>start_line</th>\n",
       "      <th>start_column</th>\n",
       "      <th>end_line</th>\n",
       "      <th>end_column</th>\n",
       "      <th>labels</th>\n",
       "      <th>predictions</th>\n",
       "    </tr>\n",
       "  </thead>\n",
       "  <tbody>\n",
       "    <tr>\n",
       "      <th>0</th>\n",
       "      <td>cleaned/poropy/poropy/nucleardata/nucleardata_...</td>\n",
       "      <td>cWABA92[11]</td>\n",
       "      <td>*</td>\n",
       "      <td>pow(R,3)</td>\n",
       "      <td>double</td>\n",
       "      <td>double</td>\n",
       "      <td>BINARY_OPERATOR</td>\n",
       "      <td>BINARY_OPERATOR</td>\n",
       "      <td>482</td>\n",
       "      <td>248</td>\n",
       "      <td>482</td>\n",
       "      <td>268</td>\n",
       "      <td>0</td>\n",
       "      <td>0</td>\n",
       "    </tr>\n",
       "    <tr>\n",
       "      <th>1</th>\n",
       "      <td>cleaned/quagga/lib/plist.c</td>\n",
       "      <td>maxseq</td>\n",
       "      <td>&lt;</td>\n",
       "      <td>pentry-&gt;seq</td>\n",
       "      <td>int</td>\n",
       "      <td>int</td>\n",
       "      <td>IF_STMT</td>\n",
       "      <td>COMPOUND_STMT</td>\n",
       "      <td>389</td>\n",
       "      <td>11</td>\n",
       "      <td>389</td>\n",
       "      <td>31</td>\n",
       "      <td>0</td>\n",
       "      <td>0</td>\n",
       "    </tr>\n",
       "    <tr>\n",
       "      <th>2</th>\n",
       "      <td>cleaned/c30-linux/pic30-binutils/acme/gas/conf...</td>\n",
       "      <td>strcasecmp(start,\"a2\")</td>\n",
       "      <td>&gt;</td>\n",
       "      <td>0</td>\n",
       "      <td>int</td>\n",
       "      <td>int</td>\n",
       "      <td>IF_STMT</td>\n",
       "      <td>IF_STMT</td>\n",
       "      <td>1221</td>\n",
       "      <td>14</td>\n",
       "      <td>1221</td>\n",
       "      <td>43</td>\n",
       "      <td>1</td>\n",
       "      <td>1</td>\n",
       "    </tr>\n",
       "    <tr>\n",
       "      <th>3</th>\n",
       "      <td>cleaned/fontforge/fontforge/scstylesui.c</td>\n",
       "      <td>100.0</td>\n",
       "      <td>*</td>\n",
       "      <td>hs-&gt;counter_percent</td>\n",
       "      <td>double</td>\n",
       "      <td>&lt;dependent type&gt;</td>\n",
       "      <td>CALL_EXPR</td>\n",
       "      <td>COMPOUND_STMT</td>\n",
       "      <td>2729</td>\n",
       "      <td>30</td>\n",
       "      <td>2729</td>\n",
       "      <td>56</td>\n",
       "      <td>0</td>\n",
       "      <td>0</td>\n",
       "    </tr>\n",
       "    <tr>\n",
       "      <th>4</th>\n",
       "      <td>cleaned/open-watcom/bld/wv/c/dlgscomp.c</td>\n",
       "      <td>last</td>\n",
       "      <td>/</td>\n",
       "      <td>first</td>\n",
       "      <td>unsigned int</td>\n",
       "      <td>unsigned int</td>\n",
       "      <td>BINARY_OPERATOR</td>\n",
       "      <td>COMPOUND_STMT</td>\n",
       "      <td>92</td>\n",
       "      <td>15</td>\n",
       "      <td>92</td>\n",
       "      <td>27</td>\n",
       "      <td>1</td>\n",
       "      <td>1</td>\n",
       "    </tr>\n",
       "    <tr>\n",
       "      <th>...</th>\n",
       "      <td>...</td>\n",
       "      <td>...</td>\n",
       "      <td>...</td>\n",
       "      <td>...</td>\n",
       "      <td>...</td>\n",
       "      <td>...</td>\n",
       "      <td>...</td>\n",
       "      <td>...</td>\n",
       "      <td>...</td>\n",
       "      <td>...</td>\n",
       "      <td>...</td>\n",
       "      <td>...</td>\n",
       "      <td>...</td>\n",
       "      <td>...</td>\n",
       "    </tr>\n",
       "    <tr>\n",
       "      <th>111195</th>\n",
       "      <td>cleaned/uhub/src/adc/message.c</td>\n",
       "      <td>*str</td>\n",
       "      <td>&gt;=</td>\n",
       "      <td>'\\\\'</td>\n",
       "      <td>int</td>\n",
       "      <td>int</td>\n",
       "      <td>IF_STMT</td>\n",
       "      <td>IF_STMT</td>\n",
       "      <td>913</td>\n",
       "      <td>13</td>\n",
       "      <td>913</td>\n",
       "      <td>25</td>\n",
       "      <td>1</td>\n",
       "      <td>1</td>\n",
       "    </tr>\n",
       "    <tr>\n",
       "      <th>111196</th>\n",
       "      <td>cleaned/blensor/source/blender/editors/space_s...</td>\n",
       "      <td>barh</td>\n",
       "      <td>+</td>\n",
       "      <td>1</td>\n",
       "      <td>int</td>\n",
       "      <td>int</td>\n",
       "      <td>BINARY_OPERATOR</td>\n",
       "      <td>FOR_STMT</td>\n",
       "      <td>431</td>\n",
       "      <td>18</td>\n",
       "      <td>431</td>\n",
       "      <td>26</td>\n",
       "      <td>1</td>\n",
       "      <td>0</td>\n",
       "    </tr>\n",
       "    <tr>\n",
       "      <th>111197</th>\n",
       "      <td>cleaned/freebsd/sys/cddl/contrib/opensolaris/u...</td>\n",
       "      <td>1</td>\n",
       "      <td>&amp;</td>\n",
       "      <td>epbs</td>\n",
       "      <td>int</td>\n",
       "      <td>int</td>\n",
       "      <td>VAR_DECL</td>\n",
       "      <td>DECL_STMT</td>\n",
       "      <td>480</td>\n",
       "      <td>13</td>\n",
       "      <td>480</td>\n",
       "      <td>22</td>\n",
       "      <td>1</td>\n",
       "      <td>1</td>\n",
       "    </tr>\n",
       "    <tr>\n",
       "      <th>111198</th>\n",
       "      <td>cleaned/drone/lib/ffmpeg/libavcodec/jrevdct.c</td>\n",
       "      <td>d00</td>\n",
       "      <td>+</td>\n",
       "      <td>d10</td>\n",
       "      <td>int</td>\n",
       "      <td>int</td>\n",
       "      <td>PAREN_EXPR</td>\n",
       "      <td>BINARY_OPERATOR</td>\n",
       "      <td>1115</td>\n",
       "      <td>25</td>\n",
       "      <td>1115</td>\n",
       "      <td>34</td>\n",
       "      <td>0</td>\n",
       "      <td>0</td>\n",
       "    </tr>\n",
       "    <tr>\n",
       "      <th>111199</th>\n",
       "      <td>cleaned/sharpfin/src/ipk/sharpfin-base-ipk/bus...</td>\n",
       "      <td>r-&gt;rtm_src_len</td>\n",
       "      <td>!=</td>\n",
       "      <td>host_len</td>\n",
       "      <td>&lt;dependent type&gt;</td>\n",
       "      <td>int</td>\n",
       "      <td>IF_STMT</td>\n",
       "      <td>COMPOUND_STMT</td>\n",
       "      <td>224</td>\n",
       "      <td>7</td>\n",
       "      <td>224</td>\n",
       "      <td>33</td>\n",
       "      <td>0</td>\n",
       "      <td>0</td>\n",
       "    </tr>\n",
       "  </tbody>\n",
       "</table>\n",
       "<p>111200 rows × 14 columns</p>\n",
       "</div>"
      ],
      "text/plain": [
       "                                                     file  \\\n",
       "0       cleaned/poropy/poropy/nucleardata/nucleardata_...   \n",
       "1                              cleaned/quagga/lib/plist.c   \n",
       "2       cleaned/c30-linux/pic30-binutils/acme/gas/conf...   \n",
       "3                cleaned/fontforge/fontforge/scstylesui.c   \n",
       "4                 cleaned/open-watcom/bld/wv/c/dlgscomp.c   \n",
       "...                                                   ...   \n",
       "111195                     cleaned/uhub/src/adc/message.c   \n",
       "111196  cleaned/blensor/source/blender/editors/space_s...   \n",
       "111197  cleaned/freebsd/sys/cddl/contrib/opensolaris/u...   \n",
       "111198      cleaned/drone/lib/ffmpeg/libavcodec/jrevdct.c   \n",
       "111199  cleaned/sharpfin/src/ipk/sharpfin-base-ipk/bus...   \n",
       "\n",
       "                          left operator                right  \\\n",
       "0                  cWABA92[11]        *             pow(R,3)   \n",
       "1                       maxseq        <          pentry->seq   \n",
       "2       strcasecmp(start,\"a2\")        >                    0   \n",
       "3                        100.0        *  hs->counter_percent   \n",
       "4                         last        /                first   \n",
       "...                        ...      ...                  ...   \n",
       "111195                    *str       >=                 '\\\\'   \n",
       "111196                    barh        +                    1   \n",
       "111197                       1        &                 epbs   \n",
       "111198                     d00        +                  d10   \n",
       "111199          r->rtm_src_len       !=             host_len   \n",
       "\n",
       "               type_left        type_right           parent      grandparent  \\\n",
       "0                 double            double  BINARY_OPERATOR  BINARY_OPERATOR   \n",
       "1                    int               int          IF_STMT    COMPOUND_STMT   \n",
       "2                    int               int          IF_STMT          IF_STMT   \n",
       "3                 double  <dependent type>        CALL_EXPR    COMPOUND_STMT   \n",
       "4           unsigned int      unsigned int  BINARY_OPERATOR    COMPOUND_STMT   \n",
       "...                  ...               ...              ...              ...   \n",
       "111195               int               int          IF_STMT          IF_STMT   \n",
       "111196               int               int  BINARY_OPERATOR         FOR_STMT   \n",
       "111197               int               int         VAR_DECL        DECL_STMT   \n",
       "111198               int               int       PAREN_EXPR  BINARY_OPERATOR   \n",
       "111199  <dependent type>               int          IF_STMT    COMPOUND_STMT   \n",
       "\n",
       "        start_line  start_column  end_line  end_column  labels  predictions  \n",
       "0              482           248       482         268       0            0  \n",
       "1              389            11       389          31       0            0  \n",
       "2             1221            14      1221          43       1            1  \n",
       "3             2729            30      2729          56       0            0  \n",
       "4               92            15        92          27       1            1  \n",
       "...            ...           ...       ...         ...     ...          ...  \n",
       "111195         913            13       913          25       1            1  \n",
       "111196         431            18       431          26       1            0  \n",
       "111197         480            13       480          22       1            1  \n",
       "111198        1115            25      1115          34       0            0  \n",
       "111199         224             7       224          33       0            0  \n",
       "\n",
       "[111200 rows x 14 columns]"
      ]
     },
     "execution_count": 80,
     "metadata": {},
     "output_type": "execute_result"
    }
   ],
   "source": [
    "test_df"
   ]
  },
  {
   "cell_type": "code",
   "execution_count": 81,
   "metadata": {
    "execution": {
     "iopub.execute_input": "2023-03-01T08:30:41.066597Z",
     "iopub.status.busy": "2023-03-01T08:30:41.065691Z",
     "iopub.status.idle": "2023-03-01T08:30:42.144064Z",
     "shell.execute_reply": "2023-03-01T08:30:42.142846Z",
     "shell.execute_reply.started": "2023-03-01T08:30:41.066565Z"
    }
   },
   "outputs": [
    {
     "data": {
      "text/plain": [
       "array([3.4660680e-04, 2.7619913e-01, 9.9996412e-01, ..., 9.9778658e-01,\n",
       "       2.8760633e-01, 3.3463329e-01], dtype=float32)"
      ]
     },
     "execution_count": 81,
     "metadata": {},
     "output_type": "execute_result"
    }
   ],
   "source": [
    "positive_probabilities = softmax(prediction.predictions)[:, 1]\n",
    "positive_probabilities"
   ]
  },
  {
   "cell_type": "code",
   "execution_count": 82,
   "metadata": {
    "execution": {
     "iopub.execute_input": "2023-03-01T08:30:42.146930Z",
     "iopub.status.busy": "2023-03-01T08:30:42.146518Z",
     "iopub.status.idle": "2023-03-01T08:30:42.172311Z",
     "shell.execute_reply": "2023-03-01T08:30:42.171323Z",
     "shell.execute_reply.started": "2023-03-01T08:30:42.146891Z"
    }
   },
   "outputs": [
    {
     "data": {
      "text/html": [
       "<div>\n",
       "<style scoped>\n",
       "    .dataframe tbody tr th:only-of-type {\n",
       "        vertical-align: middle;\n",
       "    }\n",
       "\n",
       "    .dataframe tbody tr th {\n",
       "        vertical-align: top;\n",
       "    }\n",
       "\n",
       "    .dataframe thead th {\n",
       "        text-align: right;\n",
       "    }\n",
       "</style>\n",
       "<table border=\"1\" class=\"dataframe\">\n",
       "  <thead>\n",
       "    <tr style=\"text-align: right;\">\n",
       "      <th></th>\n",
       "      <th>file</th>\n",
       "      <th>left</th>\n",
       "      <th>operator</th>\n",
       "      <th>right</th>\n",
       "      <th>type_left</th>\n",
       "      <th>type_right</th>\n",
       "      <th>parent</th>\n",
       "      <th>grandparent</th>\n",
       "      <th>start_line</th>\n",
       "      <th>start_column</th>\n",
       "      <th>end_line</th>\n",
       "      <th>end_column</th>\n",
       "      <th>labels</th>\n",
       "      <th>predictions</th>\n",
       "      <th>positive_probabilities</th>\n",
       "    </tr>\n",
       "  </thead>\n",
       "  <tbody>\n",
       "    <tr>\n",
       "      <th>0</th>\n",
       "      <td>cleaned/poropy/poropy/nucleardata/nucleardata_...</td>\n",
       "      <td>cWABA92[11]</td>\n",
       "      <td>*</td>\n",
       "      <td>pow(R,3)</td>\n",
       "      <td>double</td>\n",
       "      <td>double</td>\n",
       "      <td>BINARY_OPERATOR</td>\n",
       "      <td>BINARY_OPERATOR</td>\n",
       "      <td>482</td>\n",
       "      <td>248</td>\n",
       "      <td>482</td>\n",
       "      <td>268</td>\n",
       "      <td>0</td>\n",
       "      <td>0</td>\n",
       "      <td>0.000347</td>\n",
       "    </tr>\n",
       "    <tr>\n",
       "      <th>1</th>\n",
       "      <td>cleaned/quagga/lib/plist.c</td>\n",
       "      <td>maxseq</td>\n",
       "      <td>&lt;</td>\n",
       "      <td>pentry-&gt;seq</td>\n",
       "      <td>int</td>\n",
       "      <td>int</td>\n",
       "      <td>IF_STMT</td>\n",
       "      <td>COMPOUND_STMT</td>\n",
       "      <td>389</td>\n",
       "      <td>11</td>\n",
       "      <td>389</td>\n",
       "      <td>31</td>\n",
       "      <td>0</td>\n",
       "      <td>0</td>\n",
       "      <td>0.276199</td>\n",
       "    </tr>\n",
       "    <tr>\n",
       "      <th>2</th>\n",
       "      <td>cleaned/c30-linux/pic30-binutils/acme/gas/conf...</td>\n",
       "      <td>strcasecmp(start,\"a2\")</td>\n",
       "      <td>&gt;</td>\n",
       "      <td>0</td>\n",
       "      <td>int</td>\n",
       "      <td>int</td>\n",
       "      <td>IF_STMT</td>\n",
       "      <td>IF_STMT</td>\n",
       "      <td>1221</td>\n",
       "      <td>14</td>\n",
       "      <td>1221</td>\n",
       "      <td>43</td>\n",
       "      <td>1</td>\n",
       "      <td>1</td>\n",
       "      <td>0.999964</td>\n",
       "    </tr>\n",
       "    <tr>\n",
       "      <th>3</th>\n",
       "      <td>cleaned/fontforge/fontforge/scstylesui.c</td>\n",
       "      <td>100.0</td>\n",
       "      <td>*</td>\n",
       "      <td>hs-&gt;counter_percent</td>\n",
       "      <td>double</td>\n",
       "      <td>&lt;dependent type&gt;</td>\n",
       "      <td>CALL_EXPR</td>\n",
       "      <td>COMPOUND_STMT</td>\n",
       "      <td>2729</td>\n",
       "      <td>30</td>\n",
       "      <td>2729</td>\n",
       "      <td>56</td>\n",
       "      <td>0</td>\n",
       "      <td>0</td>\n",
       "      <td>0.030901</td>\n",
       "    </tr>\n",
       "    <tr>\n",
       "      <th>4</th>\n",
       "      <td>cleaned/open-watcom/bld/wv/c/dlgscomp.c</td>\n",
       "      <td>last</td>\n",
       "      <td>/</td>\n",
       "      <td>first</td>\n",
       "      <td>unsigned int</td>\n",
       "      <td>unsigned int</td>\n",
       "      <td>BINARY_OPERATOR</td>\n",
       "      <td>COMPOUND_STMT</td>\n",
       "      <td>92</td>\n",
       "      <td>15</td>\n",
       "      <td>92</td>\n",
       "      <td>27</td>\n",
       "      <td>1</td>\n",
       "      <td>1</td>\n",
       "      <td>0.997550</td>\n",
       "    </tr>\n",
       "    <tr>\n",
       "      <th>...</th>\n",
       "      <td>...</td>\n",
       "      <td>...</td>\n",
       "      <td>...</td>\n",
       "      <td>...</td>\n",
       "      <td>...</td>\n",
       "      <td>...</td>\n",
       "      <td>...</td>\n",
       "      <td>...</td>\n",
       "      <td>...</td>\n",
       "      <td>...</td>\n",
       "      <td>...</td>\n",
       "      <td>...</td>\n",
       "      <td>...</td>\n",
       "      <td>...</td>\n",
       "      <td>...</td>\n",
       "    </tr>\n",
       "    <tr>\n",
       "      <th>111195</th>\n",
       "      <td>cleaned/uhub/src/adc/message.c</td>\n",
       "      <td>*str</td>\n",
       "      <td>&gt;=</td>\n",
       "      <td>'\\\\'</td>\n",
       "      <td>int</td>\n",
       "      <td>int</td>\n",
       "      <td>IF_STMT</td>\n",
       "      <td>IF_STMT</td>\n",
       "      <td>913</td>\n",
       "      <td>13</td>\n",
       "      <td>913</td>\n",
       "      <td>25</td>\n",
       "      <td>1</td>\n",
       "      <td>1</td>\n",
       "      <td>0.999986</td>\n",
       "    </tr>\n",
       "    <tr>\n",
       "      <th>111196</th>\n",
       "      <td>cleaned/blensor/source/blender/editors/space_s...</td>\n",
       "      <td>barh</td>\n",
       "      <td>+</td>\n",
       "      <td>1</td>\n",
       "      <td>int</td>\n",
       "      <td>int</td>\n",
       "      <td>BINARY_OPERATOR</td>\n",
       "      <td>FOR_STMT</td>\n",
       "      <td>431</td>\n",
       "      <td>18</td>\n",
       "      <td>431</td>\n",
       "      <td>26</td>\n",
       "      <td>1</td>\n",
       "      <td>0</td>\n",
       "      <td>0.349923</td>\n",
       "    </tr>\n",
       "    <tr>\n",
       "      <th>111197</th>\n",
       "      <td>cleaned/freebsd/sys/cddl/contrib/opensolaris/u...</td>\n",
       "      <td>1</td>\n",
       "      <td>&amp;</td>\n",
       "      <td>epbs</td>\n",
       "      <td>int</td>\n",
       "      <td>int</td>\n",
       "      <td>VAR_DECL</td>\n",
       "      <td>DECL_STMT</td>\n",
       "      <td>480</td>\n",
       "      <td>13</td>\n",
       "      <td>480</td>\n",
       "      <td>22</td>\n",
       "      <td>1</td>\n",
       "      <td>1</td>\n",
       "      <td>0.997787</td>\n",
       "    </tr>\n",
       "    <tr>\n",
       "      <th>111198</th>\n",
       "      <td>cleaned/drone/lib/ffmpeg/libavcodec/jrevdct.c</td>\n",
       "      <td>d00</td>\n",
       "      <td>+</td>\n",
       "      <td>d10</td>\n",
       "      <td>int</td>\n",
       "      <td>int</td>\n",
       "      <td>PAREN_EXPR</td>\n",
       "      <td>BINARY_OPERATOR</td>\n",
       "      <td>1115</td>\n",
       "      <td>25</td>\n",
       "      <td>1115</td>\n",
       "      <td>34</td>\n",
       "      <td>0</td>\n",
       "      <td>0</td>\n",
       "      <td>0.287606</td>\n",
       "    </tr>\n",
       "    <tr>\n",
       "      <th>111199</th>\n",
       "      <td>cleaned/sharpfin/src/ipk/sharpfin-base-ipk/bus...</td>\n",
       "      <td>r-&gt;rtm_src_len</td>\n",
       "      <td>!=</td>\n",
       "      <td>host_len</td>\n",
       "      <td>&lt;dependent type&gt;</td>\n",
       "      <td>int</td>\n",
       "      <td>IF_STMT</td>\n",
       "      <td>COMPOUND_STMT</td>\n",
       "      <td>224</td>\n",
       "      <td>7</td>\n",
       "      <td>224</td>\n",
       "      <td>33</td>\n",
       "      <td>0</td>\n",
       "      <td>0</td>\n",
       "      <td>0.334633</td>\n",
       "    </tr>\n",
       "  </tbody>\n",
       "</table>\n",
       "<p>111200 rows × 15 columns</p>\n",
       "</div>"
      ],
      "text/plain": [
       "                                                     file  \\\n",
       "0       cleaned/poropy/poropy/nucleardata/nucleardata_...   \n",
       "1                              cleaned/quagga/lib/plist.c   \n",
       "2       cleaned/c30-linux/pic30-binutils/acme/gas/conf...   \n",
       "3                cleaned/fontforge/fontforge/scstylesui.c   \n",
       "4                 cleaned/open-watcom/bld/wv/c/dlgscomp.c   \n",
       "...                                                   ...   \n",
       "111195                     cleaned/uhub/src/adc/message.c   \n",
       "111196  cleaned/blensor/source/blender/editors/space_s...   \n",
       "111197  cleaned/freebsd/sys/cddl/contrib/opensolaris/u...   \n",
       "111198      cleaned/drone/lib/ffmpeg/libavcodec/jrevdct.c   \n",
       "111199  cleaned/sharpfin/src/ipk/sharpfin-base-ipk/bus...   \n",
       "\n",
       "                          left operator                right  \\\n",
       "0                  cWABA92[11]        *             pow(R,3)   \n",
       "1                       maxseq        <          pentry->seq   \n",
       "2       strcasecmp(start,\"a2\")        >                    0   \n",
       "3                        100.0        *  hs->counter_percent   \n",
       "4                         last        /                first   \n",
       "...                        ...      ...                  ...   \n",
       "111195                    *str       >=                 '\\\\'   \n",
       "111196                    barh        +                    1   \n",
       "111197                       1        &                 epbs   \n",
       "111198                     d00        +                  d10   \n",
       "111199          r->rtm_src_len       !=             host_len   \n",
       "\n",
       "               type_left        type_right           parent      grandparent  \\\n",
       "0                 double            double  BINARY_OPERATOR  BINARY_OPERATOR   \n",
       "1                    int               int          IF_STMT    COMPOUND_STMT   \n",
       "2                    int               int          IF_STMT          IF_STMT   \n",
       "3                 double  <dependent type>        CALL_EXPR    COMPOUND_STMT   \n",
       "4           unsigned int      unsigned int  BINARY_OPERATOR    COMPOUND_STMT   \n",
       "...                  ...               ...              ...              ...   \n",
       "111195               int               int          IF_STMT          IF_STMT   \n",
       "111196               int               int  BINARY_OPERATOR         FOR_STMT   \n",
       "111197               int               int         VAR_DECL        DECL_STMT   \n",
       "111198               int               int       PAREN_EXPR  BINARY_OPERATOR   \n",
       "111199  <dependent type>               int          IF_STMT    COMPOUND_STMT   \n",
       "\n",
       "        start_line  start_column  end_line  end_column  labels  predictions  \\\n",
       "0              482           248       482         268       0            0   \n",
       "1              389            11       389          31       0            0   \n",
       "2             1221            14      1221          43       1            1   \n",
       "3             2729            30      2729          56       0            0   \n",
       "4               92            15        92          27       1            1   \n",
       "...            ...           ...       ...         ...     ...          ...   \n",
       "111195         913            13       913          25       1            1   \n",
       "111196         431            18       431          26       1            0   \n",
       "111197         480            13       480          22       1            1   \n",
       "111198        1115            25      1115          34       0            0   \n",
       "111199         224             7       224          33       0            0   \n",
       "\n",
       "        positive_probabilities  \n",
       "0                     0.000347  \n",
       "1                     0.276199  \n",
       "2                     0.999964  \n",
       "3                     0.030901  \n",
       "4                     0.997550  \n",
       "...                        ...  \n",
       "111195                0.999986  \n",
       "111196                0.349923  \n",
       "111197                0.997787  \n",
       "111198                0.287606  \n",
       "111199                0.334633  \n",
       "\n",
       "[111200 rows x 15 columns]"
      ]
     },
     "execution_count": 82,
     "metadata": {},
     "output_type": "execute_result"
    }
   ],
   "source": [
    "test_df[\"positive_probabilities\"] = positive_probabilities\n",
    "test_df"
   ]
  },
  {
   "cell_type": "code",
   "execution_count": 60,
   "metadata": {
    "execution": {
     "iopub.execute_input": "2023-03-01T08:28:16.206524Z",
     "iopub.status.busy": "2023-03-01T08:28:16.206187Z",
     "iopub.status.idle": "2023-03-01T08:28:17.265139Z",
     "shell.execute_reply": "2023-03-01T08:28:17.263709Z",
     "shell.execute_reply.started": "2023-03-01T08:28:16.206490Z"
    }
   },
   "outputs": [
    {
     "name": "stdout",
     "output_type": "stream",
     "text": [
      "/bin/bash: /opt/conda/lib/libtinfo.so.6: no version information available (required by /bin/bash)\n",
      "rm: cannot remove '/kaggle/working/WBO_test_dataset_predictions.csv': No such file or directory\n"
     ]
    }
   ],
   "source": [
    "# ! rm -rd /kaggle/working/WBO_test_dataset_predictions.csv"
   ]
  },
  {
   "cell_type": "code",
   "execution_count": 83,
   "metadata": {
    "execution": {
     "iopub.execute_input": "2023-03-01T08:31:17.253811Z",
     "iopub.status.busy": "2023-03-01T08:31:17.253434Z",
     "iopub.status.idle": "2023-03-01T08:31:17.787575Z",
     "shell.execute_reply": "2023-03-01T08:31:17.786635Z",
     "shell.execute_reply.started": "2023-03-01T08:31:17.253782Z"
    }
   },
   "outputs": [],
   "source": [
    "test_df.to_csv(\"WBO_test_dataset_predictions.csv\", sep=\"\\t\", index=False)"
   ]
  },
  {
   "cell_type": "markdown",
   "metadata": {},
   "source": [
    "-----\n",
    "## Inference using pipeline\n",
    "-----"
   ]
  },
  {
   "cell_type": "code",
   "execution_count": 85,
   "metadata": {
    "execution": {
     "iopub.execute_input": "2023-03-01T08:32:43.781508Z",
     "iopub.status.busy": "2023-03-01T08:32:43.781147Z",
     "iopub.status.idle": "2023-03-01T08:32:45.590147Z",
     "shell.execute_reply": "2023-03-01T08:32:45.589145Z",
     "shell.execute_reply.started": "2023-03-01T08:32:43.781477Z"
    }
   },
   "outputs": [],
   "source": [
    "from transformers import pipeline"
   ]
  },
  {
   "cell_type": "code",
   "execution_count": 122,
   "metadata": {
    "execution": {
     "iopub.execute_input": "2023-03-01T09:09:52.852305Z",
     "iopub.status.busy": "2023-03-01T09:09:52.851925Z",
     "iopub.status.idle": "2023-03-01T09:09:55.756176Z",
     "shell.execute_reply": "2023-03-01T09:09:55.755140Z",
     "shell.execute_reply.started": "2023-03-01T09:09:52.852273Z"
    }
   },
   "outputs": [
    {
     "data": {
      "application/vnd.jupyter.widget-view+json": {
       "model_id": "4c6bfbb8a3654cd3996a5efdda563e6b",
       "version_major": 2,
       "version_minor": 0
      },
      "text/plain": [
       "Downloading:   0%|          | 0.00/1.31k [00:00<?, ?B/s]"
      ]
     },
     "metadata": {},
     "output_type": "display_data"
    },
    {
     "name": "stderr",
     "output_type": "stream",
     "text": [
      "loading configuration file https://huggingface.co/dipudl/wrong-binary-operator-bug-distilbert-model/resolve/main/config.json from cache at /root/.cache/huggingface/transformers/d6b37b96a0c9e9cb56be799f4c310ea25a36cb63bfc427359948b409468f8bfc.a116d9a536f536877bd70c89cfbc9d7879686ce296b9546fdbd15f6ce9687340\n",
      "Model config DistilBertConfig {\n",
      "  \"_name_or_path\": \"dipudl/wrong-binary-operator-bug-distilbert-model\",\n",
      "  \"activation\": \"gelu\",\n",
      "  \"architectures\": [\n",
      "    \"DistilBertForSequenceClassification\"\n",
      "  ],\n",
      "  \"attention_dropout\": 0.1,\n",
      "  \"dim\": 768,\n",
      "  \"dropout\": 0.1,\n",
      "  \"hidden_dim\": 3072,\n",
      "  \"id2label\": {\n",
      "    \"0\": \"CORRECT\",\n",
      "    \"1\": \"BUGGY\"\n",
      "  },\n",
      "  \"initializer_range\": 0.02,\n",
      "  \"label2id\": {\n",
      "    \"BUGGY\": 1,\n",
      "    \"CORRECT\": 0\n",
      "  },\n",
      "  \"max_position_embeddings\": 512,\n",
      "  \"model_type\": \"distilbert\",\n",
      "  \"n_heads\": 12,\n",
      "  \"n_layers\": 6,\n",
      "  \"pad_token_id\": 0,\n",
      "  \"problem_type\": \"single_label_classification\",\n",
      "  \"qa_dropout\": 0.1,\n",
      "  \"seq_classif_dropout\": 0.2,\n",
      "  \"sinusoidal_pos_embds\": false,\n",
      "  \"tie_weights_\": true,\n",
      "  \"torch_dtype\": \"float32\",\n",
      "  \"transformers_version\": \"4.20.1\",\n",
      "  \"vocab_size\": 30522\n",
      "}\n",
      "\n",
      "loading configuration file https://huggingface.co/dipudl/wrong-binary-operator-bug-distilbert-model/resolve/main/config.json from cache at /root/.cache/huggingface/transformers/d6b37b96a0c9e9cb56be799f4c310ea25a36cb63bfc427359948b409468f8bfc.a116d9a536f536877bd70c89cfbc9d7879686ce296b9546fdbd15f6ce9687340\n",
      "Model config DistilBertConfig {\n",
      "  \"_name_or_path\": \"dipudl/wrong-binary-operator-bug-distilbert-model\",\n",
      "  \"activation\": \"gelu\",\n",
      "  \"architectures\": [\n",
      "    \"DistilBertForSequenceClassification\"\n",
      "  ],\n",
      "  \"attention_dropout\": 0.1,\n",
      "  \"dim\": 768,\n",
      "  \"dropout\": 0.1,\n",
      "  \"hidden_dim\": 3072,\n",
      "  \"id2label\": {\n",
      "    \"0\": \"CORRECT\",\n",
      "    \"1\": \"BUGGY\"\n",
      "  },\n",
      "  \"initializer_range\": 0.02,\n",
      "  \"label2id\": {\n",
      "    \"BUGGY\": 1,\n",
      "    \"CORRECT\": 0\n",
      "  },\n",
      "  \"max_position_embeddings\": 512,\n",
      "  \"model_type\": \"distilbert\",\n",
      "  \"n_heads\": 12,\n",
      "  \"n_layers\": 6,\n",
      "  \"pad_token_id\": 0,\n",
      "  \"problem_type\": \"single_label_classification\",\n",
      "  \"qa_dropout\": 0.1,\n",
      "  \"seq_classif_dropout\": 0.2,\n",
      "  \"sinusoidal_pos_embds\": false,\n",
      "  \"tie_weights_\": true,\n",
      "  \"torch_dtype\": \"float32\",\n",
      "  \"transformers_version\": \"4.20.1\",\n",
      "  \"vocab_size\": 30522\n",
      "}\n",
      "\n",
      "loading weights file https://huggingface.co/dipudl/wrong-binary-operator-bug-distilbert-model/resolve/main/pytorch_model.bin from cache at /root/.cache/huggingface/transformers/6e489f77654962ec0525003eb9ce72abfff65731bd4f5236640e820b008a96f0.40b77663ebd7b85676efd780cd3e71dc1c02c6f5048dc9184005f247741c709c\n",
      "All model checkpoint weights were used when initializing DistilBertForSequenceClassification.\n",
      "\n",
      "All the weights of DistilBertForSequenceClassification were initialized from the model checkpoint at dipudl/wrong-binary-operator-bug-distilbert-model.\n",
      "If your task is similar to the task the model of the checkpoint was trained on, you can already use DistilBertForSequenceClassification for predictions without further training.\n",
      "loading file https://huggingface.co/dipudl/wrong-binary-operator-bug-distilbert-model/resolve/main/vocab.json from cache at /root/.cache/huggingface/transformers/f243fd471cb853d95a25f33eafe89cfea83011aba58f65fb0b5524ef85a290e0.9a35ae57ce66b3a375abfa9a6a2fa53dcd2cd361db8e6478877f08569f69b771\n",
      "loading file https://huggingface.co/dipudl/wrong-binary-operator-bug-distilbert-model/resolve/main/merges.txt from cache at /root/.cache/huggingface/transformers/628537c2b54b7207a7828fc9704aa7970040b4332b16f03af901bccc56ca46d1.1c2821a0b9a2f62bbeacf7ba0b4c2b2b4dd6f63645fe6681015af90a376d90a1\n",
      "loading file https://huggingface.co/dipudl/wrong-binary-operator-bug-distilbert-model/resolve/main/tokenizer.json from cache at /root/.cache/huggingface/transformers/c0288f94ea396e663004ecd2692b138c9f6dd2d0bf1abcf050022d5843fc0213.9d492014fd6f918c9c1ea01c3dbc893dcf7ee8d1407caf520d02b7ddf8700581\n",
      "loading file https://huggingface.co/dipudl/wrong-binary-operator-bug-distilbert-model/resolve/main/added_tokens.json from cache at None\n",
      "loading file https://huggingface.co/dipudl/wrong-binary-operator-bug-distilbert-model/resolve/main/special_tokens_map.json from cache at /root/.cache/huggingface/transformers/b2ccf13f901fa2d60f52262e0a9f9ce83e58dae7d26844bb8dd89281ba77589e.b96745c096b3a4fc6596ce01a6556b16c22ddd0b11968d6d04fd7d47ec12b195\n",
      "loading file https://huggingface.co/dipudl/wrong-binary-operator-bug-distilbert-model/resolve/main/tokenizer_config.json from cache at /root/.cache/huggingface/transformers/61410781022b646bf39b93d885e08e87e8fea00b16ed872fdaadf22cb439247f.48261c66510f00f4016cf5c67c138bf05fc207de042cd6a2965c0fe9f8291b82\n"
     ]
    }
   ],
   "source": [
    "bug_classifier = pipeline(model=\"dipudl/wrong-binary-operator-bug-distilbert-model\")"
   ]
  },
  {
   "cell_type": "code",
   "execution_count": 123,
   "metadata": {
    "execution": {
     "iopub.execute_input": "2023-03-01T09:09:55.759139Z",
     "iopub.status.busy": "2023-03-01T09:09:55.758735Z",
     "iopub.status.idle": "2023-03-01T09:09:56.354711Z",
     "shell.execute_reply": "2023-03-01T09:09:56.353623Z",
     "shell.execute_reply.started": "2023-03-01T09:09:55.759104Z"
    }
   },
   "outputs": [
    {
     "data": {
      "text/plain": [
       "[{'label': 'CORRECT', 'score': 0.9996533393859863},\n",
       " {'label': 'CORRECT', 'score': 0.7238007187843323},\n",
       " {'label': 'BUGGY', 'score': 0.9999641180038452},\n",
       " {'label': 'CORRECT', 'score': 0.9690993428230286},\n",
       " {'label': 'BUGGY', 'score': 0.9975500702857971},\n",
       " {'label': 'BUGGY', 'score': 0.9999874830245972},\n",
       " {'label': 'CORRECT', 'score': 0.715232789516449},\n",
       " {'label': 'BUGGY', 'score': 0.9958478212356567},\n",
       " {'label': 'BUGGY', 'score': 0.6763699650764465},\n",
       " {'label': 'CORRECT', 'score': 0.9364230632781982}]"
      ]
     },
     "execution_count": 123,
     "metadata": {},
     "output_type": "execute_result"
    }
   ],
   "source": [
    "result = bug_classifier(list(test_df.full_text[:10]))\n",
    "result"
   ]
  }
 ],
 "metadata": {
  "kernelspec": {
   "display_name": "Python 3 (ipykernel)",
   "language": "python",
   "name": "python3"
  },
  "language_info": {
   "codemirror_mode": {
    "name": "ipython",
    "version": 3
   },
   "file_extension": ".py",
   "mimetype": "text/x-python",
   "name": "python",
   "nbconvert_exporter": "python",
   "pygments_lexer": "ipython3",
   "version": "3.9.12"
  }
 },
 "nbformat": 4,
 "nbformat_minor": 4
}
