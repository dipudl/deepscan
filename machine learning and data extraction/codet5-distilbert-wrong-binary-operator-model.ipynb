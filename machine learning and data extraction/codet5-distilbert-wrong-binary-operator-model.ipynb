{
 "cells": [
  {
   "cell_type": "code",
   "execution_count": null,
   "metadata": {
    "_cell_guid": "b1076dfc-b9ad-4769-8c92-a6c4dae69d19",
    "_uuid": "8f2839f25d086af736a60e9eeb907d3b93b6e0e5",
    "execution": {
     "iopub.execute_input": "2023-03-01T16:52:48.736013Z",
     "iopub.status.busy": "2023-03-01T16:52:48.735392Z",
     "iopub.status.idle": "2023-03-01T16:53:03.996125Z",
     "shell.execute_reply": "2023-03-01T16:53:03.994108Z",
     "shell.execute_reply.started": "2023-03-01T16:52:48.735870Z"
    }
   },
   "outputs": [],
   "source": [
    "import os\n",
    "import numpy as np\n",
    "import pandas as pd\n",
    "from sklearn.model_selection import train_test_split\n",
    "from sklearn.metrics import accuracy_score, precision_score, recall_score, f1_score, log_loss\n",
    "\n",
    "from transformers import AutoModelForSequenceClassification, AutoTokenizer, Trainer, TrainerCallback, TrainingArguments, EarlyStoppingCallback\n",
    "from datasets import Dataset, load_dataset\n",
    "from copy import deepcopy\n",
    "import torch\n",
    "\n",
    "os.environ[\"WANDB_DISABLED\"] = \"true\"\n",
    "# os.environ[\"TOKENIZERS_PARALLELISM\"] = \"false\"\n",
    "\n",
    "RANDOM_STATE = 42"
   ]
  },
  {
   "cell_type": "code",
   "execution_count": null,
   "metadata": {
    "execution": {
     "iopub.execute_input": "2023-03-01T16:54:25.852095Z",
     "iopub.status.busy": "2023-03-01T16:54:25.850457Z",
     "iopub.status.idle": "2023-03-01T16:54:25.859564Z",
     "shell.execute_reply": "2023-03-01T16:54:25.858101Z",
     "shell.execute_reply.started": "2023-03-01T16:54:25.852037Z"
    }
   },
   "outputs": [],
   "source": [
    "id2label = {0: \"CORRECT\", 1: \"BUGGY\"}\n",
    "label2id = {\"CORRECT\": 0, \"BUGGY\": 1}"
   ]
  },
  {
   "cell_type": "code",
   "execution_count": null,
   "metadata": {
    "execution": {
     "iopub.execute_input": "2023-03-01T16:54:26.125452Z",
     "iopub.status.busy": "2023-03-01T16:54:26.124977Z",
     "iopub.status.idle": "2023-03-01T16:54:39.912159Z",
     "shell.execute_reply": "2023-03-01T16:54:39.910356Z",
     "shell.execute_reply.started": "2023-03-01T16:54:26.125413Z"
    }
   },
   "outputs": [],
   "source": [
    "tokenizer = AutoTokenizer.from_pretrained('dipudl/codet5-base')\n",
    "model = AutoModelForSequenceClassification.from_pretrained(\n",
    "    'distilbert-base-uncased',\n",
    "    num_labels=2,\n",
    "    id2label=id2label,\n",
    "    label2id=label2id\n",
    ")\n",
    "\n",
    "# # Trained model\n",
    "# model = AutoModelForSequenceClassification.from_pretrained(\n",
    "#     'dipudl/wrong-binary-operator-bug-distilbert-model',\n",
    "#     num_labels=2,\n",
    "#     id2label=id2label,\n",
    "#     label2id=label2id\n",
    "# )"
   ]
  },
  {
   "cell_type": "code",
   "execution_count": null,
   "metadata": {
    "execution": {
     "iopub.execute_input": "2023-03-01T16:54:40.176264Z",
     "iopub.status.busy": "2023-03-01T16:54:40.175634Z",
     "iopub.status.idle": "2023-03-01T16:54:41.694839Z",
     "shell.execute_reply": "2023-03-01T16:54:41.693247Z",
     "shell.execute_reply.started": "2023-03-01T16:54:40.176204Z"
    }
   },
   "outputs": [],
   "source": [
    "!pip install huggingface_hub\n",
    "!python -c \"from huggingface_hub.hf_api import HfFolder; HfFolder.save_token('XXXXXX')\""
   ]
  },
  {
   "cell_type": "markdown",
   "metadata": {},
   "source": [
    "-----\n",
    "## Load Dataset\n",
    "-----"
   ]
  },
  {
   "cell_type": "code",
   "execution_count": null,
   "metadata": {
    "execution": {
     "iopub.execute_input": "2023-03-01T16:54:41.699596Z",
     "iopub.status.busy": "2023-03-01T16:54:41.697059Z",
     "iopub.status.idle": "2023-03-01T16:54:47.552281Z",
     "shell.execute_reply": "2023-03-01T16:54:47.550875Z",
     "shell.execute_reply.started": "2023-03-01T16:54:41.699545Z"
    }
   },
   "outputs": [],
   "source": [
    "train_df = pd.read_csv(\"/kaggle/input/wrong-binary-operator-dataset-train-test/wrong_binary_operator_dataset_filtered_train.csv\", sep=\"\\t\")\n",
    "test_df = pd.read_csv(\"/kaggle/input/wrong-binary-operator-dataset-train-test/wrong_binary_operator_dataset_filtered_test.csv\", sep=\"\\t\")"
   ]
  },
  {
   "cell_type": "code",
   "execution_count": null,
   "metadata": {
    "execution": {
     "iopub.execute_input": "2023-03-01T16:54:47.555262Z",
     "iopub.status.busy": "2023-03-01T16:54:47.554698Z",
     "iopub.status.idle": "2023-03-01T16:54:47.646585Z",
     "shell.execute_reply": "2023-03-01T16:54:47.644675Z",
     "shell.execute_reply.started": "2023-03-01T16:54:47.555205Z"
    }
   },
   "outputs": [],
   "source": [
    "train_df.sample(5)"
   ]
  },
  {
   "cell_type": "code",
   "execution_count": null,
   "metadata": {
    "execution": {
     "iopub.execute_input": "2023-03-01T16:54:47.649836Z",
     "iopub.status.busy": "2023-03-01T16:54:47.649232Z",
     "iopub.status.idle": "2023-03-01T16:54:47.675218Z",
     "shell.execute_reply": "2023-03-01T16:54:47.673407Z",
     "shell.execute_reply.started": "2023-03-01T16:54:47.649781Z"
    }
   },
   "outputs": [],
   "source": [
    "test_df.sample(5)"
   ]
  },
  {
   "cell_type": "code",
   "execution_count": null,
   "metadata": {
    "execution": {
     "iopub.execute_input": "2023-03-01T16:54:47.678481Z",
     "iopub.status.busy": "2023-03-01T16:54:47.677383Z",
     "iopub.status.idle": "2023-03-01T16:54:47.687647Z",
     "shell.execute_reply": "2023-03-01T16:54:47.685933Z",
     "shell.execute_reply.started": "2023-03-01T16:54:47.678426Z"
    }
   },
   "outputs": [],
   "source": [
    "train_df.shape, test_df.shape"
   ]
  },
  {
   "cell_type": "code",
   "execution_count": null,
   "metadata": {
    "execution": {
     "iopub.execute_input": "2023-03-01T16:54:47.690392Z",
     "iopub.status.busy": "2023-03-01T16:54:47.689924Z",
     "iopub.status.idle": "2023-03-01T16:54:48.138071Z",
     "shell.execute_reply": "2023-03-01T16:54:48.136177Z",
     "shell.execute_reply.started": "2023-03-01T16:54:47.690353Z"
    }
   },
   "outputs": [],
   "source": [
    "train_df.isna().sum()"
   ]
  },
  {
   "cell_type": "code",
   "execution_count": null,
   "metadata": {
    "execution": {
     "iopub.execute_input": "2023-03-01T16:54:48.141448Z",
     "iopub.status.busy": "2023-03-01T16:54:48.140534Z",
     "iopub.status.idle": "2023-03-01T16:54:50.196627Z",
     "shell.execute_reply": "2023-03-01T16:54:50.194602Z",
     "shell.execute_reply.started": "2023-03-01T16:54:48.141381Z"
    }
   },
   "outputs": [],
   "source": [
    "train_df['full_text'] = train_df['left'] + tokenizer.sep_token + train_df['operator'] + tokenizer.sep_token + train_df['right'] + tokenizer.sep_token + train_df['type_left'] + tokenizer.sep_token + train_df['type_right'] + tokenizer.sep_token + train_df['parent'] + tokenizer.sep_token + train_df['grandparent']\n",
    "test_df['full_text'] = test_df['left'] + tokenizer.sep_token + test_df['operator'] + tokenizer.sep_token + test_df['right'] + tokenizer.sep_token + test_df['type_left'] + tokenizer.sep_token + test_df['type_right'] + tokenizer.sep_token + test_df['parent'] + tokenizer.sep_token + test_df['grandparent']"
   ]
  },
  {
   "cell_type": "code",
   "execution_count": null,
   "metadata": {
    "execution": {
     "iopub.execute_input": "2023-03-01T16:54:50.199516Z",
     "iopub.status.busy": "2023-03-01T16:54:50.198829Z",
     "iopub.status.idle": "2023-03-01T16:54:50.831276Z",
     "shell.execute_reply": "2023-03-01T16:54:50.829728Z",
     "shell.execute_reply.started": "2023-03-01T16:54:50.199471Z"
    }
   },
   "outputs": [],
   "source": [
    "train_df.drop(['left','operator','right','type_left','type_right','parent', 'grandparent'], axis=1, inplace=True)\n",
    "test_df.drop(['left','operator','right','type_left','type_right','parent', 'grandparent'], axis=1, inplace=True)"
   ]
  },
  {
   "cell_type": "code",
   "execution_count": null,
   "metadata": {
    "execution": {
     "iopub.execute_input": "2023-03-01T16:54:50.833598Z",
     "iopub.status.busy": "2023-03-01T16:54:50.833125Z",
     "iopub.status.idle": "2023-03-01T16:54:50.897917Z",
     "shell.execute_reply": "2023-03-01T16:54:50.896472Z",
     "shell.execute_reply.started": "2023-03-01T16:54:50.833555Z"
    }
   },
   "outputs": [],
   "source": [
    "train_df.sample(5)"
   ]
  },
  {
   "cell_type": "code",
   "execution_count": null,
   "metadata": {
    "execution": {
     "iopub.execute_input": "2023-03-01T16:54:50.900823Z",
     "iopub.status.busy": "2023-03-01T16:54:50.899654Z",
     "iopub.status.idle": "2023-03-01T16:54:50.944367Z",
     "shell.execute_reply": "2023-03-01T16:54:50.942510Z",
     "shell.execute_reply.started": "2023-03-01T16:54:50.900776Z"
    }
   },
   "outputs": [],
   "source": [
    "test_df.sample(5)"
   ]
  },
  {
   "cell_type": "code",
   "execution_count": null,
   "metadata": {
    "execution": {
     "iopub.execute_input": "2023-03-01T16:54:50.947254Z",
     "iopub.status.busy": "2023-03-01T16:54:50.946776Z",
     "iopub.status.idle": "2023-03-01T16:54:50.957011Z",
     "shell.execute_reply": "2023-03-01T16:54:50.955399Z",
     "shell.execute_reply.started": "2023-03-01T16:54:50.947213Z"
    }
   },
   "outputs": [],
   "source": [
    "# FOR TESTING PURPOSE\n",
    "# train_df = train_df.sample(int(train_df.shape[0] * 0.01))\n",
    "# test_df = test_df.sample(int(test_df.shape[0] * 0.01))"
   ]
  },
  {
   "cell_type": "code",
   "execution_count": null,
   "metadata": {
    "execution": {
     "iopub.execute_input": "2023-03-01T16:54:50.960131Z",
     "iopub.status.busy": "2023-03-01T16:54:50.959558Z",
     "iopub.status.idle": "2023-03-01T16:54:50.975224Z",
     "shell.execute_reply": "2023-03-01T16:54:50.973914Z",
     "shell.execute_reply.started": "2023-03-01T16:54:50.960077Z"
    }
   },
   "outputs": [],
   "source": [
    "print(train_df.iloc[10].full_text)\n",
    "print(\"-\" * 80)\n",
    "print(tokenizer.tokenize(train_df.iloc[10].full_text))\n",
    "print(\"-\" * 80)\n",
    "print(tokenizer(train_df.iloc[10].full_text))"
   ]
  },
  {
   "cell_type": "code",
   "execution_count": null,
   "metadata": {
    "execution": {
     "iopub.execute_input": "2023-03-01T16:54:50.979893Z",
     "iopub.status.busy": "2023-03-01T16:54:50.976820Z",
     "iopub.status.idle": "2023-03-01T16:54:50.987532Z",
     "shell.execute_reply": "2023-03-01T16:54:50.985517Z",
     "shell.execute_reply.started": "2023-03-01T16:54:50.979839Z"
    }
   },
   "outputs": [],
   "source": [
    "def tokenize_text(examples):\n",
    "    return tokenizer(examples[\"full_text\"], truncation=True, max_length=128, padding=True)"
   ]
  },
  {
   "cell_type": "code",
   "execution_count": null,
   "metadata": {
    "execution": {
     "iopub.execute_input": "2023-03-01T16:54:50.990383Z",
     "iopub.status.busy": "2023-03-01T16:54:50.989843Z",
     "iopub.status.idle": "2023-03-01T16:54:51.572759Z",
     "shell.execute_reply": "2023-03-01T16:54:51.570872Z",
     "shell.execute_reply.started": "2023-03-01T16:54:50.990335Z"
    }
   },
   "outputs": [],
   "source": [
    "train_df, validation_df = train_test_split(train_df, test_size=0.11111, random_state=RANDOM_STATE)\n",
    "train_df.shape, validation_df.shape"
   ]
  },
  {
   "cell_type": "code",
   "execution_count": null,
   "metadata": {
    "execution": {
     "iopub.execute_input": "2023-03-01T16:54:51.575466Z",
     "iopub.status.busy": "2023-03-01T16:54:51.574867Z",
     "iopub.status.idle": "2023-03-01T16:54:52.390798Z",
     "shell.execute_reply": "2023-03-01T16:54:52.389477Z",
     "shell.execute_reply.started": "2023-03-01T16:54:51.575409Z"
    }
   },
   "outputs": [],
   "source": [
    "train_dataset = Dataset.from_pandas(train_df)\n",
    "train_dataset"
   ]
  },
  {
   "cell_type": "code",
   "execution_count": null,
   "metadata": {
    "execution": {
     "iopub.execute_input": "2023-03-01T16:54:52.394396Z",
     "iopub.status.busy": "2023-03-01T16:54:52.393397Z",
     "iopub.status.idle": "2023-03-01T16:54:52.483847Z",
     "shell.execute_reply": "2023-03-01T16:54:52.482472Z",
     "shell.execute_reply.started": "2023-03-01T16:54:52.394327Z"
    }
   },
   "outputs": [],
   "source": [
    "validation_dataset = Dataset.from_pandas(validation_df)\n",
    "validation_dataset"
   ]
  },
  {
   "cell_type": "code",
   "execution_count": null,
   "metadata": {
    "execution": {
     "iopub.execute_input": "2023-03-01T16:54:52.486247Z",
     "iopub.status.busy": "2023-03-01T16:54:52.485621Z",
     "iopub.status.idle": "2023-03-01T16:54:52.540878Z",
     "shell.execute_reply": "2023-03-01T16:54:52.539269Z",
     "shell.execute_reply.started": "2023-03-01T16:54:52.486206Z"
    }
   },
   "outputs": [],
   "source": [
    "test_dataset = Dataset.from_pandas(test_df)\n",
    "test_dataset"
   ]
  },
  {
   "cell_type": "markdown",
   "metadata": {},
   "source": [
    "-----\n",
    "## Tokenization\n",
    "-----"
   ]
  },
  {
   "cell_type": "code",
   "execution_count": null,
   "metadata": {
    "execution": {
     "iopub.execute_input": "2023-03-01T16:54:52.548344Z",
     "iopub.status.busy": "2023-03-01T16:54:52.547344Z",
     "iopub.status.idle": "2023-03-01T16:56:49.198151Z",
     "shell.execute_reply": "2023-03-01T16:56:49.196690Z",
     "shell.execute_reply.started": "2023-03-01T16:54:52.548295Z"
    }
   },
   "outputs": [],
   "source": [
    "train_dataset = train_dataset.map(tokenize_text, batched=True, remove_columns=[\"full_text\", \"__index_level_0__\"])\n",
    "train_dataset"
   ]
  },
  {
   "cell_type": "code",
   "execution_count": null,
   "metadata": {
    "execution": {
     "iopub.execute_input": "2023-03-01T16:56:49.199920Z",
     "iopub.status.busy": "2023-03-01T16:56:49.199551Z",
     "iopub.status.idle": "2023-03-01T16:57:02.767903Z",
     "shell.execute_reply": "2023-03-01T16:57:02.762257Z",
     "shell.execute_reply.started": "2023-03-01T16:56:49.199887Z"
    }
   },
   "outputs": [],
   "source": [
    "validation_dataset = validation_dataset.map(tokenize_text, batched=True, remove_columns=[\"full_text\", \"__index_level_0__\"])\n",
    "validation_dataset"
   ]
  },
  {
   "cell_type": "code",
   "execution_count": null,
   "metadata": {
    "execution": {
     "iopub.execute_input": "2023-03-01T16:57:02.770014Z",
     "iopub.status.busy": "2023-03-01T16:57:02.769482Z",
     "iopub.status.idle": "2023-03-01T16:57:16.741069Z",
     "shell.execute_reply": "2023-03-01T16:57:16.739885Z",
     "shell.execute_reply.started": "2023-03-01T16:57:02.769965Z"
    }
   },
   "outputs": [],
   "source": [
    "test_dataset = test_dataset.map(tokenize_text, batched=True, remove_columns=[\"full_text\"])\n",
    "test_dataset"
   ]
  },
  {
   "cell_type": "code",
   "execution_count": null,
   "metadata": {
    "execution": {
     "iopub.execute_input": "2023-03-01T16:57:16.742833Z",
     "iopub.status.busy": "2023-03-01T16:57:16.742407Z",
     "iopub.status.idle": "2023-03-01T16:57:16.750052Z",
     "shell.execute_reply": "2023-03-01T16:57:16.748978Z",
     "shell.execute_reply.started": "2023-03-01T16:57:16.742795Z"
    }
   },
   "outputs": [],
   "source": [
    "def softmax(x):\n",
    "    result = np.zeros_like(x)\n",
    "    \n",
    "    for i in range(len(x)):\n",
    "        result[i] = np.exp(x[i]) / np.sum(np.exp(x[i]), axis=0)\n",
    "    return result"
   ]
  },
  {
   "cell_type": "code",
   "execution_count": null,
   "metadata": {
    "execution": {
     "iopub.execute_input": "2023-03-01T16:57:16.751799Z",
     "iopub.status.busy": "2023-03-01T16:57:16.751345Z",
     "iopub.status.idle": "2023-03-01T16:57:16.766192Z",
     "shell.execute_reply": "2023-03-01T16:57:16.765132Z",
     "shell.execute_reply.started": "2023-03-01T16:57:16.751763Z"
    }
   },
   "outputs": [],
   "source": [
    "def compute_metrics(pred):\n",
    "    labels = pred.label_ids\n",
    "    preds = pred.predictions.argmax(-1)\n",
    "    # loss = log_loss(labels, softmax(preds))\n",
    "    accuracy = accuracy_score(labels, preds)\n",
    "    precision = precision_score(labels, preds)\n",
    "    recall = recall_score(labels, preds)\n",
    "    f1 = f1_score(labels, preds)\n",
    "    return {\"Accuracy\": accuracy, \"Precision\": precision, \"Recall\": recall, \"F1 Score\": f1}"
   ]
  },
  {
   "cell_type": "markdown",
   "metadata": {},
   "source": [
    "-----\n",
    "## Model Training\n",
    "-----"
   ]
  },
  {
   "cell_type": "code",
   "execution_count": null,
   "metadata": {
    "execution": {
     "iopub.execute_input": "2023-03-01T16:57:16.770675Z",
     "iopub.status.busy": "2023-03-01T16:57:16.770308Z",
     "iopub.status.idle": "2023-03-01T16:57:16.787191Z",
     "shell.execute_reply": "2023-03-01T16:57:16.785681Z",
     "shell.execute_reply.started": "2023-03-01T16:57:16.770643Z"
    }
   },
   "outputs": [],
   "source": [
    "# ! rm -rd /kaggle/working/codeT5-DistilBERT-wrong-binary-operator-bug-model\n",
    "\n",
    "batch_size = 64\n",
    "logging_steps = len(train_dataset) // batch_size\n",
    "output_dir = \"wrong-binary-operator-bug-distilbert-model\"\n",
    "\n",
    "training_args = TrainingArguments(\n",
    "  output_dir,\n",
    "  num_train_epochs=10,\n",
    "  learning_rate=2e-5,\n",
    "  per_device_train_batch_size=batch_size,\n",
    "  per_device_eval_batch_size=batch_size,\n",
    "  weight_decay = 0.01,\n",
    "  evaluation_strategy=\"epoch\",\n",
    "  logging_steps=logging_steps,\n",
    "  save_strategy=\"epoch\",\n",
    "  # save_steps=10000,\n",
    "  # fp16=True,\n",
    "  push_to_hub=False,\n",
    "  load_best_model_at_end=True,\n",
    "  metric_for_best_model='eval_loss',\n",
    "  greater_is_better=False\n",
    ")"
   ]
  },
  {
   "cell_type": "code",
   "execution_count": null,
   "metadata": {
    "execution": {
     "iopub.execute_input": "2023-03-01T16:57:16.790104Z",
     "iopub.status.busy": "2023-03-01T16:57:16.789279Z",
     "iopub.status.idle": "2023-03-01T16:57:16.805206Z",
     "shell.execute_reply": "2023-03-01T16:57:16.804028Z",
     "shell.execute_reply.started": "2023-03-01T16:57:16.790060Z"
    }
   },
   "outputs": [],
   "source": [
    "class CustomCallback(TrainerCallback):\n",
    "    \n",
    "    def __init__(self, trainer, test_dataset) -> None:\n",
    "        super().__init__()\n",
    "        self._trainer = trainer\n",
    "        self.test_dataset = test_dataset\n",
    "\n",
    "    def on_epoch_end(self, args, state, control, **kwargs):\n",
    "        if control.should_evaluate:\n",
    "            # control_copy = deepcopy(control)\n",
    "            # print(\"Epoch:\", state.epoch)\n",
    "            # print(self._trainer.predict(self._trainer.train_dataset, metric_key_prefix=\"train\").metrics)\n",
    "            # print(self._trainer.predict(self._trainer.eval_dataset, metric_key_prefix=\"eval\").metrics)\n",
    "            # print(self._trainer.predict(self.test_dataset, metric_key_prefix=\"test\").metrics)\n",
    "            \n",
    "            self._trainer.evaluate(eval_dataset=self._trainer.train_dataset, metric_key_prefix=\"train\")\n",
    "            self._trainer.evaluate(eval_dataset=test_dataset, metric_key_prefix=\"test\")\n",
    "            # return control_copy"
   ]
  },
  {
   "cell_type": "code",
   "execution_count": null,
   "metadata": {
    "execution": {
     "iopub.execute_input": "2023-03-01T16:57:16.806585Z",
     "iopub.status.busy": "2023-03-01T16:57:16.806232Z",
     "iopub.status.idle": "2023-03-01T16:57:16.824794Z",
     "shell.execute_reply": "2023-03-01T16:57:16.823577Z",
     "shell.execute_reply.started": "2023-03-01T16:57:16.806553Z"
    }
   },
   "outputs": [],
   "source": [
    "early_stopping = EarlyStoppingCallback(\n",
    "    early_stopping_patience=2,      # number of evaluations to wait before stopping\n",
    "    early_stopping_threshold=0.01,  # threshold for relative improvement in metric\n",
    ")"
   ]
  },
  {
   "cell_type": "markdown",
   "metadata": {},
   "source": [
    "-----\n",
    "## Hyperparameter Tuning: Learning Rate and Batch Size\n",
    "-----"
   ]
  },
  {
   "cell_type": "code",
   "execution_count": null,
   "metadata": {
    "execution": {
     "iopub.execute_input": "2023-02-28T11:11:08.364585Z",
     "iopub.status.busy": "2023-02-28T11:11:08.364188Z",
     "iopub.status.idle": "2023-02-28T11:11:08.407293Z",
     "shell.execute_reply": "2023-02-28T11:11:08.405882Z",
     "shell.execute_reply.started": "2023-02-28T11:11:08.364531Z"
    }
   },
   "outputs": [],
   "source": [
    "learning_rates = [0.002, 0.0002, 0.00002, 0.000002]\n",
    "batch_sizes = [32, 64]\n",
    "\n",
    "# Loop over the learning rates and batch sizes\n",
    "for lr in learning_rates:\n",
    "    for bs in batch_sizes:\n",
    "        # Update the learning rate in the TrainingArguments\n",
    "        training_args.learning_rate = lr\n",
    "        training_args.per_device_train_batch_size = bs\n",
    "        training_args.per_device_eval_batch_size = bs\n",
    "\n",
    "        # Create a new Trainer with the updated TrainingArguments\n",
    "        trainer = Trainer(\n",
    "            model=model,                         \n",
    "            args=training_args,                  \n",
    "            train_dataset=train_dataset,         \n",
    "            eval_dataset=validation_dataset,\n",
    "            tokenizer=tokenizer,\n",
    "            compute_metrics=compute_metrics,\n",
    "            callbacks=[early_stopping]\n",
    "        )\n",
    "\n",
    "        # Train the model and evaluate it on the validation set\n",
    "        trainer.train()\n",
    "        print(trainer.evaluate())"
   ]
  },
  {
   "cell_type": "markdown",
   "metadata": {},
   "source": [
    "-----\n",
    "## Choosing Best Hyperparameters and Training Final Model\n",
    "-----"
   ]
  },
  {
   "cell_type": "code",
   "execution_count": null,
   "metadata": {
    "execution": {
     "iopub.execute_input": "2023-03-01T16:57:16.826370Z",
     "iopub.status.busy": "2023-03-01T16:57:16.825933Z",
     "iopub.status.idle": "2023-03-01T16:57:16.850886Z",
     "shell.execute_reply": "2023-03-01T16:57:16.849829Z",
     "shell.execute_reply.started": "2023-03-01T16:57:16.826332Z"
    }
   },
   "outputs": [],
   "source": [
    "# ! rm -rd /kaggle/working/function-args-swap-bug-distilbert-model\n",
    "\n",
    "BEST_LEARNING_RATE = 2e-5\n",
    "BEST_BATCH_SIZE = 64\n",
    "training_args.learning_rate = BEST_LEARNING_RATE\n",
    "training_args.push_to_hub = False\n",
    "training_args.per_device_train_batch_size = BEST_BATCH_SIZE\n",
    "training_args.per_device_eval_batch_size = BEST_BATCH_SIZE\n",
    "\n",
    "\n",
    "trainer = Trainer(\n",
    "    model=model,                         \n",
    "    args=training_args,                  \n",
    "    train_dataset=train_dataset,         \n",
    "    eval_dataset=validation_dataset,\n",
    "    tokenizer=tokenizer,\n",
    "    compute_metrics=compute_metrics,\n",
    "    callbacks=[early_stopping]\n",
    ")\n",
    "\n",
    "trainer.add_callback(CustomCallback(trainer, test_dataset))"
   ]
  },
  {
   "cell_type": "code",
   "execution_count": null,
   "metadata": {
    "execution": {
     "iopub.status.busy": "2023-03-01T08:23:40.721816Z",
     "iopub.status.idle": "2023-03-01T08:23:40.722290Z",
     "shell.execute_reply": "2023-03-01T08:23:40.722069Z",
     "shell.execute_reply.started": "2023-03-01T08:23:40.722036Z"
    }
   },
   "outputs": [],
   "source": [
    "trainer.train()"
   ]
  },
  {
   "cell_type": "code",
   "execution_count": null,
   "metadata": {},
   "outputs": [],
   "source": [
    "# trainer.save(\"final-wbob-model\")"
   ]
  },
  {
   "cell_type": "markdown",
   "metadata": {},
   "source": [
    "----\n",
    "## Model Testing\n",
    "----"
   ]
  },
  {
   "cell_type": "code",
   "execution_count": null,
   "metadata": {
    "execution": {
     "iopub.execute_input": "2023-03-01T16:57:16.852789Z",
     "iopub.status.busy": "2023-03-01T16:57:16.852459Z"
    }
   },
   "outputs": [],
   "source": [
    "prediction = trainer.predict(test_dataset)"
   ]
  },
  {
   "cell_type": "code",
   "execution_count": null,
   "metadata": {},
   "outputs": [],
   "source": [
    "prediction"
   ]
  },
  {
   "cell_type": "code",
   "execution_count": null,
   "metadata": {},
   "outputs": [],
   "source": [
    "labels = prediction.label_ids\n",
    "labels"
   ]
  },
  {
   "cell_type": "code",
   "execution_count": null,
   "metadata": {
    "execution": {
     "iopub.execute_input": "2023-03-01T08:30:06.740702Z",
     "iopub.status.busy": "2023-03-01T08:30:06.740301Z",
     "iopub.status.idle": "2023-03-01T08:30:06.748516Z",
     "shell.execute_reply": "2023-03-01T08:30:06.747483Z",
     "shell.execute_reply.started": "2023-03-01T08:30:06.740663Z"
    }
   },
   "outputs": [],
   "source": [
    "preds = prediction.predictions.argmax(-1)\n",
    "preds"
   ]
  },
  {
   "cell_type": "code",
   "execution_count": null,
   "metadata": {
    "execution": {
     "iopub.execute_input": "2023-03-01T08:30:09.236185Z",
     "iopub.status.busy": "2023-03-01T08:30:09.235431Z",
     "iopub.status.idle": "2023-03-01T08:30:09.278863Z",
     "shell.execute_reply": "2023-03-01T08:30:09.277795Z",
     "shell.execute_reply.started": "2023-03-01T08:30:09.236138Z"
    }
   },
   "outputs": [],
   "source": [
    "f1_score(labels, preds)"
   ]
  },
  {
   "cell_type": "code",
   "execution_count": null,
   "metadata": {
    "execution": {
     "iopub.execute_input": "2023-03-01T08:30:12.069771Z",
     "iopub.status.busy": "2023-03-01T08:30:12.069383Z",
     "iopub.status.idle": "2023-03-01T08:30:13.140410Z",
     "shell.execute_reply": "2023-03-01T08:30:13.139294Z",
     "shell.execute_reply.started": "2023-03-01T08:30:12.069739Z"
    }
   },
   "outputs": [],
   "source": [
    "preds_probability = softmax(prediction.predictions)\n",
    "positive_preds_probability = preds_probability[:, 1]"
   ]
  },
  {
   "cell_type": "code",
   "execution_count": null,
   "metadata": {
    "execution": {
     "iopub.execute_input": "2023-03-01T08:30:13.704498Z",
     "iopub.status.busy": "2023-03-01T08:30:13.704145Z",
     "iopub.status.idle": "2023-03-01T08:30:13.931429Z",
     "shell.execute_reply": "2023-03-01T08:30:13.930540Z",
     "shell.execute_reply.started": "2023-03-01T08:30:13.704467Z"
    }
   },
   "outputs": [],
   "source": [
    "import sklearn.metrics as metrics\n",
    "\n",
    "fpr, tpr, threshold = metrics.roc_curve(labels, positive_preds_probability)\n",
    "roc_auc = metrics.auc(fpr, tpr)\n",
    "\n",
    "# method I: plt\n",
    "import matplotlib.pyplot as plt\n",
    "# plt.title('Receiver Operating Characteristic')\n",
    "plt.plot(fpr, tpr, 'b', label = 'AUC = %0.2f' % roc_auc)\n",
    "plt.legend(loc = 'lower right')\n",
    "plt.plot([0, 1], [0, 1],'r--')\n",
    "plt.xlim([0, 1])\n",
    "plt.ylim([0, 1])\n",
    "plt.ylabel('True Positive Rate')\n",
    "plt.xlabel('False Positive Rate')\n",
    "plt.show()"
   ]
  },
  {
   "cell_type": "code",
   "execution_count": null,
   "metadata": {
    "execution": {
     "iopub.execute_input": "2023-03-01T08:30:14.706962Z",
     "iopub.status.busy": "2023-03-01T08:30:14.706591Z",
     "iopub.status.idle": "2023-03-01T08:30:14.921612Z",
     "shell.execute_reply": "2023-03-01T08:30:14.920598Z",
     "shell.execute_reply.started": "2023-03-01T08:30:14.706931Z"
    }
   },
   "outputs": [],
   "source": [
    "precision, recall, threshold = metrics.precision_recall_curve(labels, positive_preds_probability)\n",
    "\n",
    "# plt.title('Precision-Recall Curve')\n",
    "plt.plot(recall, precision, 'b')\n",
    "plt.ylabel('Precision')\n",
    "plt.xlabel('Recall')\n",
    "\n",
    "plt.xlim([0, 1])\n",
    "plt.ylim([0, 1])\n",
    "\n",
    "plt.show()"
   ]
  },
  {
   "cell_type": "code",
   "execution_count": null,
   "metadata": {
    "execution": {
     "iopub.execute_input": "2023-03-01T08:30:31.474137Z",
     "iopub.status.busy": "2023-03-01T08:30:31.473744Z",
     "iopub.status.idle": "2023-03-01T08:30:31.497484Z",
     "shell.execute_reply": "2023-03-01T08:30:31.496154Z",
     "shell.execute_reply.started": "2023-03-01T08:30:31.474108Z"
    }
   },
   "outputs": [],
   "source": [
    "test_df"
   ]
  },
  {
   "cell_type": "code",
   "execution_count": null,
   "metadata": {
    "execution": {
     "iopub.execute_input": "2023-03-01T08:30:37.701627Z",
     "iopub.status.busy": "2023-03-01T08:30:37.701269Z",
     "iopub.status.idle": "2023-03-01T08:30:37.708054Z",
     "shell.execute_reply": "2023-03-01T08:30:37.706992Z",
     "shell.execute_reply.started": "2023-03-01T08:30:37.701596Z"
    }
   },
   "outputs": [],
   "source": [
    "test_df[\"predictions\"] = preds"
   ]
  },
  {
   "cell_type": "code",
   "execution_count": null,
   "metadata": {
    "execution": {
     "iopub.execute_input": "2023-03-01T08:30:39.029440Z",
     "iopub.status.busy": "2023-03-01T08:30:39.028548Z",
     "iopub.status.idle": "2023-03-01T08:30:39.051232Z",
     "shell.execute_reply": "2023-03-01T08:30:39.049705Z",
     "shell.execute_reply.started": "2023-03-01T08:30:39.029393Z"
    }
   },
   "outputs": [],
   "source": [
    "test_df"
   ]
  },
  {
   "cell_type": "code",
   "execution_count": null,
   "metadata": {
    "execution": {
     "iopub.execute_input": "2023-03-01T08:30:41.066597Z",
     "iopub.status.busy": "2023-03-01T08:30:41.065691Z",
     "iopub.status.idle": "2023-03-01T08:30:42.144064Z",
     "shell.execute_reply": "2023-03-01T08:30:42.142846Z",
     "shell.execute_reply.started": "2023-03-01T08:30:41.066565Z"
    }
   },
   "outputs": [],
   "source": [
    "positive_probabilities = softmax(prediction.predictions)[:, 1]\n",
    "positive_probabilities"
   ]
  },
  {
   "cell_type": "code",
   "execution_count": null,
   "metadata": {
    "execution": {
     "iopub.execute_input": "2023-03-01T08:30:42.146930Z",
     "iopub.status.busy": "2023-03-01T08:30:42.146518Z",
     "iopub.status.idle": "2023-03-01T08:30:42.172311Z",
     "shell.execute_reply": "2023-03-01T08:30:42.171323Z",
     "shell.execute_reply.started": "2023-03-01T08:30:42.146891Z"
    }
   },
   "outputs": [],
   "source": [
    "test_df[\"positive_probabilities\"] = positive_probabilities\n",
    "test_df"
   ]
  },
  {
   "cell_type": "code",
   "execution_count": null,
   "metadata": {
    "execution": {
     "iopub.execute_input": "2023-03-01T08:31:17.253811Z",
     "iopub.status.busy": "2023-03-01T08:31:17.253434Z",
     "iopub.status.idle": "2023-03-01T08:31:17.787575Z",
     "shell.execute_reply": "2023-03-01T08:31:17.786635Z",
     "shell.execute_reply.started": "2023-03-01T08:31:17.253782Z"
    }
   },
   "outputs": [],
   "source": [
    "test_df.to_csv(\"WBO_test_dataset_predictions.csv\", sep=\"\\t\", index=False)"
   ]
  },
  {
   "cell_type": "markdown",
   "metadata": {},
   "source": [
    "-----\n",
    "## Inference using pipeline\n",
    "-----"
   ]
  },
  {
   "cell_type": "code",
   "execution_count": null,
   "metadata": {
    "execution": {
     "iopub.execute_input": "2023-03-01T08:32:43.781508Z",
     "iopub.status.busy": "2023-03-01T08:32:43.781147Z",
     "iopub.status.idle": "2023-03-01T08:32:45.590147Z",
     "shell.execute_reply": "2023-03-01T08:32:45.589145Z",
     "shell.execute_reply.started": "2023-03-01T08:32:43.781477Z"
    }
   },
   "outputs": [],
   "source": [
    "from transformers import pipeline"
   ]
  },
  {
   "cell_type": "code",
   "execution_count": null,
   "metadata": {
    "execution": {
     "iopub.execute_input": "2023-03-01T09:09:52.852305Z",
     "iopub.status.busy": "2023-03-01T09:09:52.851925Z",
     "iopub.status.idle": "2023-03-01T09:09:55.756176Z",
     "shell.execute_reply": "2023-03-01T09:09:55.755140Z",
     "shell.execute_reply.started": "2023-03-01T09:09:52.852273Z"
    }
   },
   "outputs": [],
   "source": [
    "bug_classifier = pipeline(model=\"dipudl/wrong-binary-operator-bug-distilbert-model\")"
   ]
  },
  {
   "cell_type": "code",
   "execution_count": null,
   "metadata": {
    "execution": {
     "iopub.execute_input": "2023-03-01T09:09:55.759139Z",
     "iopub.status.busy": "2023-03-01T09:09:55.758735Z",
     "iopub.status.idle": "2023-03-01T09:09:56.354711Z",
     "shell.execute_reply": "2023-03-01T09:09:56.353623Z",
     "shell.execute_reply.started": "2023-03-01T09:09:55.759104Z"
    }
   },
   "outputs": [],
   "source": [
    "result = bug_classifier(list(test_df.full_text[:10]))\n",
    "result"
   ]
  }
 ],
 "metadata": {
  "kernelspec": {
   "display_name": "Python 3.10.12 64-bit",
   "language": "python",
   "name": "python3"
  },
  "language_info": {
   "codemirror_mode": {
    "name": "ipython",
    "version": 3
   },
   "file_extension": ".py",
   "mimetype": "text/x-python",
   "name": "python",
   "nbconvert_exporter": "python",
   "pygments_lexer": "ipython3",
   "version": "3.10.12"
  },
  "vscode": {
   "interpreter": {
    "hash": "916dbcbb3f70747c44a77c7bcd40155683ae19c65e1c03b4aa3499c5328201f1"
   }
  }
 },
 "nbformat": 4,
 "nbformat_minor": 4
}
