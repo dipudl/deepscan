{
 "cells": [
  {
   "cell_type": "code",
   "execution_count": 1,
   "id": "2b7c0480",
   "metadata": {},
   "outputs": [],
   "source": [
    "import os\n",
    "import clang\n",
    "from clang.cindex import *\n",
    "from copy import deepcopy\n",
    "import re\n",
    "import time"
   ]
  },
  {
   "cell_type": "code",
   "execution_count": 2,
   "id": "c4ebe466",
   "metadata": {},
   "outputs": [],
   "source": [
    "Config.set_library_file(\"/home/dipu/anaconda3/lib/python3.9/site-packages/clang/native/libclang.so\")"
   ]
  },
  {
   "cell_type": "code",
   "execution_count": 3,
   "id": "3fd1e31a",
   "metadata": {},
   "outputs": [],
   "source": [
    "def generate_ast(code):\n",
    "    with open('evaluation.c', 'w') as f:\n",
    "        f.write(code)\n",
    "    \n",
    "    index = clang.cindex.Index.create()\n",
    "    root_cursor = index.parse('evaluation.c').cursor\n",
    "\n",
    "    return root_cursor"
   ]
  },
  {
   "cell_type": "code",
   "execution_count": 8,
   "id": "9788874f",
   "metadata": {},
   "outputs": [],
   "source": [
    "def generate_expression_details(root_cursor):\n",
    "    # regex for matching string containing numbers, capital and small letters, operators (except ternary and assignment), parentheses and comma only\n",
    "    expression_pattern = re.compile(r\"^[a-zA-Z0-9_().,+\\-*/%<>=!&|~\\^]+$\")\n",
    "\n",
    "    # regex for valid multiplication operator or & operator (not pointer)\n",
    "    left_pattern = re.compile(r\"^[a-zA-Z0-9_)]+$\")\n",
    "    right_pattern = re.compile(r\"^[a-zA-Z0-9_(!~]+$\")\n",
    "\n",
    "    # operator list (except * &)\n",
    "    operator_list = [\"+\", \"-\", \"/\", \"%\", \"++\", \"--\", \"<\", \"<=\", \">\", \">=\", \"==\", \"!=\", \"&&\", \"||\", \"!\", \"|\", \"<<\", \">>\", \"~\", \"^\"]\n",
    "\n",
    "\n",
    "    def is_required_expression(node):\n",
    "        # avoiding equals to ('=') operator\n",
    "        if list(node.get_children())[0].kind == CursorKind.DECL_REF_EXPR:\n",
    "            return False\n",
    "\n",
    "        tokens = list(node.get_tokens())\n",
    "        operator_set = set()\n",
    "\n",
    "        for i in range(len(tokens)):\n",
    "            spell = str(tokens[i].spelling)\n",
    "            if (not expression_pattern.match(spell)) or (spell == \"=\"):\n",
    "                return False\n",
    "\n",
    "            if (spell in operator_list) or \\\n",
    "            ((spell == \"*\" or spell == \"&\") and 0 < i < len(tokens)-1 and \\\n",
    "            left_pattern.match(str(tokens[i-1].spelling)) and \\\n",
    "            right_pattern.match(str(tokens[i+1].spelling))):\n",
    "                operator_set.add(spell)\n",
    "\n",
    "\n",
    "        # expression with atleast two different operators is needed\n",
    "        if len(operator_set) <= 1:\n",
    "            return False\n",
    "        elif len(operator_set) == 2:\n",
    "            # excluding operations having only '+' and '-' as both have same precedence\n",
    "            if ('+' in operator_set) and ('-' in operator_set):\n",
    "                return False\n",
    "            # excluding operations having only '*' and '/' as both have same precedence\n",
    "            elif ('*' in operator_set) and ('/' in operator_set):\n",
    "                return False\n",
    "\n",
    "        return True\n",
    "\n",
    "\n",
    "    def get_binary_expressions(node, exp_details_list):\n",
    "        try:\n",
    "            if (node.kind == CursorKind.BINARY_OPERATOR or node.kind == CursorKind.UNARY_OPERATOR)\\\n",
    "                and is_required_expression(node):\n",
    "                tokens = list(node.get_tokens())\n",
    "                expression = [token.spelling for token in tokens]\n",
    "                loc = node.extent\n",
    "                exp_details_list.append(\n",
    "                    [\" \".join(expression), str(loc.start.line), str(loc.start.column), str(loc.end.line), str(loc.end.column)]\n",
    "                )\n",
    "            else:\n",
    "                for child in node.get_children():\n",
    "                    get_binary_expressions(child, exp_details_list)\n",
    "\n",
    "        except Exception as e:\n",
    "            print(\"***Exception***:\", e)\n",
    "\n",
    "\n",
    "    exp_details_list = []\n",
    "    get_binary_expressions(root_cursor, exp_details_list)\n",
    "    return exp_details_list"
   ]
  },
  {
   "cell_type": "code",
   "execution_count": 17,
   "id": "b8f1124a",
   "metadata": {},
   "outputs": [],
   "source": [
    "code = \"\"\"\n",
    "#include <stdio.h>\n",
    "\n",
    "int main() {\n",
    "    int a = 5, b = 2, c, d=7;\n",
    "\n",
    "    // Arithmetic operators\n",
    "    c = a / ((b * a) % b);\n",
    "    d = a * b + c * d;\n",
    "\n",
    "    return 0;\n",
    "}\n",
    "\n",
    "\"\"\".strip()"
   ]
  },
  {
   "cell_type": "code",
   "execution_count": 18,
   "id": "3055e14e",
   "metadata": {},
   "outputs": [
    {
     "data": {
      "text/plain": [
       "[['a / ( ( b * a ) % b )', '7', '9', '7', '26'],\n",
       " ['a * b + c * d', '8', '9', '8', '22']]"
      ]
     },
     "execution_count": 18,
     "metadata": {},
     "output_type": "execute_result"
    }
   ],
   "source": [
    "ast_root_cursor = generate_ast(code)\n",
    "generate_expression_details(ast_root_cursor)"
   ]
  },
  {
   "cell_type": "code",
   "execution_count": null,
   "id": "01cebe7a",
   "metadata": {},
   "outputs": [],
   "source": []
  }
 ],
 "metadata": {
  "kernelspec": {
   "display_name": "Python 3 (ipykernel)",
   "language": "python",
   "name": "python3"
  },
  "language_info": {
   "codemirror_mode": {
    "name": "ipython",
    "version": 3
   },
   "file_extension": ".py",
   "mimetype": "text/x-python",
   "name": "python",
   "nbconvert_exporter": "python",
   "pygments_lexer": "ipython3",
   "version": "3.9.12"
  }
 },
 "nbformat": 4,
 "nbformat_minor": 5
}
